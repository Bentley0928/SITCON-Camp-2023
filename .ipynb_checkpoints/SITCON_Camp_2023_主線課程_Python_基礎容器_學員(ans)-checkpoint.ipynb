{
 "cells": [
  {
   "cell_type": "markdown",
   "metadata": {
    "id": "i8A-oW4U0aQC"
   },
   "source": [
    "# Python 基礎容器\n",
    "SITCON Camp 2023 主線課程<br>\n",
    "主講：Hugo 王修佑\n",
    "\n",
    "> List<br>\n",
    "> Tuple<br>\n",
    "> Set<br>\n",
    "> Dictionary<br>"
   ]
  },
  {
   "cell_type": "markdown",
   "metadata": {
    "id": "lfQ2ON9x0aQI"
   },
   "source": [
    "## Data Structure\n",
    "\n",
    " - Data Structure：以不同形式將資料儲存於記憶體\n",
    " - `List`、`Tuple`、`Set`、`Dictionary`，為什麼要這麼多種結構?"
   ]
  },
  {
   "cell_type": "markdown",
   "metadata": {
    "id": "-R7hyGvo0aQJ"
   },
   "source": [
    "### List"
   ]
  },
  {
   "cell_type": "markdown",
   "metadata": {
    "id": "kOzHTQKg0aQJ"
   },
   "source": [
    "#### Create List\n",
    " - [ ]、list()"
   ]
  },
  {
   "cell_type": "code",
   "execution_count": 1,
   "metadata": {
    "id": "_kym6Uf60aQJ"
   },
   "outputs": [],
   "source": [
    "a_list = []\n",
    "b_list = list()\n",
    "c_list = [1, 'a', 2.3, True]"
   ]
  },
  {
   "cell_type": "code",
   "execution_count": 58,
   "metadata": {
    "colab": {
     "base_uri": "https://localhost:8080/"
    },
    "id": "KpQznaVy0aQK",
    "outputId": "7617124e-9e6e-49a7-f18c-489794c461b4"
   },
   "outputs": [
    {
     "data": {
      "text/plain": [
       "list"
      ]
     },
     "execution_count": 58,
     "metadata": {},
     "output_type": "execute_result"
    }
   ],
   "source": [
    "type(a_list)"
   ]
  },
  {
   "cell_type": "markdown",
   "metadata": {
    "id": "lSfqJiTLaYqJ"
   },
   "source": [
    "#### General Skill: index & slice"
   ]
  },
  {
   "cell_type": "code",
   "execution_count": 59,
   "metadata": {
    "colab": {
     "base_uri": "https://localhost:8080/"
    },
    "id": "hvIPKsrqaYqJ",
    "outputId": "d3a96505-0d48-4070-fbe9-856311c65717"
   },
   "outputs": [
    {
     "data": {
      "text/plain": [
       "['a', 'b', 'c', 'd', 'e', 'f']"
      ]
     },
     "execution_count": 59,
     "metadata": {},
     "output_type": "execute_result"
    }
   ],
   "source": [
    "d_list = ['a', 'b', 'c', 'd', 'e', 'f']\n",
    "d_list"
   ]
  },
  {
   "cell_type": "markdown",
   "metadata": {
    "id": "_KI9rYlKaYqJ"
   },
   "source": [
    "|  |  |  |  |  |  |  |\n",
    "| -------- | -------- | -------- | -------- | -------- | -------- | -------- |\n",
    "| index (左→右) | 0 | 1 | 2 | 3 | 4 | 5 |\n",
    "| `d_list` | a | b | c | d | e | f |\n",
    "| index (右→左) | -6 | -5 | -4 | -3 | -2 | -1 |"
   ]
  },
  {
   "cell_type": "markdown",
   "metadata": {
    "id": "WWBS7KFIaYqJ"
   },
   "source": [
    "`list_name[start:end:step]`"
   ]
  },
  {
   "cell_type": "code",
   "execution_count": 60,
   "metadata": {
    "colab": {
     "base_uri": "https://localhost:8080/",
     "height": 35
    },
    "id": "39gaK8nhaYqJ",
    "outputId": "d42b6866-66ad-4454-9184-87d424f66a3d"
   },
   "outputs": [
    {
     "data": {
      "application/vnd.google.colaboratory.intrinsic+json": {
       "type": "string"
      },
      "text/plain": [
       "'e'"
      ]
     },
     "execution_count": 60,
     "metadata": {},
     "output_type": "execute_result"
    }
   ],
   "source": [
    "d_list[4] # 'e'"
   ]
  },
  {
   "cell_type": "code",
   "execution_count": 61,
   "metadata": {
    "colab": {
     "base_uri": "https://localhost:8080/"
    },
    "id": "m_YIIGNHaYqJ",
    "outputId": "a9f62851-f154-49e3-a4c4-d6fa2b0c5743"
   },
   "outputs": [
    {
     "data": {
      "text/plain": [
       "['a', 'b']"
      ]
     },
     "execution_count": 61,
     "metadata": {},
     "output_type": "execute_result"
    }
   ],
   "source": [
    "d_list[0:2] # ['a', 'b']"
   ]
  },
  {
   "cell_type": "code",
   "execution_count": 62,
   "metadata": {
    "colab": {
     "base_uri": "https://localhost:8080/"
    },
    "id": "5Mv12QpKaYqK",
    "outputId": "e64cfd30-2575-40a6-e8f3-b9c64f928028"
   },
   "outputs": [
    {
     "data": {
      "text/plain": [
       "['d', 'e', 'f']"
      ]
     },
     "execution_count": 62,
     "metadata": {},
     "output_type": "execute_result"
    }
   ],
   "source": [
    "d_list[3:] # ['d', 'e', 'f']"
   ]
  },
  {
   "cell_type": "code",
   "execution_count": 63,
   "metadata": {
    "colab": {
     "base_uri": "https://localhost:8080/"
    },
    "id": "4ovlcVvBaYqK",
    "outputId": "8b895a91-0664-4ff0-ebea-dafdf6232147"
   },
   "outputs": [
    {
     "data": {
      "text/plain": [
       "['a', 'b', 'c', 'd']"
      ]
     },
     "execution_count": 63,
     "metadata": {},
     "output_type": "execute_result"
    }
   ],
   "source": [
    "d_list[:4] # ['a', 'b', 'c', 'd']"
   ]
  },
  {
   "cell_type": "code",
   "execution_count": 64,
   "metadata": {
    "colab": {
     "base_uri": "https://localhost:8080/"
    },
    "id": "CTovnRUlaYqK",
    "outputId": "0e914797-5d62-4f92-f378-acee6ba6ce01"
   },
   "outputs": [
    {
     "data": {
      "text/plain": [
       "['b', 'd']"
      ]
     },
     "execution_count": 64,
     "metadata": {},
     "output_type": "execute_result"
    }
   ],
   "source": [
    "d_list[1:4:2] # ['b', 'd']"
   ]
  },
  {
   "cell_type": "markdown",
   "metadata": {
    "id": "J-XrXCLa0aQK"
   },
   "source": [
    "#### Add Value to List"
   ]
  },
  {
   "cell_type": "markdown",
   "metadata": {
    "id": "xyiVFw950aQK"
   },
   "source": [
    "append(element)"
   ]
  },
  {
   "cell_type": "code",
   "execution_count": 65,
   "metadata": {
    "colab": {
     "base_uri": "https://localhost:8080/"
    },
    "id": "uSMu02s_0aQK",
    "outputId": "aafc1415-2300-4f09-bd27-b0c7199fe410"
   },
   "outputs": [
    {
     "data": {
      "text/plain": [
       "['test']"
      ]
     },
     "execution_count": 65,
     "metadata": {},
     "output_type": "execute_result"
    }
   ],
   "source": [
    "a_list.append('test')\n",
    "a_list # ['test']"
   ]
  },
  {
   "cell_type": "code",
   "execution_count": 66,
   "metadata": {
    "colab": {
     "base_uri": "https://localhost:8080/"
    },
    "id": "e7Z0LZg-0aQL",
    "outputId": "add323a5-b9d0-425f-fa86-3733b344f0ad"
   },
   "outputs": [
    {
     "data": {
      "text/plain": [
       "1"
      ]
     },
     "execution_count": 66,
     "metadata": {},
     "output_type": "execute_result"
    }
   ],
   "source": [
    "len(a_list)"
   ]
  },
  {
   "cell_type": "markdown",
   "metadata": {
    "id": "4QLrsFkP0aQL"
   },
   "source": [
    "extend(List)"
   ]
  },
  {
   "cell_type": "code",
   "execution_count": 67,
   "metadata": {
    "colab": {
     "base_uri": "https://localhost:8080/"
    },
    "id": "xegPJq4O0aQL",
    "outputId": "ccc62c80-c3e7-4205-d863-d056317bdc0a"
   },
   "outputs": [
    {
     "data": {
      "text/plain": [
       "['test', 1, 'a', 2.3, True]"
      ]
     },
     "execution_count": 67,
     "metadata": {},
     "output_type": "execute_result"
    }
   ],
   "source": [
    "a_list.extend([1, 'a', 2.3, True])\n",
    "a_list # ['test', 1, 'a', 2.3, True]"
   ]
  },
  {
   "cell_type": "code",
   "execution_count": 68,
   "metadata": {
    "colab": {
     "base_uri": "https://localhost:8080/"
    },
    "id": "pDD6Mln-0aQL",
    "outputId": "6feb184f-7ce8-4f75-dda2-92d697763faa"
   },
   "outputs": [
    {
     "data": {
      "text/plain": [
       "5"
      ]
     },
     "execution_count": 68,
     "metadata": {},
     "output_type": "execute_result"
    }
   ],
   "source": [
    "len(a_list)"
   ]
  },
  {
   "cell_type": "markdown",
   "metadata": {
    "id": "YzkTkOx00aQM"
   },
   "source": [
    "append(List)"
   ]
  },
  {
   "cell_type": "code",
   "execution_count": 69,
   "metadata": {
    "colab": {
     "base_uri": "https://localhost:8080/"
    },
    "id": "P3zLpLxm0aQM",
    "outputId": "8663e04c-952b-4e34-b214-bb34252db917"
   },
   "outputs": [
    {
     "data": {
      "text/plain": [
       "['test', 1, 'a', 2.3, True, [1, 'a', 2.3, True]]"
      ]
     },
     "execution_count": 69,
     "metadata": {},
     "output_type": "execute_result"
    }
   ],
   "source": [
    "a_list.append([1, 'a', 2.3, True])\n",
    "a_list # ['test', 1, 'a', 2.3, True, [1, 'a', 2.3, True]]"
   ]
  },
  {
   "cell_type": "code",
   "execution_count": 70,
   "metadata": {
    "colab": {
     "base_uri": "https://localhost:8080/"
    },
    "id": "YzOCjFih0aQM",
    "outputId": "34c23e59-dec8-4243-f451-d8b361e6fb9a"
   },
   "outputs": [
    {
     "data": {
      "text/plain": [
       "4"
      ]
     },
     "execution_count": 70,
     "metadata": {},
     "output_type": "execute_result"
    }
   ],
   "source": [
    "len(a_list[5])"
   ]
  },
  {
   "cell_type": "markdown",
   "metadata": {
    "id": "ZFB7or2w0aQN"
   },
   "source": [
    "insert(index, element)"
   ]
  },
  {
   "cell_type": "code",
   "execution_count": 71,
   "metadata": {
    "colab": {
     "base_uri": "https://localhost:8080/"
    },
    "id": "4xIW4Qf70aQN",
    "outputId": "4b0799b4-408a-444d-9c37-c8bec741845c"
   },
   "outputs": [
    {
     "data": {
      "text/plain": [
       "['test', 1, 'a', 2.3, '我', True, [1, 'a', 2.3, True]]"
      ]
     },
     "execution_count": 71,
     "metadata": {},
     "output_type": "execute_result"
    }
   ],
   "source": [
    "a_list.insert(4,'我')\n",
    "a_list # ['test', 1, 'a', 2.3, '我', True, [1, 'a', 2.3, True]]"
   ]
  },
  {
   "cell_type": "markdown",
   "metadata": {
    "id": "JZYP-F-00aQM"
   },
   "source": [
    "list的加和乘"
   ]
  },
  {
   "cell_type": "code",
   "execution_count": 72,
   "metadata": {
    "colab": {
     "base_uri": "https://localhost:8080/"
    },
    "id": "-dGhIT5Y0aQM",
    "outputId": "befb9102-cc88-4306-ed51-802232c57582"
   },
   "outputs": [
    {
     "name": "stdout",
     "output_type": "stream",
     "text": [
      "a_list: ['test', 1, 'a', 2.3, '我', True, [1, 'a', 2.3, True]]\n",
      "c_list: [1, 'a', 2.3, True]\n",
      "a_list: ['test', 1, 'a', 2.3, '我', True, [1, 'a', 2.3, True], 1, 'a', 2.3, True]\n"
     ]
    }
   ],
   "source": [
    "print(f'a_list: {a_list}')\n",
    "print(f'c_list: {c_list}')\n",
    "\n",
    "a_list = a_list + c_list\n",
    "print(f'a_list: {a_list}')"
   ]
  },
  {
   "cell_type": "code",
   "execution_count": 25,
   "metadata": {
    "colab": {
     "base_uri": "https://localhost:8080/"
    },
    "id": "P53cgU_r0aQM",
    "outputId": "6b69208b-166a-43a3-8f6a-a8093d672439"
   },
   "outputs": [
    {
     "data": {
      "text/plain": [
       "[0, 0, 0, 0, 0]"
      ]
     },
     "execution_count": 25,
     "metadata": {},
     "output_type": "execute_result"
    }
   ],
   "source": [
    "zero = [0]\n",
    "zero = zero * 5\n",
    "zero"
   ]
  },
  {
   "cell_type": "markdown",
   "metadata": {
    "id": "u6VoxyjB0aQN"
   },
   "source": [
    "#### Practice\n",
    "在 [1,2,3,4,5] 中的偶數位置插入字串 'even' 變成 ['even', 1, 'even', 2, 'even', 3, 'even', 4, 'even', 5]"
   ]
  },
  {
   "cell_type": "code",
   "execution_count": null,
   "metadata": {
    "id": "leMBloj50aQN"
   },
   "outputs": [],
   "source": [
    "# 錯誤寫法\n",
    "numbers = [1,2,3,4,5]\n",
    "for index in range(len(numbers)):\n",
    "    print(index)\n",
    "    if index % 2 == 0:\n",
    "        numbers.insert(index, 'even')\n",
    "numbers"
   ]
  },
  {
   "cell_type": "code",
   "execution_count": 28,
   "metadata": {
    "colab": {
     "base_uri": "https://localhost:8080/"
    },
    "id": "-cx7cemV0aQN",
    "outputId": "5052977f-bb75-42a9-d2f3-fc509e9962cf"
   },
   "outputs": [
    {
     "data": {
      "text/plain": [
       "['even', 1, 'even', 2, 'even', 3, 'even', 4, 'even', 5]"
      ]
     },
     "execution_count": 28,
     "metadata": {},
     "output_type": "execute_result"
    }
   ],
   "source": [
    "# 方法1\n",
    "numbers = [1,2,3,4,5]\n",
    "target_list = []\n",
    "for number in numbers:\n",
    "    target_list.append('even')\n",
    "    target_list.append(number)\n",
    "target_list"
   ]
  },
  {
   "cell_type": "code",
   "execution_count": 31,
   "metadata": {
    "colab": {
     "base_uri": "https://localhost:8080/"
    },
    "id": "YV7H5pwe0aQO",
    "outputId": "284a407e-cd05-4607-96ae-d13bcdf4e573"
   },
   "outputs": [
    {
     "data": {
      "text/plain": [
       "['even', 1, 'even', 2, 'even', 3, 'even', 4, 'even', 5]"
      ]
     },
     "execution_count": 31,
     "metadata": {},
     "output_type": "execute_result"
    }
   ],
   "source": [
    "# 方法2\n",
    "numbers = [1,2,3,4,5]\n",
    "for index in range(9):\n",
    "    if index % 2 == 0:\n",
    "        numbers.insert(index, 'even')\n",
    "numbers"
   ]
  },
  {
   "cell_type": "code",
   "execution_count": 32,
   "metadata": {
    "colab": {
     "base_uri": "https://localhost:8080/"
    },
    "id": "ys6KH-G70aQO",
    "outputId": "705c16b6-cd79-463a-9f4f-a2855e63cf24"
   },
   "outputs": [
    {
     "data": {
      "text/plain": [
       "['even', 1, 'even', 2, 'even', 3, 'even', 4, 'even', 5]"
      ]
     },
     "execution_count": 32,
     "metadata": {},
     "output_type": "execute_result"
    }
   ],
   "source": [
    "# 方法3\n",
    "numbers = [1,2,3,4,5]\n",
    "for index in range(len(numbers)+len(numbers)-1):\n",
    "    if index % 2 == 0:\n",
    "        numbers.insert(index, 'even')\n",
    "numbers"
   ]
  },
  {
   "cell_type": "markdown",
   "metadata": {
    "id": "x3PvZBYH0aQO"
   },
   "source": [
    "#### It's your turn🫵\n",
    "再寫出兩種不同於方法1，方法2，方法3的其他方法"
   ]
  },
  {
   "cell_type": "code",
   "execution_count": 43,
   "metadata": {
    "colab": {
     "base_uri": "https://localhost:8080/"
    },
    "id": "uSTtE-ja0aQO",
    "outputId": "04809819-6c38-4be8-8aab-ab49e1381f1b"
   },
   "outputs": [
    {
     "name": "stdout",
     "output_type": "stream",
     "text": [
      "['even', 1, 'even', 2, 'even', 3, 4, 5]\n"
     ]
    }
   ],
   "source": [
    "# your code\n",
    "numbers = [1,2,3,4,5]\n",
    "for ______ in range(______):"
   ]
  },
  {
   "cell_type": "code",
   "execution_count": 35,
   "metadata": {
    "colab": {
     "base_uri": "https://localhost:8080/"
    },
    "id": "ll3mvVO-0aQO",
    "outputId": "e1e0957f-af58-4743-ae1d-2ad187f5c778"
   },
   "outputs": [
    {
     "data": {
      "text/plain": [
       "['even', 2, 'even', 4, 'even']"
      ]
     },
     "execution_count": 35,
     "metadata": {},
     "output_type": "execute_result"
    }
   ],
   "source": [
    "# your code\n",
    "numbers = [1,2,3,4,5]\n",
    "for ______ in range(______):"
   ]
  },
  {
   "cell_type": "markdown",
   "metadata": {
    "id": "l29_ztSn0aQP"
   },
   "source": [
    "#### Modify Value in List"
   ]
  },
  {
   "cell_type": "markdown",
   "metadata": {
    "id": "yvOKzUWwaYqP"
   },
   "source": [
    "list[index] = new_element"
   ]
  },
  {
   "cell_type": "code",
   "execution_count": 73,
   "metadata": {
    "colab": {
     "base_uri": "https://localhost:8080/"
    },
    "id": "zAuVlFz_0aQP",
    "outputId": "a3b14b63-ec9d-4da7-93af-4b7a76fc8dd7"
   },
   "outputs": [
    {
     "data": {
      "text/plain": [
       "['test', 1, 'a', 2.3, '我', True, [1, 'a', 2.3, True], 1, 'False', 2.3, True]"
      ]
     },
     "execution_count": 73,
     "metadata": {},
     "output_type": "execute_result"
    }
   ],
   "source": [
    "# a_list: ['test', 1, 'a', 2.3, '我', True, [1, 'a', 2.3, True], 1, 'a', 2.3, True]\n",
    "a_list[8] = 'False'\n",
    "a_list # ['test', 1, 'a', 2.3, '我', True, [1, 'a', 2.3, True], 1, False, 2.3, True]"
   ]
  },
  {
   "cell_type": "markdown",
   "metadata": {
    "id": "wPWTKcIv0aQP"
   },
   "source": [
    "#### Delete Value in List"
   ]
  },
  {
   "cell_type": "markdown",
   "metadata": {
    "id": "FWofIXSb0aQP"
   },
   "source": [
    "remove(element)"
   ]
  },
  {
   "cell_type": "code",
   "execution_count": 74,
   "metadata": {
    "colab": {
     "base_uri": "https://localhost:8080/"
    },
    "id": "ldigrLTa0aQP",
    "outputId": "dc10d3c4-bab0-4812-f9ba-0fcade0680b6"
   },
   "outputs": [
    {
     "data": {
      "text/plain": [
       "['test', 'a', 2.3, '我', True, [1, 'a', 2.3, True], 1, 'False', 2.3, True]"
      ]
     },
     "execution_count": 74,
     "metadata": {},
     "output_type": "execute_result"
    }
   ],
   "source": [
    "a_list.remove(1)\n",
    "a_list # ['test', 'a', 2.3, '我', True, [1, 'a', 2.3, True], 1, False, 2.3, True]"
   ]
  },
  {
   "cell_type": "code",
   "execution_count": 51,
   "metadata": {
    "colab": {
     "base_uri": "https://localhost:8080/",
     "height": 169
    },
    "id": "_cod3IAV0aQP",
    "outputId": "929194c6-fc68-4d00-fabf-1e4a4f6f8881"
   },
   "outputs": [
    {
     "ename": "ValueError",
     "evalue": "ignored",
     "output_type": "error",
     "traceback": [
      "\u001b[0;31m---------------------------------------------------------------------------\u001b[0m",
      "\u001b[0;31mValueError\u001b[0m                                Traceback (most recent call last)",
      "\u001b[0;32m<ipython-input-51-fc5911239303>\u001b[0m in \u001b[0;36m<cell line: 1>\u001b[0;34m()\u001b[0m\n\u001b[0;32m----> 1\u001b[0;31m \u001b[0ma_list\u001b[0m\u001b[0;34m.\u001b[0m\u001b[0mremove\u001b[0m\u001b[0;34m(\u001b[0m\u001b[0;36m5\u001b[0m\u001b[0;34m)\u001b[0m\u001b[0;34m\u001b[0m\u001b[0;34m\u001b[0m\u001b[0m\n\u001b[0m",
      "\u001b[0;31mValueError\u001b[0m: list.remove(x): x not in list"
     ]
    }
   ],
   "source": [
    "a_list.remove(5)\n",
    "#這是無效的 因為remove裡面放的是element"
   ]
  },
  {
   "cell_type": "markdown",
   "metadata": {
    "id": "Z0Ieu7Fj0aQQ"
   },
   "source": [
    "del List[index]"
   ]
  },
  {
   "cell_type": "code",
   "execution_count": 75,
   "metadata": {
    "colab": {
     "base_uri": "https://localhost:8080/"
    },
    "id": "8AaTpEyb0aQQ",
    "outputId": "58e99d48-2b62-457e-a9bb-0ef2d26f1d52"
   },
   "outputs": [
    {
     "data": {
      "text/plain": [
       "['test', 'a', 2.3, '我', [1, 'a', 2.3, True], 1, 'False', 2.3, True]"
      ]
     },
     "execution_count": 75,
     "metadata": {},
     "output_type": "execute_result"
    }
   ],
   "source": [
    "del a_list[4]\n",
    "a_list # ['test', 'a', 2.3, '我', [1, 'a', 2.3, True], 1, False, 2.3, True]"
   ]
  },
  {
   "cell_type": "code",
   "execution_count": 76,
   "metadata": {
    "colab": {
     "base_uri": "https://localhost:8080/",
     "height": 169
    },
    "id": "2r41KzBZ0aQQ",
    "outputId": "8feb740a-4781-4d99-b5ad-e7923489c017"
   },
   "outputs": [
    {
     "ename": "IndexError",
     "evalue": "ignored",
     "output_type": "error",
     "traceback": [
      "\u001b[0;31m---------------------------------------------------------------------------\u001b[0m",
      "\u001b[0;31mIndexError\u001b[0m                                Traceback (most recent call last)",
      "\u001b[0;32m<ipython-input-76-6dd500e3b2a9>\u001b[0m in \u001b[0;36m<cell line: 1>\u001b[0;34m()\u001b[0m\n\u001b[0;32m----> 1\u001b[0;31m \u001b[0;32mdel\u001b[0m \u001b[0ma_list\u001b[0m\u001b[0;34m[\u001b[0m\u001b[0;36m10\u001b[0m\u001b[0;34m]\u001b[0m\u001b[0;34m\u001b[0m\u001b[0;34m\u001b[0m\u001b[0m\n\u001b[0m",
      "\u001b[0;31mIndexError\u001b[0m: list assignment index out of range"
     ]
    }
   ],
   "source": [
    "del a_list[10]"
   ]
  },
  {
   "cell_type": "markdown",
   "metadata": {
    "id": "Bj8C1EK50aQQ"
   },
   "source": [
    "pop(index)"
   ]
  },
  {
   "cell_type": "markdown",
   "metadata": {
    "id": "7IVHaBywaYqQ"
   },
   "source": [
    "<img src=\"https://yu-shin.github.io/posts/8069546e/stack1.jpg\" width=400px>\n",
    "\n",
    "取自 [Stack | Nicholas Blogger](https://yu-shin.github.io/posts/8069546e/)\n"
   ]
  },
  {
   "cell_type": "code",
   "execution_count": 79,
   "metadata": {
    "colab": {
     "base_uri": "https://localhost:8080/"
    },
    "id": "ylEYIDY80aQQ",
    "outputId": "35a0c4f7-c4fd-40e4-92c1-6ba1f7de958f"
   },
   "outputs": [
    {
     "name": "stdout",
     "output_type": "stream",
     "text": [
      "2.3\n",
      "['test', 'a', '我', [1, 'a', 2.3, True], 1, 'False', 2.3, True]\n"
     ]
    }
   ],
   "source": [
    "element = a_list.pop(a_list.index(2.3))\n",
    "print(element) # 2.3\n",
    "print(a_list) # ['test', 'a', '我', [1, 'a', 2.3, True], 1, False, 2.3, True]"
   ]
  },
  {
   "cell_type": "code",
   "execution_count": 80,
   "metadata": {
    "colab": {
     "base_uri": "https://localhost:8080/"
    },
    "id": "dIzd7inN0aQQ",
    "outputId": "ddaca62c-8841-43ce-a032-183951d9524b"
   },
   "outputs": [
    {
     "name": "stdout",
     "output_type": "stream",
     "text": [
      "True\n",
      "['test', 'a', '我', [1, 'a', 2.3, True], 1, 'False', 2.3]\n"
     ]
    }
   ],
   "source": [
    "element = a_list.pop()\n",
    "print(element) # True\n",
    "print(a_list) # ['test', 'a', '我', [1, 'a', 2.3, True], 1, False, 2.3]"
   ]
  },
  {
   "cell_type": "code",
   "execution_count": 81,
   "metadata": {
    "colab": {
     "base_uri": "https://localhost:8080/"
    },
    "id": "4hlzkzbA0aQR",
    "outputId": "a3547557-f441-446c-9d2a-99d089e086e3"
   },
   "outputs": [
    {
     "data": {
      "text/plain": [
       "['test', 'a', '我', [1, 'a', 2.3, True], 1, 'False']"
      ]
     },
     "execution_count": 81,
     "metadata": {},
     "output_type": "execute_result"
    }
   ],
   "source": [
    "a_list.pop()\n",
    "a_list # ['test', 'a', '我', [1, 'a', 2.3, True], 1, False]"
   ]
  },
  {
   "cell_type": "markdown",
   "metadata": {
    "id": "72tVGU4G0aQR"
   },
   "source": [
    "#### Pick Value from List"
   ]
  },
  {
   "cell_type": "markdown",
   "metadata": {
    "id": "FSzbGe0NaYqQ"
   },
   "source": [
    "index"
   ]
  },
  {
   "cell_type": "code",
   "execution_count": 82,
   "metadata": {
    "colab": {
     "base_uri": "https://localhost:8080/"
    },
    "id": "O8qMyPzW0aQR",
    "outputId": "77116f22-a0c0-4d10-e663-affca2fcb6b9"
   },
   "outputs": [
    {
     "data": {
      "text/plain": [
       "str"
      ]
     },
     "execution_count": 82,
     "metadata": {},
     "output_type": "execute_result"
    }
   ],
   "source": [
    "type(a_list[2])"
   ]
  },
  {
   "cell_type": "code",
   "execution_count": 84,
   "metadata": {
    "colab": {
     "base_uri": "https://localhost:8080/",
     "height": 35
    },
    "id": "4j_0FFF-0aQR",
    "outputId": "ca5b9902-9112-4859-9332-5e66e81ea050"
   },
   "outputs": [
    {
     "data": {
      "application/vnd.google.colaboratory.intrinsic+json": {
       "type": "string"
      },
      "text/plain": [
       "'我'"
      ]
     },
     "execution_count": 84,
     "metadata": {},
     "output_type": "execute_result"
    }
   ],
   "source": [
    "a_list[2] # '我'"
   ]
  },
  {
   "cell_type": "markdown",
   "metadata": {
    "id": "NatzqpwmaYqQ"
   },
   "source": [
    "slice"
   ]
  },
  {
   "cell_type": "code",
   "execution_count": 85,
   "metadata": {
    "colab": {
     "base_uri": "https://localhost:8080/"
    },
    "id": "vqWylmu40aQR",
    "outputId": "59ccecab-a7f8-429e-8e16-f863d0ef4f9e"
   },
   "outputs": [
    {
     "data": {
      "text/plain": [
       "['我', 1]"
      ]
     },
     "execution_count": 85,
     "metadata": {},
     "output_type": "execute_result"
    }
   ],
   "source": [
    "a_list[2:5:2] # ['我', 1]"
   ]
  },
  {
   "cell_type": "markdown",
   "metadata": {
    "id": "A5p0vNRN0aQS"
   },
   "source": [
    "#### 常用函式"
   ]
  },
  {
   "cell_type": "markdown",
   "metadata": {
    "id": "9VQNFW5K0aQS"
   },
   "source": [
    "list 的長度 => len(List)"
   ]
  },
  {
   "cell_type": "code",
   "execution_count": 86,
   "metadata": {
    "colab": {
     "base_uri": "https://localhost:8080/"
    },
    "id": "hGLYzg7G0aQS",
    "outputId": "a39ae8d2-4bb8-4b47-ad79-6293cf659c27"
   },
   "outputs": [
    {
     "data": {
      "text/plain": [
       "9"
      ]
     },
     "execution_count": 86,
     "metadata": {},
     "output_type": "execute_result"
    }
   ],
   "source": [
    "numbers = [1,1,2,6,5,2,3,4,5]\n",
    "len(numbers) # 9"
   ]
  },
  {
   "cell_type": "markdown",
   "metadata": {
    "id": "tM5IpnnJ0aQS"
   },
   "source": [
    "list 中指定元素的個數 => List.count(element)"
   ]
  },
  {
   "cell_type": "code",
   "execution_count": 88,
   "metadata": {
    "colab": {
     "base_uri": "https://localhost:8080/"
    },
    "id": "st9ycYSx0aQS",
    "outputId": "62c1a64f-cfb4-448e-db21-8dede93c0efe"
   },
   "outputs": [
    {
     "data": {
      "text/plain": [
       "2"
      ]
     },
     "execution_count": 88,
     "metadata": {},
     "output_type": "execute_result"
    }
   ],
   "source": [
    "numbers = [1,1,2,6,5,2,3,4,5]\n",
    "numbers.count(1) # 1 有幾個"
   ]
  },
  {
   "cell_type": "code",
   "execution_count": 89,
   "metadata": {
    "colab": {
     "base_uri": "https://localhost:8080/"
    },
    "id": "xR4g_4Yp0aQS",
    "outputId": "daf8635d-97df-480c-af50-49b575da217a"
   },
   "outputs": [
    {
     "data": {
      "text/plain": [
       "3"
      ]
     },
     "execution_count": 89,
     "metadata": {},
     "output_type": "execute_result"
    }
   ],
   "source": [
    "strings = ['a','a','f','c','c','e','g','a']\n",
    "strings.count('a') # a 有幾個"
   ]
  },
  {
   "cell_type": "markdown",
   "metadata": {
    "id": "6mvercp80aQS"
   },
   "source": [
    "list 中是否存在指定元素 => element in List"
   ]
  },
  {
   "cell_type": "code",
   "execution_count": 90,
   "metadata": {
    "colab": {
     "base_uri": "https://localhost:8080/"
    },
    "id": "Y8MeIeDjaYqT",
    "outputId": "812b79c5-b865-4f5c-c23b-85a34258160c"
   },
   "outputs": [
    {
     "name": "stdout",
     "output_type": "stream",
     "text": [
      "yes\n"
     ]
    }
   ],
   "source": [
    "strings = ['a','a','f','c','c','e','g','a']\n",
    "if strings.count('f') >= 1:\n",
    "    print('yes')"
   ]
  },
  {
   "cell_type": "code",
   "execution_count": 91,
   "metadata": {
    "colab": {
     "base_uri": "https://localhost:8080/"
    },
    "id": "zWjeAfQP0aQT",
    "outputId": "6e58cd65-19a3-4dc2-8022-4e5310260aff"
   },
   "outputs": [
    {
     "name": "stdout",
     "output_type": "stream",
     "text": [
      "yes\n"
     ]
    }
   ],
   "source": [
    "numbers = [1,1,2,6,5,2,3,4,5]\n",
    "if 5 in numbers:\n",
    "    print('yes')\n",
    "# 5 是否在 strings 中"
   ]
  },
  {
   "cell_type": "markdown",
   "metadata": {
    "id": "YcrHhXhs0aQT"
   },
   "source": [
    "list 排序 => List.sort()<br>\n",
    "list 倒轉 => List.reverse(), List.sort(reverse=True)"
   ]
  },
  {
   "cell_type": "code",
   "execution_count": 92,
   "metadata": {
    "colab": {
     "base_uri": "https://localhost:8080/"
    },
    "id": "8csdAMUa0aQT",
    "outputId": "a01919e6-0699-4bda-c81c-7e16545355d4"
   },
   "outputs": [
    {
     "data": {
      "text/plain": [
       "[1, 1, 2, 2, 3, 4, 5, 5, 6]"
      ]
     },
     "execution_count": 92,
     "metadata": {},
     "output_type": "execute_result"
    }
   ],
   "source": [
    "numbers = [1,1,2,6,5,2,3,4,5]\n",
    "numbers.sort()\n",
    "numbers # [1, 1, 2, 2, 3, 4, 5, 5, 6]"
   ]
  },
  {
   "cell_type": "code",
   "execution_count": 100,
   "metadata": {
    "colab": {
     "base_uri": "https://localhost:8080/"
    },
    "id": "MZA7nHwP0aQT",
    "outputId": "e1c669e4-7657-4000-d239-c57f2bcd4746"
   },
   "outputs": [
    {
     "data": {
      "text/plain": [
       "[6, 5, 5, 4, 3, 2, 2, 1, 1]"
      ]
     },
     "execution_count": 100,
     "metadata": {},
     "output_type": "execute_result"
    }
   ],
   "source": [
    "numbers = [1,1,2,6,5,2,3,4,5]\n",
    "numbers.sort(reverse=True)\n",
    "numbers # [6, 5, 5, 4, 3, 2, 2, 1, 1]"
   ]
  },
  {
   "cell_type": "code",
   "execution_count": 99,
   "metadata": {
    "colab": {
     "base_uri": "https://localhost:8080/"
    },
    "id": "q1NUwX-HaYqT",
    "outputId": "292ec3ec-af22-428e-b37c-25edce707a4a"
   },
   "outputs": [
    {
     "data": {
      "text/plain": [
       "['S', 'I', 'T', 'C', 'O', 'N', '_', 'C', 'a', 'm', 'p']"
      ]
     },
     "execution_count": 99,
     "metadata": {},
     "output_type": "execute_result"
    }
   ],
   "source": [
    "name = ['p', 'm', 'a', 'C', '_', 'N', 'O', 'C', 'T', 'I', 'S']\n",
    "name.reverse()\n",
    "name # ['S', 'I', 'T', 'C', 'O', 'N', '-', 'C', 'a', 'm', 'p']"
   ]
  },
  {
   "cell_type": "code",
   "execution_count": 101,
   "metadata": {
    "colab": {
     "base_uri": "https://localhost:8080/"
    },
    "id": "sq-ZtcoEaYqT",
    "outputId": "5a762de8-7e74-4632-cd97-5f072b5b66ca"
   },
   "outputs": [
    {
     "data": {
      "text/plain": [
       "['S', 'I', 'T', 'C', 'O', 'N', '_', 'C', 'a', 'm', 'p']"
      ]
     },
     "execution_count": 101,
     "metadata": {},
     "output_type": "execute_result"
    }
   ],
   "source": [
    "name = ['p', 'm', 'a', 'C', '_', 'N', 'O', 'C', 'T', 'I', 'S']\n",
    "reversed_list = name[::-1]\n",
    "reversed_list"
   ]
  },
  {
   "cell_type": "markdown",
   "metadata": {
    "id": "ovVFLxs90aQT"
   },
   "source": [
    "list 的最大值、最小值、總和 => max(List)、min(List)、sum(List)"
   ]
  },
  {
   "cell_type": "code",
   "execution_count": 102,
   "metadata": {
    "colab": {
     "base_uri": "https://localhost:8080/"
    },
    "id": "abfhXvum0aQT",
    "outputId": "32464be6-c074-4437-a1d4-f2d1ff0da361"
   },
   "outputs": [
    {
     "data": {
      "text/plain": [
       "6"
      ]
     },
     "execution_count": 102,
     "metadata": {},
     "output_type": "execute_result"
    }
   ],
   "source": [
    "numbers = [1,1,2,6,5,2,3,4,5]\n",
    "max(numbers) # 最大 6"
   ]
  },
  {
   "cell_type": "code",
   "execution_count": 2,
   "metadata": {
    "id": "aXMz4KOz0aQT"
   },
   "outputs": [
    {
     "data": {
      "text/plain": [
       "1"
      ]
     },
     "execution_count": 2,
     "metadata": {},
     "output_type": "execute_result"
    }
   ],
   "source": [
    "numbers = [1,1,2,6,5,2,3,4,5]\n",
    "min(numbers) # 最小 1"
   ]
  },
  {
   "cell_type": "code",
   "execution_count": 3,
   "metadata": {
    "id": "UeVcEe1e0aQU"
   },
   "outputs": [
    {
     "data": {
      "text/plain": [
       "29"
      ]
     },
     "execution_count": 3,
     "metadata": {},
     "output_type": "execute_result"
    }
   ],
   "source": [
    "numbers = [1,1,2,6,5,2,3,4,5]\n",
    "sum(numbers) # 總和 29"
   ]
  },
  {
   "cell_type": "markdown",
   "metadata": {
    "id": "G4cZJYWPaYqU"
   },
   "source": [
    "串聯<br>\n",
    "\\<sep>.join(\\<list>)：用 sep 來串連列表元素，列表元素需皆為字串。"
   ]
  },
  {
   "cell_type": "code",
   "execution_count": 103,
   "metadata": {
    "colab": {
     "base_uri": "https://localhost:8080/",
     "height": 35
    },
    "id": "c4L4RYCIaYqU",
    "outputId": "61171006-0b66-4142-b7f9-8f8b51b576a2"
   },
   "outputs": [
    {
     "data": {
      "application/vnd.google.colaboratory.intrinsic+json": {
       "type": "string"
      },
      "text/plain": [
       "'S$I$T$C$O$N$_$C$a$m$p$_$2$0$2$3'"
      ]
     },
     "execution_count": 103,
     "metadata": {},
     "output_type": "execute_result"
    }
   ],
   "source": [
    "t_str = 'SITCON_Camp_2023'\n",
    "t_list = list(t_str)\n",
    "t_join = '$'.join(t_list)\n",
    "t_join # 'S$I$T$C$O$N$_$C$a$m$p$_$2$0$2$3'"
   ]
  },
  {
   "cell_type": "markdown",
   "metadata": {
    "id": "I5vWfK130aQR"
   },
   "source": [
    "#### It's your turn🫵\n",
    "利用 list 中刪除 element 的方法, 將你的手機號碼中是偶數的數字刪除，再重新組合成一個新的文字串（string），並印出。\n",
    "> 範例輸入：\n",
    "```\n",
    "id = '41349018'\n",
    "```\n",
    "> 範例輸出：\n",
    "```\n",
    "1391\n",
    "```"
   ]
  },
  {
   "cell_type": "code",
   "execution_count": 4,
   "metadata": {
    "id": "tI0wfppl0aQR"
   },
   "outputs": [
    {
     "name": "stdout",
     "output_type": "stream",
     "text": [
      "93957\n"
     ]
    }
   ],
   "source": [
    "id = '0966436957'\n",
    "id_list = [digit for digit in id if int(digit) % 2 != 0]\n",
    "new_id = ''.join(id_list)\n",
    "print(new_id)\n"
   ]
  },
  {
   "cell_type": "markdown",
   "metadata": {
    "id": "yvY24pKmaYqU"
   },
   "source": [
    "#### List comprehension"
   ]
  },
  {
   "cell_type": "markdown",
   "metadata": {
    "id": "00TmMszBaYqU"
   },
   "source": [
    "[expression `for` item `in` list (`if` condition)]"
   ]
  },
  {
   "cell_type": "code",
   "execution_count": 1,
   "metadata": {
    "id": "zkmuj-a7aYqU"
   },
   "outputs": [
    {
     "data": {
      "text/plain": [
       "[0, 3, 6, 9, 12, 15, 18, 21, 24, 27]"
      ]
     },
     "execution_count": 1,
     "metadata": {},
     "output_type": "execute_result"
    }
   ],
   "source": [
    "numbers = [x for x in range(0, 28, 3)]\n",
    "numbers # [0, 3, 6, 9, 12, 15, 18, 21, 24, 27]"
   ]
  },
  {
   "cell_type": "code",
   "execution_count": 8,
   "metadata": {
    "id": "inuEXoRCaYqU",
    "scrolled": true
   },
   "outputs": [
    {
     "data": {
      "text/plain": [
       "[0, 6, 12, 18, 24]"
      ]
     },
     "execution_count": 8,
     "metadata": {},
     "output_type": "execute_result"
    }
   ],
   "source": [
    "numbers = [i for i in range(25) if i % 6 == 0]\n",
    "numbers # [0, 6, 12, 18, 24]"
   ]
  },
  {
   "cell_type": "code",
   "execution_count": 9,
   "metadata": {
    "id": "SGeSiOwtaYqU"
   },
   "outputs": [
    {
     "data": {
      "text/plain": [
       "['O P E N ', ' S O U R C E']"
      ]
     },
     "execution_count": 9,
     "metadata": {},
     "output_type": "execute_result"
    }
   ],
   "source": [
    "a = 'O P E N - S O U R C E'\n",
    "b = [i for i in a.split('-')]\n",
    "b # ['O P E N ', ' S O U R C E']"
   ]
  },
  {
   "cell_type": "code",
   "execution_count": null,
   "metadata": {
    "id": "AqKhWnNyaYqU"
   },
   "outputs": [],
   "source": [
    "a = 'O P E N - S O U R C E'\n",
    "b = # List comprehension\n",
    "b # ['O', 'P', 'E', 'N', '-', 'S', 'O', 'U', 'R', 'C', 'E']"
   ]
  },
  {
   "cell_type": "markdown",
   "metadata": {
    "id": "5B_dVFqj0aQV"
   },
   "source": [
    "### Tuple"
   ]
  },
  {
   "cell_type": "markdown",
   "metadata": {
    "id": "HDJFTbWq0aQV"
   },
   "source": [
    "#### Create Tuple\n",
    "( )、tuple()"
   ]
  },
  {
   "cell_type": "code",
   "execution_count": 31,
   "metadata": {
    "id": "2vMivPKR0aQV"
   },
   "outputs": [],
   "source": [
    "a_tuple = ()\n",
    "b_tuple = tuple()\n",
    "c_tuple = (1, 'a', 2.3, True)\n",
    "d_tuple = 1, 2, 3, 'a'"
   ]
  },
  {
   "cell_type": "code",
   "execution_count": 11,
   "metadata": {
    "id": "cuXZ2u-H0aQW"
   },
   "outputs": [
    {
     "data": {
      "text/plain": [
       "tuple"
      ]
     },
     "execution_count": 11,
     "metadata": {},
     "output_type": "execute_result"
    }
   ],
   "source": [
    "type(a_tuple)"
   ]
  },
  {
   "cell_type": "markdown",
   "metadata": {
    "id": "50wJaq3caYqV"
   },
   "source": [
    "#### Tuple Packing/Unpacking\n"
   ]
  },
  {
   "cell_type": "code",
   "execution_count": 14,
   "metadata": {
    "id": "iRuwOXYS0aQW"
   },
   "outputs": [
    {
     "name": "stdout",
     "output_type": "stream",
     "text": [
      "1 a\n"
     ]
    }
   ],
   "source": [
    "# Packing\n",
    "tup = '1','a'\n",
    "# Unpacking\n",
    "x, y = tup\n",
    "print(x, y)"
   ]
  },
  {
   "cell_type": "code",
   "execution_count": 15,
   "metadata": {
    "id": "r6GepJ02aYqV"
   },
   "outputs": [
    {
     "name": "stdout",
     "output_type": "stream",
     "text": [
      "a True 2.3\n"
     ]
    }
   ],
   "source": [
    "# Packing\n",
    "tupp = 'a', 'True', 2.3\n",
    "# Unpacking\n",
    "a, b, c = tupp\n",
    "print(a, b, c)"
   ]
  },
  {
   "cell_type": "markdown",
   "metadata": {
    "id": "PHLYnskx0aQW"
   },
   "source": [
    "#### Add Value to Tuple"
   ]
  },
  {
   "cell_type": "code",
   "execution_count": 21,
   "metadata": {
    "id": "GvF8VVB00aQW"
   },
   "outputs": [
    {
     "data": {
      "text/plain": [
       "{1}"
      ]
     },
     "execution_count": 21,
     "metadata": {},
     "output_type": "execute_result"
    }
   ],
   "source": [
    "a_tuple = set(a_tuple)\n",
    "a_tuple.add(1)\n",
    "a_tuple"
   ]
  },
  {
   "cell_type": "code",
   "execution_count": 22,
   "metadata": {
    "id": "rTLDe8FD0aQW"
   },
   "outputs": [],
   "source": [
    "a_tuple = list(a_tuple)\n",
    "a_tuple.append(1)\n",
    "a_tuple"
   ]
  },
  {
   "cell_type": "code",
   "execution_count": 25,
   "metadata": {
    "id": "hHQ0ZQ350aQW"
   },
   "outputs": [
    {
     "data": {
      "text/plain": [
       "[1, 1, 1]"
      ]
     },
     "execution_count": 25,
     "metadata": {},
     "output_type": "execute_result"
    }
   ],
   "source": [
    "a_tuple.extend([1])\n",
    "a_tuple"
   ]
  },
  {
   "cell_type": "code",
   "execution_count": 26,
   "metadata": {
    "id": "3ozUfeSM0aQX"
   },
   "outputs": [],
   "source": [
    "a_tuple.insert(0, 1)"
   ]
  },
  {
   "cell_type": "markdown",
   "metadata": {
    "id": "cHW4C4QO0aQX"
   },
   "source": [
    "#### Modify Value in Tuple"
   ]
  },
  {
   "cell_type": "code",
   "execution_count": 29,
   "metadata": {
    "id": "u8_eFBM20aQX"
   },
   "outputs": [
    {
     "data": {
      "text/plain": [
       "[1, 'a', 1, True]"
      ]
     },
     "execution_count": 29,
     "metadata": {},
     "output_type": "execute_result"
    }
   ],
   "source": [
    "c_tuple[2] = 1"
   ]
  },
  {
   "cell_type": "markdown",
   "metadata": {
    "id": "_l3lULSo0aQX",
    "jp-MarkdownHeadingCollapsed": true
   },
   "source": [
    "#### Delete Value in Tuple\n",
    " - 不允許刪除"
   ]
  },
  {
   "cell_type": "markdown",
   "metadata": {
    "id": "ZZwleobR0aQY"
   },
   "source": [
    "#### Pick Value from Tuple\n",
    "index"
   ]
  },
  {
   "cell_type": "code",
   "execution_count": 32,
   "metadata": {
    "id": "pUY6_OPGaYqW",
    "outputId": "c29e02d8-5773-400b-d61f-a7bb7c41c74c"
   },
   "outputs": [
    {
     "data": {
      "text/plain": [
       "(1, 'a', 2.3, True)"
      ]
     },
     "execution_count": 32,
     "metadata": {},
     "output_type": "execute_result"
    }
   ],
   "source": [
    "# 直接輸出 c_tuple\n",
    "c_tuple"
   ]
  },
  {
   "cell_type": "code",
   "execution_count": 33,
   "metadata": {
    "id": "b0vWm_qB0aQY",
    "outputId": "0af4e0ab-0bd9-47b5-c567-afe0449d0a0a"
   },
   "outputs": [
    {
     "data": {
      "text/plain": [
       "2.3"
      ]
     },
     "execution_count": 33,
     "metadata": {},
     "output_type": "execute_result"
    }
   ],
   "source": [
    "c_tuple[2] # 2.3"
   ]
  },
  {
   "cell_type": "markdown",
   "metadata": {
    "id": "sUl1W-cdaYqW"
   },
   "source": [
    "slice"
   ]
  },
  {
   "cell_type": "code",
   "execution_count": 35,
   "metadata": {
    "id": "bXcnWlTT0aQY",
    "outputId": "818d0fa5-ad4d-45f3-b6d1-4290eeadeb15"
   },
   "outputs": [
    {
     "data": {
      "text/plain": [
       "(1, 'a')"
      ]
     },
     "execution_count": 35,
     "metadata": {},
     "output_type": "execute_result"
    }
   ],
   "source": [
    "c_tuple[0:2] # (1, 'a')"
   ]
  },
  {
   "cell_type": "markdown",
   "metadata": {
    "id": "AjWbCJ4H0aQY"
   },
   "source": [
    "tuple 轉成 list"
   ]
  },
  {
   "cell_type": "code",
   "execution_count": 36,
   "metadata": {
    "id": "vyebP6jU0aQY",
    "outputId": "114521fe-0035-4896-8fc7-fb4e5cd9d55d"
   },
   "outputs": [
    {
     "data": {
      "text/plain": [
       "[1, 'a', 2.3, True]"
      ]
     },
     "execution_count": 36,
     "metadata": {},
     "output_type": "execute_result"
    }
   ],
   "source": [
    "list(c_tuple) # [1, 'a', 2.3, True]"
   ]
  },
  {
   "cell_type": "markdown",
   "metadata": {
    "id": "b9rBpeF-0aQX"
   },
   "source": [
    "#### It's your turn🫵\n",
    "用 list 單元介紹過的刪除方法來試試能不能刪除一個 tuple 內的 element，至少試兩種方法。記得輸出的要是 tuple 。"
   ]
  },
  {
   "cell_type": "code",
   "execution_count": 41,
   "metadata": {
    "id": "0W1S0douaYqX"
   },
   "outputs": [
    {
     "data": {
      "text/plain": [
       "('SITCON', 2023, 'NYCU')"
      ]
     },
     "execution_count": 41,
     "metadata": {},
     "output_type": "execute_result"
    }
   ],
   "source": [
    "# your code\n",
    "lab_a = 'SITCON', 'Camp', 2023, 'NYCU'\n",
    "lab_a = list(lab_a)\n",
    "del lab_a[1]\n",
    "lab_a = tuple(lab_a)\n",
    "lab_a"
   ]
  },
  {
   "cell_type": "code",
   "execution_count": 38,
   "metadata": {
    "id": "oSXjkq4daYqX"
   },
   "outputs": [],
   "source": [
    "# your code\n",
    "lab_b = (1, 2, 3, 4, 5)\n",
    "\n"
   ]
  },
  {
   "cell_type": "markdown",
   "metadata": {
    "id": "yeWc5Bu-aYqX"
   },
   "source": [
    "#### It's your turn🫵\n",
    "如何將一句話 '老虎老鼠傻傻分不清楚' 表示成 unigram (一個字一個字分開) 存在 list，請寫出兩種方法。\n",
    "> 範例輸出：\n",
    "```\n",
    "['老', '虎', '老', '鼠', '傻', '傻', '分', '不', '清', '楚']\n",
    "```"
   ]
  },
  {
   "cell_type": "code",
   "execution_count": 42,
   "metadata": {
    "id": "N6UQOMRPaYqX"
   },
   "outputs": [
    {
     "name": "stdout",
     "output_type": "stream",
     "text": [
      "['老', '虎', '老', '鼠', '傻', '傻', '分', '不', '清', '楚']\n"
     ]
    }
   ],
   "source": [
    "# your code\n",
    "sentence = '老虎老鼠傻傻分不清楚'\n",
    "unigram_list = list(sentence)\n",
    "print(unigram_list)\n",
    "\n",
    "\n"
   ]
  },
  {
   "cell_type": "code",
   "execution_count": 45,
   "metadata": {},
   "outputs": [
    {
     "name": "stdout",
     "output_type": "stream",
     "text": [
      "['老', '虎', '老', '鼠', '傻', '傻', '分', '不', '清', '楚']\n"
     ]
    }
   ],
   "source": [
    "sentence = '老虎老鼠傻傻分不清楚'\n",
    "unigram_list = []\n",
    "for char in sentence:\n",
    "    unigram_list.append(char)\n",
    "print(unigram_list)"
   ]
  },
  {
   "cell_type": "code",
   "execution_count": 44,
   "metadata": {
    "id": "4UG834FFaYqX"
   },
   "outputs": [
    {
     "name": "stdout",
     "output_type": "stream",
     "text": [
      "['老', '虎', '老', '鼠', '傻', '傻', '分', '不', '清', '楚']\n"
     ]
    }
   ],
   "source": [
    "# your code\n",
    "import re\n",
    "sentence = '老虎老鼠傻傻分不清楚'\n",
    "unigram_list = re.findall(r'\\w', sentence)\n",
    "print(unigram_list)\n",
    "\n",
    "\n"
   ]
  },
  {
   "cell_type": "markdown",
   "metadata": {
    "id": "7vBjjHRZ0aQZ"
   },
   "source": [
    "### Set"
   ]
  },
  {
   "cell_type": "markdown",
   "metadata": {
    "id": "JjG1ZbSe0aQZ"
   },
   "source": [
    "#### Create Set\n",
    "set()"
   ]
  },
  {
   "cell_type": "code",
   "execution_count": 53,
   "metadata": {
    "id": "FSwnHSuP0aQZ"
   },
   "outputs": [
    {
     "data": {
      "text/plain": [
       "{1, 2, 3}"
      ]
     },
     "execution_count": 53,
     "metadata": {},
     "output_type": "execute_result"
    }
   ],
   "source": [
    "a_set = set()\n",
    "b_set = {1,2,3,2}\n",
    "c_set = {1, \"1\"}\n",
    "b_set"
   ]
  },
  {
   "cell_type": "code",
   "execution_count": 47,
   "metadata": {
    "id": "Sqfmb4Fb0aQZ"
   },
   "outputs": [
    {
     "data": {
      "text/plain": [
       "set"
      ]
     },
     "execution_count": 47,
     "metadata": {},
     "output_type": "execute_result"
    }
   ],
   "source": [
    "type(a_set)"
   ]
  },
  {
   "cell_type": "markdown",
   "metadata": {
    "id": "6pOBbuKA0aQZ"
   },
   "source": [
    "#### Add Value to Set"
   ]
  },
  {
   "cell_type": "markdown",
   "metadata": {
    "id": "ON30CzcV0aQZ"
   },
   "source": [
    "add()"
   ]
  },
  {
   "cell_type": "code",
   "execution_count": 54,
   "metadata": {
    "id": "rtboMdpT0aQa"
   },
   "outputs": [
    {
     "data": {
      "text/plain": [
       "{1, '1', 5}"
      ]
     },
     "execution_count": 54,
     "metadata": {},
     "output_type": "execute_result"
    }
   ],
   "source": [
    "c_set.add(5)\n",
    "c_set"
   ]
  },
  {
   "cell_type": "markdown",
   "metadata": {
    "id": "QtUXxu7U0aQa"
   },
   "source": [
    "update()"
   ]
  },
  {
   "cell_type": "code",
   "execution_count": 55,
   "metadata": {
    "id": "xQoowLvh0aQa"
   },
   "outputs": [
    {
     "data": {
      "text/plain": [
       "{1, '1', 2, 3, 5}"
      ]
     },
     "execution_count": 55,
     "metadata": {},
     "output_type": "execute_result"
    }
   ],
   "source": [
    "c_set.update(b_set)\n",
    "c_set"
   ]
  },
  {
   "cell_type": "code",
   "execution_count": 56,
   "metadata": {
    "id": "2wZw0LOc0aQa"
   },
   "outputs": [
    {
     "data": {
      "text/plain": [
       "{1, '1', 2, 3, 5, 6, 7}"
      ]
     },
     "execution_count": 56,
     "metadata": {},
     "output_type": "execute_result"
    }
   ],
   "source": [
    "c_set.update([3,6,7])\n",
    "c_set"
   ]
  },
  {
   "cell_type": "markdown",
   "metadata": {
    "id": "feyT0Ghp0aQa"
   },
   "source": [
    "#### Modify Value in Set"
   ]
  },
  {
   "cell_type": "code",
   "execution_count": 51,
   "metadata": {
    "id": "zWs39XPk0aQa",
    "scrolled": true
   },
   "outputs": [
    {
     "ename": "TypeError",
     "evalue": "'set' object does not support item assignment",
     "output_type": "error",
     "traceback": [
      "\u001b[1;31m---------------------------------------------------------------------------\u001b[0m",
      "\u001b[1;31mTypeError\u001b[0m                                 Traceback (most recent call last)",
      "Cell \u001b[1;32mIn[51], line 1\u001b[0m\n\u001b[1;32m----> 1\u001b[0m c_set[\u001b[38;5;241m3\u001b[39m] \u001b[38;5;241m=\u001b[39m \u001b[38;5;241m6\u001b[39m\n",
      "\u001b[1;31mTypeError\u001b[0m: 'set' object does not support item assignment"
     ]
    }
   ],
   "source": [
    "c_set[3] = 6"
   ]
  },
  {
   "cell_type": "code",
   "execution_count": 57,
   "metadata": {},
   "outputs": [
    {
     "name": "stdout",
     "output_type": "stream",
     "text": [
      "{1, 2, '1', 5, 6, 7}\n"
     ]
    }
   ],
   "source": [
    "c_set.remove(3)  # 先刪除元素3\n",
    "c_set.add(6)     # 再添加元素6\n",
    "print(c_set)"
   ]
  },
  {
   "cell_type": "markdown",
   "metadata": {
    "id": "dwJy9P2b0aQb"
   },
   "source": [
    "#### Delete Value in Set"
   ]
  },
  {
   "cell_type": "markdown",
   "metadata": {
    "id": "PjWxPDA50aQb"
   },
   "source": [
    "remove(element)"
   ]
  },
  {
   "cell_type": "code",
   "execution_count": 58,
   "metadata": {
    "id": "jwzwzfmP0aQb"
   },
   "outputs": [
    {
     "data": {
      "text/plain": [
       "{'1', 2, 5, 6, 7}"
      ]
     },
     "execution_count": 58,
     "metadata": {},
     "output_type": "execute_result"
    }
   ],
   "source": [
    "c_set.remove(1)\n",
    "c_set"
   ]
  },
  {
   "cell_type": "code",
   "execution_count": 59,
   "metadata": {
    "id": "ag8n75gu0aQb"
   },
   "outputs": [
    {
     "ename": "KeyError",
     "evalue": "10",
     "output_type": "error",
     "traceback": [
      "\u001b[1;31m---------------------------------------------------------------------------\u001b[0m",
      "\u001b[1;31mKeyError\u001b[0m                                  Traceback (most recent call last)",
      "Cell \u001b[1;32mIn[59], line 1\u001b[0m\n\u001b[1;32m----> 1\u001b[0m \u001b[43mc_set\u001b[49m\u001b[38;5;241;43m.\u001b[39;49m\u001b[43mremove\u001b[49m\u001b[43m(\u001b[49m\u001b[38;5;241;43m10\u001b[39;49m\u001b[43m)\u001b[49m\n\u001b[0;32m      2\u001b[0m c_set\n",
      "\u001b[1;31mKeyError\u001b[0m: 10"
     ]
    }
   ],
   "source": [
    "c_set.remove(10)\n",
    "c_set"
   ]
  },
  {
   "cell_type": "markdown",
   "metadata": {
    "id": "RXKR28Ak0aQb"
   },
   "source": [
    "discard(element)\n",
    "此行為如果要移除的東西不在set裡面不會引發錯誤"
   ]
  },
  {
   "cell_type": "code",
   "execution_count": 60,
   "metadata": {
    "id": "cYt_RQQK0aQb"
   },
   "outputs": [
    {
     "data": {
      "text/plain": [
       "{'1', 5, 6, 7}"
      ]
     },
     "execution_count": 60,
     "metadata": {},
     "output_type": "execute_result"
    }
   ],
   "source": [
    "c_set.discard(2)\n",
    "c_set"
   ]
  },
  {
   "cell_type": "code",
   "execution_count": 61,
   "metadata": {
    "id": "yZLEBl7r0aQb"
   },
   "outputs": [
    {
     "data": {
      "text/plain": [
       "{'1', 5, 6, 7}"
      ]
     },
     "execution_count": 61,
     "metadata": {},
     "output_type": "execute_result"
    }
   ],
   "source": [
    "c_set.discard(10)\n",
    "c_set"
   ]
  },
  {
   "cell_type": "markdown",
   "metadata": {
    "id": "JHi7JW-F0aQc"
   },
   "source": [
    "#### Pick Value from Set"
   ]
  },
  {
   "cell_type": "code",
   "execution_count": 62,
   "metadata": {
    "id": "VMfKw7YLaYqY"
   },
   "outputs": [
    {
     "data": {
      "text/plain": [
       "{'1', 5, 6, 7}"
      ]
     },
     "execution_count": 62,
     "metadata": {},
     "output_type": "execute_result"
    }
   ],
   "source": [
    "c_set"
   ]
  },
  {
   "cell_type": "code",
   "execution_count": 63,
   "metadata": {
    "id": "Fe9_Srzg0aQc"
   },
   "outputs": [
    {
     "name": "stdout",
     "output_type": "stream",
     "text": [
      "1\n",
      "5\n",
      "6\n",
      "7\n"
     ]
    }
   ],
   "source": [
    "for element in c_set:\n",
    "    print(element)"
   ]
  },
  {
   "cell_type": "code",
   "execution_count": 97,
   "metadata": {
    "id": "TldT7eNt0aQc"
   },
   "outputs": [
    {
     "name": "stdout",
     "output_type": "stream",
     "text": [
      "['有', '個', '蓋', '買', '堆', ' ', '栽', '養', '扣', '遇', '一', '陣', '狂', '風', '起', '吹', '倒', '翻', '斷', '打', '死', '急', '煞']\n"
     ]
    }
   ],
   "source": [
    "string = '''\n",
    "六合縣有個六十六歲的陸老頭，蓋了六十六間樓，\n",
    "買了六十六簍油，堆在六十六間樓， 栽了六十六株垂楊柳，\n",
    "養了六十六頭牛，扣在六十六株垂楊柳。\n",
    "遇了一陣狂風起，吹倒了六十六間樓，\n",
    "翻了六十六簍油，斷了六十六株垂楊柳，\n",
    "打死了六十六頭牛，急煞了六合縣的六十六歲的陸老頭。'''\n",
    "repeat = []                             # 新增 repeat 變數為空串列\n",
    "not_repeat = []                         # 新增 not_repeat 變數為空串列\n",
    "for i in string:                          # 使用 for 迴圈，依序取出每個字元\n",
    "    a = string.count(i, 0, len(string))     # 判斷字元在字串中出現的次數\n",
    "    if a>1 and i not in repeat:         # 如果次數大於 1，且沒有存在 repeat 串列中\n",
    "        repeat.append(i)                  # 將字元加入 repeat 串列\n",
    "    if a == 1and i not in not_repeat:   # 如果次數等於 1，且沒有存在 not_repeat 串列中\n",
    "      not_repeat.append(i)              # 將字元加入 not_repeat 串列\n",
    "print(not_repeat)"
   ]
  },
  {
   "cell_type": "markdown",
   "metadata": {
    "id": "p-eOEPt60aQc"
   },
   "source": [
    "#### It's your turn🫵\n",
    "如何知道 string 中有那些不重複字\n",
    "```\n",
    "string = '''\n",
    "六合縣有個六十六歲的陸老頭，蓋了六十六間樓，\n",
    "買了六十六簍油，堆在六十六間樓， 栽了六十六株垂楊柳，\n",
    "養了六十六頭牛，扣在六十六株垂楊柳。\n",
    "遇了一陣狂風起，吹倒了六十六間樓，\n",
    "翻了六十六簍油，斷了六十六株垂楊柳，\n",
    "打死了六十六頭牛，急煞了六合縣的六十六歲的陸老頭。'''\n",
    "\n",
    "```"
   ]
  },
  {
   "cell_type": "code",
   "execution_count": 100,
   "metadata": {},
   "outputs": [
    {
     "name": "stdout",
     "output_type": "stream",
     "text": [
      "{'簍', '株', '垂', '油', '扣', '一', '了', '陸', '買', '有', '六', '\\n', '栽', '歲', '風', '倒', '縣', '狂', '打', '間', '楊', '養', '合', '翻', '。', ' ', '急', '煞', '死', '的', '個', '柳', '樓', '蓋', '起', '牛', '十', '，', '老', '遇', '斷', '吹', '在', '頭', '堆', '陣'}\n"
     ]
    }
   ],
   "source": [
    "string = '''六合縣有個六十六歲的陸老頭，蓋了六十六間樓，\n",
    "買了六十六簍油，堆在六十六間樓， 栽了六十六株垂楊柳，\n",
    "養了六十六頭牛，扣在六十六株垂楊柳。\n",
    "遇了一陣狂風起，吹倒了六十六間樓，\n",
    "翻了六十六簍油，斷了六十六株垂楊柳，\n",
    "打死了六十六頭牛，急煞了六合縣的六十六歲的陸老頭。'''\n",
    "\n",
    "unique_chars = set(string)\n",
    "print(unique_chars)\n"
   ]
  },
  {
   "cell_type": "code",
   "execution_count": 67,
   "metadata": {
    "id": "Sa_TPUXQ0aQc"
   },
   "outputs": [],
   "source": [
    "# your code\n",
    "output_list = []\n",
    "\n"
   ]
  },
  {
   "cell_type": "markdown",
   "metadata": {
    "id": "vtCczR2G0aQd"
   },
   "source": [
    "### Dictionary"
   ]
  },
  {
   "cell_type": "markdown",
   "metadata": {
    "id": "cmVTLL7v0aQd"
   },
   "source": [
    "#### Create Dictionary\n",
    "{ }、dict()"
   ]
  },
  {
   "cell_type": "code",
   "execution_count": 68,
   "metadata": {
    "id": "xeNP1aMx0aQd"
   },
   "outputs": [],
   "source": [
    "a_dict = {}\n",
    "b_dict = dict()\n",
    "c_dict = {'小明':1, '小英':2, '小瑜':3}"
   ]
  },
  {
   "cell_type": "code",
   "execution_count": 69,
   "metadata": {
    "id": "T8mBEdt00aQd"
   },
   "outputs": [
    {
     "data": {
      "text/plain": [
       "dict"
      ]
     },
     "execution_count": 69,
     "metadata": {},
     "output_type": "execute_result"
    }
   ],
   "source": [
    "type(a_dict)"
   ]
  },
  {
   "cell_type": "markdown",
   "metadata": {
    "id": "p5MR2T7E0aQd"
   },
   "source": [
    "#### Add Value to Dictionary"
   ]
  },
  {
   "cell_type": "markdown",
   "metadata": {
    "id": "ZgCXzalM0aQd"
   },
   "source": [
    "Dict [key] = value"
   ]
  },
  {
   "cell_type": "code",
   "execution_count": 70,
   "metadata": {
    "id": "dpM8FaS7aYqZ"
   },
   "outputs": [
    {
     "data": {
      "text/plain": [
       "{'小明': 1, '小英': 2, '小瑜': 3}"
      ]
     },
     "execution_count": 70,
     "metadata": {},
     "output_type": "execute_result"
    }
   ],
   "source": [
    "c_dict"
   ]
  },
  {
   "cell_type": "code",
   "execution_count": 71,
   "metadata": {
    "id": "Fp8OsdW10aQd"
   },
   "outputs": [
    {
     "data": {
      "text/plain": [
       "{'小明': 1, '小英': 2, '小瑜': 3, '小強': 4}"
      ]
     },
     "execution_count": 71,
     "metadata": {},
     "output_type": "execute_result"
    }
   ],
   "source": [
    "c_dict['小強'] = 4\n",
    "c_dict"
   ]
  },
  {
   "cell_type": "markdown",
   "metadata": {
    "id": "OlmFWrBX0aQe"
   },
   "source": [
    "update (Dict)"
   ]
  },
  {
   "cell_type": "code",
   "execution_count": 72,
   "metadata": {
    "id": "pbYnPO7N0aQe"
   },
   "outputs": [
    {
     "data": {
      "text/plain": [
       "{'小明': 1, '小英': 2, '小瑜': 3, '小強': 4, '小台': 5}"
      ]
     },
     "execution_count": 72,
     "metadata": {},
     "output_type": "execute_result"
    }
   ],
   "source": [
    "c_dict.update({'小台':5})\n",
    "c_dict"
   ]
  },
  {
   "cell_type": "markdown",
   "metadata": {
    "id": "78xyhacB0aQe"
   },
   "source": [
    "#### Modify Value in Dictionary"
   ]
  },
  {
   "cell_type": "markdown",
   "metadata": {
    "id": "45eHCWBI0aQe"
   },
   "source": [
    "Dict [key] = value"
   ]
  },
  {
   "cell_type": "code",
   "execution_count": 73,
   "metadata": {
    "id": "PzeMGLmh0aQe"
   },
   "outputs": [
    {
     "data": {
      "text/plain": [
       "{'小明': 1, '小英': 2, '小瑜': 3, '小強': 5, '小台': 5}"
      ]
     },
     "execution_count": 73,
     "metadata": {},
     "output_type": "execute_result"
    }
   ],
   "source": [
    "c_dict['小強'] = 5\n",
    "c_dict"
   ]
  },
  {
   "cell_type": "markdown",
   "metadata": {
    "id": "TB9Cp5hI0aQe"
   },
   "source": [
    "update (Dict)"
   ]
  },
  {
   "cell_type": "code",
   "execution_count": 74,
   "metadata": {
    "id": "P7R3Kqbq0aQe"
   },
   "outputs": [
    {
     "data": {
      "text/plain": [
       "{'小明': 1, '小英': 2, '小瑜': 3, '小強': 5, '小台': 4, '小王': 6}"
      ]
     },
     "execution_count": 74,
     "metadata": {},
     "output_type": "execute_result"
    }
   ],
   "source": [
    "c_dict.update({'小台':4, '小王':6})\n",
    "c_dict"
   ]
  },
  {
   "cell_type": "markdown",
   "metadata": {
    "id": "aQgUo9fT0aQf"
   },
   "source": [
    "#### Delete Value in Dictionary"
   ]
  },
  {
   "cell_type": "markdown",
   "metadata": {
    "id": "ucWWz-_B0aQf"
   },
   "source": [
    "pop (key)"
   ]
  },
  {
   "cell_type": "code",
   "execution_count": 75,
   "metadata": {
    "id": "cGaT5qwi0aQf"
   },
   "outputs": [
    {
     "data": {
      "text/plain": [
       "{'小明': 1, '小英': 2, '小瑜': 3, '小強': 5, '小台': 4}"
      ]
     },
     "execution_count": 75,
     "metadata": {},
     "output_type": "execute_result"
    }
   ],
   "source": [
    "c_dict.pop('小王')\n",
    "c_dict"
   ]
  },
  {
   "cell_type": "markdown",
   "metadata": {
    "id": "oJTExlSP0aQf"
   },
   "source": [
    "del Dict [key]"
   ]
  },
  {
   "cell_type": "code",
   "execution_count": 76,
   "metadata": {
    "id": "qAilTW5p0aQf"
   },
   "outputs": [
    {
     "ename": "KeyError",
     "evalue": "'小王'",
     "output_type": "error",
     "traceback": [
      "\u001b[1;31m---------------------------------------------------------------------------\u001b[0m",
      "\u001b[1;31mKeyError\u001b[0m                                  Traceback (most recent call last)",
      "Cell \u001b[1;32mIn[76], line 1\u001b[0m\n\u001b[1;32m----> 1\u001b[0m \u001b[38;5;28;01mdel\u001b[39;00m c_dict[\u001b[38;5;124m'\u001b[39m\u001b[38;5;124m小王\u001b[39m\u001b[38;5;124m'\u001b[39m]\n\u001b[0;32m      2\u001b[0m c_dict\n",
      "\u001b[1;31mKeyError\u001b[0m: '小王'"
     ]
    }
   ],
   "source": [
    "del c_dict['小王']\n",
    "c_dict"
   ]
  },
  {
   "cell_type": "code",
   "execution_count": 77,
   "metadata": {
    "id": "rLJTvQEt0aQf"
   },
   "outputs": [
    {
     "data": {
      "text/plain": [
       "{'小明': 1, '小英': 2, '小瑜': 3, '小強': 5}"
      ]
     },
     "execution_count": 77,
     "metadata": {},
     "output_type": "execute_result"
    }
   ],
   "source": [
    "del c_dict['小台']\n",
    "c_dict"
   ]
  },
  {
   "cell_type": "markdown",
   "metadata": {
    "id": "20ZB6evb0aQf"
   },
   "source": [
    "#### Pick Value from Dictionary"
   ]
  },
  {
   "cell_type": "markdown",
   "metadata": {
    "id": "12RH4juM0aQg"
   },
   "source": [
    "Dict [key]"
   ]
  },
  {
   "cell_type": "code",
   "execution_count": 78,
   "metadata": {
    "id": "GVASry0l0aQg"
   },
   "outputs": [
    {
     "data": {
      "text/plain": [
       "1"
      ]
     },
     "execution_count": 78,
     "metadata": {},
     "output_type": "execute_result"
    }
   ],
   "source": [
    "c_dict['小明']"
   ]
  },
  {
   "cell_type": "markdown",
   "metadata": {
    "id": "kNCgnZ2f0aQg"
   },
   "source": [
    "keys()"
   ]
  },
  {
   "cell_type": "code",
   "execution_count": 79,
   "metadata": {
    "id": "2iJFm5P10aQg"
   },
   "outputs": [
    {
     "data": {
      "text/plain": [
       "dict_keys(['小明', '小英', '小瑜', '小強'])"
      ]
     },
     "execution_count": 79,
     "metadata": {},
     "output_type": "execute_result"
    }
   ],
   "source": [
    "c_dict.keys()"
   ]
  },
  {
   "cell_type": "code",
   "execution_count": 80,
   "metadata": {
    "id": "gRP_0O6y0aQg"
   },
   "outputs": [
    {
     "data": {
      "text/plain": [
       "dict_keys"
      ]
     },
     "execution_count": 80,
     "metadata": {},
     "output_type": "execute_result"
    }
   ],
   "source": [
    "type(c_dict.keys())"
   ]
  },
  {
   "cell_type": "code",
   "execution_count": 81,
   "metadata": {
    "id": "0EK5_JVg0aQg"
   },
   "outputs": [
    {
     "data": {
      "text/plain": [
       "['小明', '小英', '小瑜', '小強']"
      ]
     },
     "execution_count": 81,
     "metadata": {},
     "output_type": "execute_result"
    }
   ],
   "source": [
    "list(c_dict.keys())"
   ]
  },
  {
   "cell_type": "code",
   "execution_count": 82,
   "metadata": {
    "id": "SbkXIvtN0aQg"
   },
   "outputs": [
    {
     "name": "stdout",
     "output_type": "stream",
     "text": [
      "小明\n",
      "小英\n",
      "小瑜\n",
      "小強\n"
     ]
    }
   ],
   "source": [
    "for key in c_dict.keys():\n",
    "    print(key)"
   ]
  },
  {
   "cell_type": "markdown",
   "metadata": {
    "id": "n_dmWRdr0aQh"
   },
   "source": [
    "values()"
   ]
  },
  {
   "cell_type": "code",
   "execution_count": 83,
   "metadata": {
    "id": "Ihc2yiIa0aQh"
   },
   "outputs": [
    {
     "data": {
      "text/plain": [
       "dict_values([1, 2, 3, 5])"
      ]
     },
     "execution_count": 83,
     "metadata": {},
     "output_type": "execute_result"
    }
   ],
   "source": [
    "c_dict.values()"
   ]
  },
  {
   "cell_type": "code",
   "execution_count": 84,
   "metadata": {
    "id": "aMP--cx00aQh"
   },
   "outputs": [
    {
     "name": "stdout",
     "output_type": "stream",
     "text": [
      "1\n",
      "2\n",
      "3\n",
      "5\n"
     ]
    }
   ],
   "source": [
    "for value in c_dict.values():\n",
    "    print(value)"
   ]
  },
  {
   "cell_type": "markdown",
   "metadata": {
    "id": "TjypFJTh0aQh"
   },
   "source": [
    "items()"
   ]
  },
  {
   "cell_type": "code",
   "execution_count": 85,
   "metadata": {
    "id": "5TZ075KW0aQh"
   },
   "outputs": [
    {
     "data": {
      "text/plain": [
       "dict_items([('小明', 1), ('小英', 2), ('小瑜', 3), ('小強', 5)])"
      ]
     },
     "execution_count": 85,
     "metadata": {},
     "output_type": "execute_result"
    }
   ],
   "source": [
    "c_dict.items()"
   ]
  },
  {
   "cell_type": "code",
   "execution_count": 88,
   "metadata": {
    "id": "bZwUfW4j0aQh"
   },
   "outputs": [
    {
     "name": "stdout",
     "output_type": "stream",
     "text": [
      "key 是 小明, value 是 1\n",
      "key 是 小英, value 是 2\n",
      "key 是 小瑜, value 是 3\n",
      "key 是 小強, value 是 5\n"
     ]
    }
   ],
   "source": [
    "for key, value in c_dict.items():\n",
    "    print(f'key 是 {key}, value 是 {value}')"
   ]
  },
  {
   "cell_type": "markdown",
   "metadata": {
    "id": "vqrMO-hhaYqb"
   },
   "source": [
    "#### dict互包"
   ]
  },
  {
   "cell_type": "markdown",
   "metadata": {
    "id": "I68qiDrnaYqb"
   },
   "source": [
    "Create"
   ]
  },
  {
   "cell_type": "code",
   "execution_count": 89,
   "metadata": {
    "id": "uTwX4qrkaYqc"
   },
   "outputs": [],
   "source": [
    "staff = {\n",
    "    \"person1\": {\n",
    "        \"name\": \"Alice\",\n",
    "        \"age\": 25,\n",
    "        \"city\": \"Taipei City\"\n",
    "    },\n",
    "    \"person2\": {\n",
    "        \"name\": \"Bob\",\n",
    "        \"age\": 30,\n",
    "        \"city\": \"San Francisco\"\n",
    "    }\n",
    "}"
   ]
  },
  {
   "cell_type": "markdown",
   "metadata": {
    "id": "hqgts6neaYqc"
   },
   "source": [
    "Add"
   ]
  },
  {
   "cell_type": "code",
   "execution_count": 90,
   "metadata": {
    "id": "jm0UdAujaYqc"
   },
   "outputs": [
    {
     "data": {
      "text/plain": [
       "{'person1': {'name': 'Alice',\n",
       "  'age': 25,\n",
       "  'city': 'Taipei City',\n",
       "  'gender': 'Female'},\n",
       " 'person2': {'name': 'Bob', 'age': 30, 'city': 'San Francisco'}}"
      ]
     },
     "execution_count": 90,
     "metadata": {},
     "output_type": "execute_result"
    }
   ],
   "source": [
    "staff[\"person1\"][\"gender\"] = \"Female\"\n",
    "staff"
   ]
  },
  {
   "cell_type": "markdown",
   "metadata": {
    "id": "ajDwAWigaYqc"
   },
   "source": [
    "Modify"
   ]
  },
  {
   "cell_type": "code",
   "execution_count": 91,
   "metadata": {
    "id": "jiRnqq0paYqc"
   },
   "outputs": [
    {
     "data": {
      "text/plain": [
       "{'person1': {'name': 'Alice',\n",
       "  'age': 25,\n",
       "  'city': 'Taipei City',\n",
       "  'gender': 'Female'},\n",
       " 'person2': {'name': 'Bob', 'age': 23, 'city': 'San Francisco'}}"
      ]
     },
     "execution_count": 91,
     "metadata": {},
     "output_type": "execute_result"
    }
   ],
   "source": [
    "staff['person2'][\"age\"] = 23\n",
    "staff"
   ]
  },
  {
   "cell_type": "markdown",
   "metadata": {
    "id": "-E-TLjfDaYqc"
   },
   "source": [
    "Delete"
   ]
  },
  {
   "cell_type": "code",
   "execution_count": 92,
   "metadata": {
    "id": "TuUEA7N_aYqc"
   },
   "outputs": [
    {
     "data": {
      "text/plain": [
       "{'person1': {'name': 'Alice',\n",
       "  'age': 25,\n",
       "  'city': 'Taipei City',\n",
       "  'gender': 'Female'},\n",
       " 'person2': {'name': 'Bob', 'age': 23}}"
      ]
     },
     "execution_count": 92,
     "metadata": {},
     "output_type": "execute_result"
    }
   ],
   "source": [
    "del staff[\"person2\"][\"city\"]\n",
    "staff"
   ]
  },
  {
   "cell_type": "markdown",
   "metadata": {
    "id": "svrswiCnaYqc"
   },
   "source": [
    "Pick"
   ]
  },
  {
   "cell_type": "code",
   "execution_count": 93,
   "metadata": {
    "id": "ztJQCanXaYqc"
   },
   "outputs": [
    {
     "name": "stdout",
     "output_type": "stream",
     "text": [
      "Alice\n",
      "23\n",
      "Taipei City\n",
      "{'name': 'Bob', 'age': 23}\n"
     ]
    }
   ],
   "source": [
    "print(staff[\"person1\"][\"name\"])\n",
    "print(staff[\"person2\"][\"age\"])\n",
    "print(staff[\"person1\"][\"city\"])\n",
    "print(staff[\"person2\"])"
   ]
  },
  {
   "cell_type": "markdown",
   "metadata": {
    "id": "kGnKY0GFaYqc"
   },
   "source": [
    "補充：list 包 dict"
   ]
  },
  {
   "cell_type": "code",
   "execution_count": 94,
   "metadata": {
    "id": "Ye0bGih-aYqc"
   },
   "outputs": [
    {
     "data": {
      "text/plain": [
       "['haha',\n",
       " 'SITCON',\n",
       " 20.23,\n",
       " 'Camp',\n",
       " {'person1': {'name': 'Alice',\n",
       "   'age': 25,\n",
       "   'city': 'Taipei City',\n",
       "   'gender': 'Female'},\n",
       "  'person2': {'name': 'Bob', 'age': 23}}]"
      ]
     },
     "execution_count": 94,
     "metadata": {},
     "output_type": "execute_result"
    }
   ],
   "source": [
    "staff_list = ['haha', 'SITCON', 20.23, 'Camp']\n",
    "staff_list.append(staff)\n",
    "staff_list"
   ]
  },
  {
   "cell_type": "markdown",
   "metadata": {
    "id": "YoY95uh50aQi"
   },
   "source": [
    "#### It's your turn🫵\n",
    "製作一段文章的字數字典"
   ]
  },
  {
   "cell_type": "code",
   "execution_count": null,
   "metadata": {
    "id": "w9wjoCf40aQi"
   },
   "outputs": [],
   "source": [
    "# 魔戒三部曲，電影劇情簡介\n",
    "paragraph = '''\n",
    "\t魔戒現身\t編輯\n",
    "凱蘭崔爾敍述的序言講及索倫鑄造至尊魔戒以圖征服中土大陸，人類及精靈組成聯盟發動最後同盟戰役推翻了索倫。至尊魔戒落入埃西鐸手中。埃西鐸後來被半獸人所殺，至尊魔戒失落，在數千年後才被哈比人史麥戈所獲，因受魔戒的影響，史麥戈成為咕嚕。至尊魔戒急欲返回它的主人索倫手裡，於是離棄咕嚕，被哈比人比爾博·巴金斯所獲。\n",
    "\n",
    "在比爾博111歲生日當天，比爾博將至尊魔戒讓給堂姪佛羅多·巴金斯。比爾博好友甘道夫經過探查後發現那就是失落的至尊魔戒，由於索倫急欲取得至尊魔戒，甘道夫囑咐佛羅多要儘速帶同魔戒離開夏爾。甘道夫趕往艾辛格與巫師的首領薩魯曼商討對策，薩魯曼透露索倫已派出戒靈奪取魔戒，認為中土自由子民無從抵抗，並邀請甘道夫和他一起加入索倫陣營。甘道夫拒絕，薩魯曼遂將甘道夫囚禁在歐散克塔。\n",
    "\n",
    "佛羅多和夥伴山姆在趕往布理途中遇到皮聘及梅里。他們在布理遇到神行客，神行客亞拉岡帶領他們趕往瑞文戴爾。他們在風雲頂被戒靈襲擊，佛羅多被戒靈刺傷，生命危在旦夕。女精靈亞玟帶同佛羅多趕往瑞文戴爾，亞玟的父親愛隆救治了佛羅多。\n",
    "\n",
    "愛隆召開會議商討至尊魔戒的事情。唯一摧毀至尊魔戒的方法就是將它丟進末日火山的火燄裡。佛羅多自願執行這個任務，其哈比人夥伴、甘道夫、亞拉岡、精靈勒苟拉斯、矮人金靂及剛鐸大將波羅莫都加入，組成魔戒遠征隊。他們原本計劃攀越卡蘭拉斯山，但受薩魯曼阻撓。魔戒遠征隊遂穿越摩瑞亞礦坑，他們在礦坑內受到半獸人、食人妖及炎魔的襲擊。甘道夫阻擊炎魔，雙雙墮入深淵。\n",
    "\n",
    "失去甘道夫的魔戒遠征隊趕往羅斯洛立安謁見女王凱蘭崔爾。整頓以後，眾人沿安都因河朝帕斯加蘭進發。波羅莫急切於利用魔戒拯救剛鐸，於是嘗試從佛羅多手中奪取魔戒。佛羅多有感於魔戒的誘惑力驚人，於是決定獨自前往魔多。此時，魔戒遠征隊受到薩魯曼的強獸人襲擊，後悔行為魯莽的波羅莫為了保護梅里及皮聘而受重傷，梅里及皮聘被強獸人擄走。亞拉岡原諒了波羅莫，波羅莫在死前終承認了亞拉岡是他的國王。亞拉岡、勒苟拉斯及金靂為了營救梅里及皮聘而追蹤強獸人。另一方面，佛羅多向北而行，渡過安都因河，尾隨而至的山姆誓死追隨佛羅多。\n",
    "\n",
    "雙城奇謀\t編輯\n",
    "電影開首呼應首部曲，甘道夫在摩瑞亞的橋上與炎魔對峙，甘道夫與炎魔墜落深淵。佛羅多從夢境中醒過來，與山姆繼續行程，他們被希望奪回魔戒的咕嚕襲擊，佛羅多及山姆制伏了他，佛羅多正需要一名嚮導引領他們前往魔多，於是讓他引路。\n",
    "\n",
    "在洛汗，薩魯曼那一支擄走梅里及皮聘的強獸人橫過草原向艾辛格進發，勒苟拉斯、金靂及亞拉岡尾隨追蹤。薩魯曼亦在洛汗國王身邊安插了葛力馬·巧言控制著希優頓。薩魯曼聚集大軍展開攻勢，沿途燒殺破壞，希優頓的兒子希優德戰死。希優頓之甥伊歐墨責難葛力馬，反被葛力馬驅逐，伊歐墨聚集了一些忠實的部下離去。\n",
    "\n",
    "佛羅多及山姆橫過死亡沼澤，一路上躲避戒靈的空中游戈，終於抵達黑門。黑門被重兵駐守，佛羅多及山姆兩人束手無策，咕嚕建議他們透過另一條秘密的階梯潛入魔多。同時，被驅逐的伊歐墨領導騎兵在法貢森林附近殲滅了梅里及皮聘所在的那一支強獸人，梅里及皮聘逃進法貢森林，並遇到樹鬍。\n",
    "\n",
    "勒苟拉斯、金靂及亞拉岡遭遇伊歐墨，得知梅里及皮聘生還機會渺茫，亞拉岡仔細查察之下發現梅里及皮聘進入了法貢森林，亦尾隨進入，他們在森林裡遇到白袍巫師，發現竟是重生的甘道夫。他們聯袂來到洛汗都城伊多拉斯，消除了薩魯曼對希優頓的控制，驅逐葛力馬。恢復自我的希優頓得知薩魯曼的威脅後決定將洛汗人民撤至要塞聖盔谷。甘道夫深明以洛汗的現有兵力堅守聖盔谷也不能抵擋薩魯曼的大軍，於是出發前往尋找伊歐墨。\n",
    "\n",
    "佛羅多、山姆及咕嚕目擊剛鐸軍隊伏擊一支南方人，佛羅多及山姆被剛鐸軍隊擒獲。洛汗人在撤往聖盔谷途中遭遇薩魯曼的狼騎士襲擊，亞拉岡墜落峭壁失蹤。在瑞文戴爾，亞拉岡的戀人亞玟在父親的勸說下出發，準備離開中土大陸。\n",
    "\n",
    "佛羅多及山姆被帶到漢那斯安南，剛鐸大將法拉墨得悉佛羅多持有魔戒，為了向父親證明他的價值，他決定將佛羅多及至尊魔戒帶到剛鐸。亞拉岡抵達聖盔谷，準備迎戰薩魯曼，一支受愛隆所命的精靈部隊亦赴援。法貢森林的樹鬍召開樹人會議，商討是否應介入戰爭。\n",
    "\n",
    "聖盔谷之戰在大雨下展開，洛汗戰士奮力抵擋。樹人會議最終決定不介入戰爭，皮聘誘導樹鬍將他們帶到南面，樹鬍發現法貢森林南部的林木被薩魯曼砍伐用作燃料，樹鬍震怒，遂帶領樹人報復。\n",
    "\n",
    "洛汗一方的形勢急轉直下，亞拉岡等人帶領守軍進行最後的衝鋒，清晨時分，甘道夫引領援軍抵達戰場，擊敗了強獸人大軍。樹人亦控制了艾辛格。法拉墨等人到達奧斯吉力亞斯，該處正在進行戰鬥，法拉墨得悉佛羅多等人的任務，決定釋放他們。咕嚕感到被佛羅多背叛，於是引導兩名哈比人前往「她」那裡。\n",
    "\n",
    "王者再臨\t編輯\n",
    "電影開始時講述哈比人德戈及史麥戈發現魔戒的過程，史麥戈殺死德戈並奪取魔戒，從此隱匿深山裡。\n",
    "\n",
    "返回現在，亞拉岡等人來到艾辛格，會合梅里及皮聘，薩魯曼想告知甘道夫魔多的事情時，被葛力馬‧巧言從後偷襲，跌下塔底死亡，真知晶球從袍內流出，皮聘拾起了薩魯曼的真知晶球，但被甘道夫取去。希優頓在返回伊多拉斯後舉行慶典。佛羅多等人逐漸靠近魔多，咕嚕的陰謀面也逐漸呈現，他計劃引導哈比人到西力斯昂哥，讓屍羅殺死他們，他便可獲得魔戒，又開始離間佛羅多與山姆。\n",
    "\n",
    "出於好奇的皮聘偷看真知晶球，他看到燃燒中的聖白樹，索倫透過心靈接觸拷問皮聘。甘道夫以此推斷索倫準備進攻米那斯提力斯，於是攜同皮聘趕往警示剛鐸攝政王迪耐瑟二世。前往灰港岸路上的亞玟預見了她和亞拉岡的兒子，她返回瑞文戴爾說服父親，又讓父親重鑄納希爾聖劍。\n",
    "\n",
    "甘道夫及皮聘到達米那斯提力斯，謁見因波羅莫之死而悲傷的迪耐瑟二世。皮聘向迪耐瑟效忠以回報波羅莫的犠牲，悲傷的迪耐瑟無意採取任何措施回應索倫的行動。佛羅多等人路經米那斯魔窟附近，目睹安格馬巫王派遣軍隊出擊的情況。甘道夫指示皮聘燃點烽火台向洛汗求援。\n",
    "\n",
    "魔多大軍渡過安都因河向剛鐸控制的奧斯吉力亞斯進攻，以法拉墨為首的剛鐸守軍大敗，撤返米那斯提力斯。敗軍被戒靈追擊，甘道夫營救他們，法拉墨向甘道夫透露了佛羅多等人的情況。\n",
    "\n",
    "攻克奧斯吉力亞斯後，安格馬巫王下令要殺絕米那斯提力斯的人類。迪耐瑟不滿法拉墨棄守奧斯吉力亞斯，要他不惜一切代價奪回奧斯吉力亞斯。咕嚕繼續離間佛羅多及山姆，終使佛羅多趕走山姆。\n",
    "\n",
    "法拉墨的自殺式攻勢全軍覆沒，他本人亦重創而回。同時，愛隆趕來會面亞拉岡，奉上納希爾聖劍，並促請亞拉岡以此劍召喚登哈洛的亡者參戰，亞拉岡遂聯同金靂、勒苟拉斯連夜出發。一直傾慕亞拉岡的洛汗王女伊歐玟懇求亞拉岡留下來，亞拉岡從愛隆口中得知亞玟為了他放棄了精靈的永生，拒絕了伊歐玟。翌晨，希優頓領導六千騎兵赴援，伊歐玟及梅里亦暗中混入軍隊。\n",
    "\n",
    "魔多大軍開始圍攻米那斯提力斯，迪耐瑟誤以為重傷的法拉墨已離世，絕望及失去子嗣打垮了迪耐瑟，他下令剛鐸守軍放棄抵抗，甘道夫制伏了他，並指揮作戰。咕嚕引領佛羅多來到屍羅巢穴，佛羅多被屍羅的毒針所傷，山姆趕到，並擊退屍羅。山姆誤以為佛羅多已死，昏迷的佛羅多被半獸人帶走。\n",
    "\n",
    "魔多大軍擊破了城門，守軍不支退守內城。此時，洛汗援軍抵達一度擊潰了魔多大軍，但隨著南方人的增援，魔多大軍在猛瑪的掩護下再次集結兵力。安格馬巫王重創希優頓，伊歐玟為了保護國王挺身與安格馬巫王對峙，亦被重創，梅里在危急關頭介入，與伊歐玟聯手殺死安格馬巫王。亞拉岡透過海盜船帶領著亡者軍隊抵達，擊敗魔多軍隊。希優頓傷重逝世。亡者軍隊在履行了諾言後，亞拉岡將他們釋放，亡靈隨風而去。西力斯昂哥的守軍因佛羅多的一件秘銀甲衣而爆發內鬨，大部分半獸人守軍都死於這次衝突，山姆得以營救佛羅多，兩人向末日火山進發。\n",
    "\n",
    "甘道夫得知一萬魔多士兵集結在西力斯昂哥與末日火山之間，堵住了佛羅多的去路。亞拉岡提議率領部隊開赴黑門以吸引索倫的注意力。\n",
    "\n",
    "山姆及佛羅多即將抵達目的地，咕嚕在此時現身並襲擊兩人。佛羅多最終在末日火山被至尊魔戒控制，他戴上了魔戒將之據為己有，咕嚕上前搶奪魔戒，咬斷了佛羅多的手指，咕嚕得到魔戒後非常興奮，佛羅多上前糾纏，兩人在懸崖失足。佛羅多幸得山姆解救，咕嚕與至尊魔戒都被熾熱的熔岩摧毀。力量與至尊魔戒相連的索倫終告失敗，永遠失去了力量。正在黑門前作戰的半獸人及戒靈亦受到牽連。\n",
    "\n",
    "末日火山爆發，正當介佛羅多及山姆都以為他們沒法再看見夏爾時，甘道夫與巨鷹拯救了他們。除了波羅莫外，魔戒遠征隊在米那斯提力斯團圓。亞拉岡被加冕為剛鐸國王，並再會亞玟。哈比人返回家鄉，山姆迎娶小玫·卡頓，佛羅多續作了西境紅皮書，他仍受到魔戒影響，他知道他無法在中土大陸平穩地生活，於是決定與甘道夫、比爾博、愛隆、凱蘭崔爾前往灰港岸，乘上離開中土大陸的船隻。山姆、皮聘及梅里各自回家，山姆最終以一句「我回來了」作終。\n",
    "'''\n",
    "\n",
    "# refer to https://zh.m.wikipedia.org/zh-tw/%E9%AD%94%E6%88%92%E9%9B%BB%E5%BD%B1%E4%B8%89%E9%83%A8%E6%9B%B2"
   ]
  },
  {
   "cell_type": "markdown",
   "metadata": {
    "id": "oZWTdLHx0aQi"
   },
   "source": [
    "1. 請將 paragraph 變成 unigram"
   ]
  },
  {
   "cell_type": "code",
   "execution_count": 105,
   "metadata": {
    "id": "P934V5lp0aQj"
   },
   "outputs": [
    {
     "name": "stdout",
     "output_type": "stream",
     "text": [
      "['\\n', '\\t', '魔', '戒', '現', '身', '\\t', '編', '輯', '\\n', '凱', '蘭', '崔', '爾', '敍', '述', '的', '序', '言', '講', '及', '索', '倫', '鑄', '造', '至', '尊', '魔', '戒', '以', '圖', '征', '服', '中', '土', '大', '陸', '，', '人', '類', '及', '精', '靈', '組', '成', '聯', '盟', '發', '動', '最', '後', '同', '盟', '戰', '役', '推', '翻', '了', '索', '倫', '。', '至', '尊', '魔', '戒', '落', '入', '埃', '西', '鐸', '手', '中', '。', '埃', '西', '鐸', '後', '來', '被', '半', '獸', '人', '所', '殺', '，', '至', '尊', '魔', '戒', '失', '落', '，', '在', '數', '千', '年', '後', '才', '被', '哈', '比', '人', '史', '麥', '戈', '所', '獲', '，', '因', '受', '魔', '戒', '的', '影', '響', '，', '史', '麥', '戈', '成', '為', '咕', '嚕', '。', '至', '尊', '魔', '戒', '急', '欲', '返', '回', '它', '的', '主', '人', '索', '倫', '手', '裡', '，', '於', '是', '離', '棄', '咕', '嚕', '，', '被', '哈', '比', '人', '比', '爾', '博', '·', '巴', '金', '斯', '所', '獲', '。', '\\n', '\\n', '在', '比', '爾', '博', '1', '1', '1', '歲', '生', '日', '當', '天', '，', '比', '爾', '博', '將', '至', '尊', '魔', '戒', '讓', '給', '堂', '姪', '佛', '羅', '多', '·', '巴', '金', '斯', '。', '比', '爾', '博', '好', '友', '甘', '道', '夫', '經', '過', '探', '查', '後', '發', '現', '那', '就', '是', '失', '落', '的', '至', '尊', '魔', '戒', '，', '由', '於', '索', '倫', '急', '欲', '取', '得', '至', '尊', '魔', '戒', '，', '甘', '道', '夫', '囑', '咐', '佛', '羅', '多', '要', '儘', '速', '帶', '同', '魔', '戒', '離', '開', '夏', '爾', '。', '甘', '道', '夫', '趕', '往', '艾', '辛', '格', '與', '巫', '師', '的', '首', '領', '薩', '魯', '曼', '商', '討', '對', '策', '，', '薩', '魯', '曼', '透', '露', '索', '倫', '已', '派', '出', '戒', '靈', '奪', '取', '魔', '戒', '，', '認', '為', '中', '土', '自', '由', '子', '民', '無', '從', '抵', '抗', '，', '並', '邀', '請', '甘', '道', '夫', '和', '他', '一', '起', '加', '入', '索', '倫', '陣', '營', '。', '甘', '道', '夫', '拒', '絕', '，', '薩', '魯', '曼', '遂', '將', '甘', '道', '夫', '囚', '禁', '在', '歐', '散', '克', '塔', '。', '\\n', '\\n', '佛', '羅', '多', '和', '夥', '伴', '山', '姆', '在', '趕', '往', '布', '理', '途', '中', '遇', '到', '皮', '聘', '及', '梅', '里', '。', '他', '們', '在', '布', '理', '遇', '到', '神', '行', '客', '，', '神', '行', '客', '亞', '拉', '岡', '帶', '領', '他', '們', '趕', '往', '瑞', '文', '戴', '爾', '。', '他', '們', '在', '風', '雲', '頂', '被', '戒', '靈', '襲', '擊', '，', '佛', '羅', '多', '被', '戒', '靈', '刺', '傷', '，', '生', '命', '危', '在', '旦', '夕', '。', '女', '精', '靈', '亞', '玟', '帶', '同', '佛', '羅', '多', '趕', '往', '瑞', '文', '戴', '爾', '，', '亞', '玟', '的', '父', '親', '愛', '隆', '救', '治', '了', '佛', '羅', '多', '。', '\\n', '\\n', '愛', '隆', '召', '開', '會', '議', '商', '討', '至', '尊', '魔', '戒', '的', '事', '情', '。', '唯', '一', '摧', '毀', '至', '尊', '魔', '戒', '的', '方', '法', '就', '是', '將', '它', '丟', '進', '末', '日', '火', '山', '的', '火', '燄', '裡', '。', '佛', '羅', '多', '自', '願', '執', '行', '這', '個', '任', '務', '，', '其', '哈', '比', '人', '夥', '伴', '、', '甘', '道', '夫', '、', '亞', '拉', '岡', '、', '精', '靈', '勒', '苟', '拉', '斯', '、', '矮', '人', '金', '靂', '及', '剛', '鐸', '大', '將', '波', '羅', '莫', '都', '加', '入', '，', '組', '成', '魔', '戒', '遠', '征', '隊', '。', '他', '們', '原', '本', '計', '劃', '攀', '越', '卡', '蘭', '拉', '斯', '山', '，', '但', '受', '薩', '魯', '曼', '阻', '撓', '。', '魔', '戒', '遠', '征', '隊', '遂', '穿', '越', '摩', '瑞', '亞', '礦', '坑', '，', '他', '們', '在', '礦', '坑', '內', '受', '到', '半', '獸', '人', '、', '食', '人', '妖', '及', '炎', '魔', '的', '襲', '擊', '。', '甘', '道', '夫', '阻', '擊', '炎', '魔', '，', '雙', '雙', '墮', '入', '深', '淵', '。', '\\n', '\\n', '失', '去', '甘', '道', '夫', '的', '魔', '戒', '遠', '征', '隊', '趕', '往', '羅', '斯', '洛', '立', '安', '謁', '見', '女', '王', '凱', '蘭', '崔', '爾', '。', '整', '頓', '以', '後', '，', '眾', '人', '沿', '安', '都', '因', '河', '朝', '帕', '斯', '加', '蘭', '進', '發', '。', '波', '羅', '莫', '急', '切', '於', '利', '用', '魔', '戒', '拯', '救', '剛', '鐸', '，', '於', '是', '嘗', '試', '從', '佛', '羅', '多', '手', '中', '奪', '取', '魔', '戒', '。', '佛', '羅', '多', '有', '感', '於', '魔', '戒', '的', '誘', '惑', '力', '驚', '人', '，', '於', '是', '決', '定', '獨', '自', '前', '往', '魔', '多', '。', '此', '時', '，', '魔', '戒', '遠', '征', '隊', '受', '到', '薩', '魯', '曼', '的', '強', '獸', '人', '襲', '擊', '，', '後', '悔', '行', '為', '魯', '莽', '的', '波', '羅', '莫', '為', '了', '保', '護', '梅', '里', '及', '皮', '聘', '而', '受', '重', '傷', '，', '梅', '里', '及', '皮', '聘', '被', '強', '獸', '人', '擄', '走', '。', '亞', '拉', '岡', '原', '諒', '了', '波', '羅', '莫', '，', '波', '羅', '莫', '在', '死', '前', '終', '承', '認', '了', '亞', '拉', '岡', '是', '他', '的', '國', '王', '。', '亞', '拉', '岡', '、', '勒', '苟', '拉', '斯', '及', '金', '靂', '為', '了', '營', '救', '梅', '里', '及', '皮', '聘', '而', '追', '蹤', '強', '獸', '人', '。', '另', '一', '方', '面', '，', '佛', '羅', '多', '向', '北', '而', '行', '，', '渡', '過', '安', '都', '因', '河', '，', '尾', '隨', '而', '至', '的', '山', '姆', '誓', '死', '追', '隨', '佛', '羅', '多', '。', '\\n', '\\n', '雙', '城', '奇', '謀', '\\t', '編', '輯', '\\n', '電', '影', '開', '首', '呼', '應', '首', '部', '曲', '，', '甘', '道', '夫', '在', '摩', '瑞', '亞', '的', '橋', '上', '與', '炎', '魔', '對', '峙', '，', '甘', '道', '夫', '與', '炎', '魔', '墜', '落', '深', '淵', '。', '佛', '羅', '多', '從', '夢', '境', '中', '醒', '過', '來', '，', '與', '山', '姆', '繼', '續', '行', '程', '，', '他', '們', '被', '希', '望', '奪', '回', '魔', '戒', '的', '咕', '嚕', '襲', '擊', '，', '佛', '羅', '多', '及', '山', '姆', '制', '伏', '了', '他', '，', '佛', '羅', '多', '正', '需', '要', '一', '名', '嚮', '導', '引', '領', '他', '們', '前', '往', '魔', '多', '，', '於', '是', '讓', '他', '引', '路', '。', '\\n', '\\n', '在', '洛', '汗', '，', '薩', '魯', '曼', '那', '一', '支', '擄', '走', '梅', '里', '及', '皮', '聘', '的', '強', '獸', '人', '橫', '過', '草', '原', '向', '艾', '辛', '格', '進', '發', '，', '勒', '苟', '拉', '斯', '、', '金', '靂', '及', '亞', '拉', '岡', '尾', '隨', '追', '蹤', '。', '薩', '魯', '曼', '亦', '在', '洛', '汗', '國', '王', '身', '邊', '安', '插', '了', '葛', '力', '馬', '·', '巧', '言', '控', '制', '著', '希', '優', '頓', '。', '薩', '魯', '曼', '聚', '集', '大', '軍', '展', '開', '攻', '勢', '，', '沿', '途', '燒', '殺', '破', '壞', '，', '希', '優', '頓', '的', '兒', '子', '希', '優', '德', '戰', '死', '。', '希', '優', '頓', '之', '甥', '伊', '歐', '墨', '責', '難', '葛', '力', '馬', '，', '反', '被', '葛', '力', '馬', '驅', '逐', '，', '伊', '歐', '墨', '聚', '集', '了', '一', '些', '忠', '實', '的', '部', '下', '離', '去', '。', '\\n', '\\n', '佛', '羅', '多', '及', '山', '姆', '橫', '過', '死', '亡', '沼', '澤', '，', '一', '路', '上', '躲', '避', '戒', '靈', '的', '空', '中', '游', '戈', '，', '終', '於', '抵', '達', '黑', '門', '。', '黑', '門', '被', '重', '兵', '駐', '守', '，', '佛', '羅', '多', '及', '山', '姆', '兩', '人', '束', '手', '無', '策', '，', '咕', '嚕', '建', '議', '他', '們', '透', '過', '另', '一', '條', '秘', '密', '的', '階', '梯', '潛', '入', '魔', '多', '。', '同', '時', '，', '被', '驅', '逐', '的', '伊', '歐', '墨', '領', '導', '騎', '兵', '在', '法', '貢', '森', '林', '附', '近', '殲', '滅', '了', '梅', '里', '及', '皮', '聘', '所', '在', '的', '那', '一', '支', '強', '獸', '人', '，', '梅', '里', '及', '皮', '聘', '逃', '進', '法', '貢', '森', '林', '，', '並', '遇', '到', '樹', '鬍', '。', '\\n', '\\n', '勒', '苟', '拉', '斯', '、', '金', '靂', '及', '亞', '拉', '岡', '遭', '遇', '伊', '歐', '墨', '，', '得', '知', '梅', '里', '及', '皮', '聘', '生', '還', '機', '會', '渺', '茫', '，', '亞', '拉', '岡', '仔', '細', '查', '察', '之', '下', '發', '現', '梅', '里', '及', '皮', '聘', '進', '入', '了', '法', '貢', '森', '林', '，', '亦', '尾', '隨', '進', '入', '，', '他', '們', '在', '森', '林', '裡', '遇', '到', '白', '袍', '巫', '師', '，', '發', '現', '竟', '是', '重', '生', '的', '甘', '道', '夫', '。', '他', '們', '聯', '袂', '來', '到', '洛', '汗', '都', '城', '伊', '多', '拉', '斯', '，', '消', '除', '了', '薩', '魯', '曼', '對', '希', '優', '頓', '的', '控', '制', '，', '驅', '逐', '葛', '力', '馬', '。', '恢', '復', '自', '我', '的', '希', '優', '頓', '得', '知', '薩', '魯', '曼', '的', '威', '脅', '後', '決', '定', '將', '洛', '汗', '人', '民', '撤', '至', '要', '塞', '聖', '盔', '谷', '。', '甘', '道', '夫', '深', '明', '以', '洛', '汗', '的', '現', '有', '兵', '力', '堅', '守', '聖', '盔', '谷', '也', '不', '能', '抵', '擋', '薩', '魯', '曼', '的', '大', '軍', '，', '於', '是', '出', '發', '前', '往', '尋', '找', '伊', '歐', '墨', '。', '\\n', '\\n', '佛', '羅', '多', '、', '山', '姆', '及', '咕', '嚕', '目', '擊', '剛', '鐸', '軍', '隊', '伏', '擊', '一', '支', '南', '方', '人', '，', '佛', '羅', '多', '及', '山', '姆', '被', '剛', '鐸', '軍', '隊', '擒', '獲', '。', '洛', '汗', '人', '在', '撤', '往', '聖', '盔', '谷', '途', '中', '遭', '遇', '薩', '魯', '曼', '的', '狼', '騎', '士', '襲', '擊', '，', '亞', '拉', '岡', '墜', '落', '峭', '壁', '失', '蹤', '。', '在', '瑞', '文', '戴', '爾', '，', '亞', '拉', '岡', '的', '戀', '人', '亞', '玟', '在', '父', '親', '的', '勸', '說', '下', '出', '發', '，', '準', '備', '離', '開', '中', '土', '大', '陸', '。', '\\n', '\\n', '佛', '羅', '多', '及', '山', '姆', '被', '帶', '到', '漢', '那', '斯', '安', '南', '，', '剛', '鐸', '大', '將', '法', '拉', '墨', '得', '悉', '佛', '羅', '多', '持', '有', '魔', '戒', '，', '為', '了', '向', '父', '親', '證', '明', '他', '的', '價', '值', '，', '他', '決', '定', '將', '佛', '羅', '多', '及', '至', '尊', '魔', '戒', '帶', '到', '剛', '鐸', '。', '亞', '拉', '岡', '抵', '達', '聖', '盔', '谷', '，', '準', '備', '迎', '戰', '薩', '魯', '曼', '，', '一', '支', '受', '愛', '隆', '所', '命', '的', '精', '靈', '部', '隊', '亦', '赴', '援', '。', '法', '貢', '森', '林', '的', '樹', '鬍', '召', '開', '樹', '人', '會', '議', '，', '商', '討', '是', '否', '應', '介', '入', '戰', '爭', '。', '\\n', '\\n', '聖', '盔', '谷', '之', '戰', '在', '大', '雨', '下', '展', '開', '，', '洛', '汗', '戰', '士', '奮', '力', '抵', '擋', '。', '樹', '人', '會', '議', '最', '終', '決', '定', '不', '介', '入', '戰', '爭', '，', '皮', '聘', '誘', '導', '樹', '鬍', '將', '他', '們', '帶', '到', '南', '面', '，', '樹', '鬍', '發', '現', '法', '貢', '森', '林', '南', '部', '的', '林', '木', '被', '薩', '魯', '曼', '砍', '伐', '用', '作', '燃', '料', '，', '樹', '鬍', '震', '怒', '，', '遂', '帶', '領', '樹', '人', '報', '復', '。', '\\n', '\\n', '洛', '汗', '一', '方', '的', '形', '勢', '急', '轉', '直', '下', '，', '亞', '拉', '岡', '等', '人', '帶', '領', '守', '軍', '進', '行', '最', '後', '的', '衝', '鋒', '，', '清', '晨', '時', '分', '，', '甘', '道', '夫', '引', '領', '援', '軍', '抵', '達', '戰', '場', '，', '擊', '敗', '了', '強', '獸', '人', '大', '軍', '。', '樹', '人', '亦', '控', '制', '了', '艾', '辛', '格', '。', '法', '拉', '墨', '等', '人', '到', '達', '奧', '斯', '吉', '力', '亞', '斯', '，', '該', '處', '正', '在', '進', '行', '戰', '鬥', '，', '法', '拉', '墨', '得', '悉', '佛', '羅', '多', '等', '人', '的', '任', '務', '，', '決', '定', '釋', '放', '他', '們', '。', '咕', '嚕', '感', '到', '被', '佛', '羅', '多', '背', '叛', '，', '於', '是', '引', '導', '兩', '名', '哈', '比', '人', '前', '往', '「', '她', '」', '那', '裡', '。', '\\n', '\\n', '王', '者', '再', '臨', '\\t', '編', '輯', '\\n', '電', '影', '開', '始', '時', '講', '述', '哈', '比', '人', '德', '戈', '及', '史', '麥', '戈', '發', '現', '魔', '戒', '的', '過', '程', '，', '史', '麥', '戈', '殺', '死', '德', '戈', '並', '奪', '取', '魔', '戒', '，', '從', '此', '隱', '匿', '深', '山', '裡', '。', '\\n', '\\n', '返', '回', '現', '在', '，', '亞', '拉', '岡', '等', '人', '來', '到', '艾', '辛', '格', '，', '會', '合', '梅', '里', '及', '皮', '聘', '，', '薩', '魯', '曼', '想', '告', '知', '甘', '道', '夫', '魔', '多', '的', '事', '情', '時', '，', '被', '葛', '力', '馬', '‧', '巧', '言', '從', '後', '偷', '襲', '，', '跌', '下', '塔', '底', '死', '亡', '，', '真', '知', '晶', '球', '從', '袍', '內', '流', '出', '，', '皮', '聘', '拾', '起', '了', '薩', '魯', '曼', '的', '真', '知', '晶', '球', '，', '但', '被', '甘', '道', '夫', '取', '去', '。', '希', '優', '頓', '在', '返', '回', '伊', '多', '拉', '斯', '後', '舉', '行', '慶', '典', '。', '佛', '羅', '多', '等', '人', '逐', '漸', '靠', '近', '魔', '多', '，', '咕', '嚕', '的', '陰', '謀', '面', '也', '逐', '漸', '呈', '現', '，', '他', '計', '劃', '引', '導', '哈', '比', '人', '到', '西', '力', '斯', '昂', '哥', '，', '讓', '屍', '羅', '殺', '死', '他', '們', '，', '他', '便', '可', '獲', '得', '魔', '戒', '，', '又', '開', '始', '離', '間', '佛', '羅', '多', '與', '山', '姆', '。', '\\n', '\\n', '出', '於', '好', '奇', '的', '皮', '聘', '偷', '看', '真', '知', '晶', '球', '，', '他', '看', '到', '燃', '燒', '中', '的', '聖', '白', '樹', '，', '索', '倫', '透', '過', '心', '靈', '接', '觸', '拷', '問', '皮', '聘', '。', '甘', '道', '夫', '以', '此', '推', '斷', '索', '倫', '準', '備', '進', '攻', '米', '那', '斯', '提', '力', '斯', '，', '於', '是', '攜', '同', '皮', '聘', '趕', '往', '警', '示', '剛', '鐸', '攝', '政', '王', '迪', '耐', '瑟', '二', '世', '。', '前', '往', '灰', '港', '岸', '路', '上', '的', '亞', '玟', '預', '見', '了', '她', '和', '亞', '拉', '岡', '的', '兒', '子', '，', '她', '返', '回', '瑞', '文', '戴', '爾', '說', '服', '父', '親', '，', '又', '讓', '父', '親', '重', '鑄', '納', '希', '爾', '聖', '劍', '。', '\\n', '\\n', '甘', '道', '夫', '及', '皮', '聘', '到', '達', '米', '那', '斯', '提', '力', '斯', '，', '謁', '見', '因', '波', '羅', '莫', '之', '死', '而', '悲', '傷', '的', '迪', '耐', '瑟', '二', '世', '。', '皮', '聘', '向', '迪', '耐', '瑟', '效', '忠', '以', '回', '報', '波', '羅', '莫', '的', '犠', '牲', '，', '悲', '傷', '的', '迪', '耐', '瑟', '無', '意', '採', '取', '任', '何', '措', '施', '回', '應', '索', '倫', '的', '行', '動', '。', '佛', '羅', '多', '等', '人', '路', '經', '米', '那', '斯', '魔', '窟', '附', '近', '，', '目', '睹', '安', '格', '馬', '巫', '王', '派', '遣', '軍', '隊', '出', '擊', '的', '情', '況', '。', '甘', '道', '夫', '指', '示', '皮', '聘', '燃', '點', '烽', '火', '台', '向', '洛', '汗', '求', '援', '。', '\\n', '\\n', '魔', '多', '大', '軍', '渡', '過', '安', '都', '因', '河', '向', '剛', '鐸', '控', '制', '的', '奧', '斯', '吉', '力', '亞', '斯', '進', '攻', '，', '以', '法', '拉', '墨', '為', '首', '的', '剛', '鐸', '守', '軍', '大', '敗', '，', '撤', '返', '米', '那', '斯', '提', '力', '斯', '。', '敗', '軍', '被', '戒', '靈', '追', '擊', '，', '甘', '道', '夫', '營', '救', '他', '們', '，', '法', '拉', '墨', '向', '甘', '道', '夫', '透', '露', '了', '佛', '羅', '多', '等', '人', '的', '情', '況', '。', '\\n', '\\n', '攻', '克', '奧', '斯', '吉', '力', '亞', '斯', '後', '，', '安', '格', '馬', '巫', '王', '下', '令', '要', '殺', '絕', '米', '那', '斯', '提', '力', '斯', '的', '人', '類', '。', '迪', '耐', '瑟', '不', '滿', '法', '拉', '墨', '棄', '守', '奧', '斯', '吉', '力', '亞', '斯', '，', '要', '他', '不', '惜', '一', '切', '代', '價', '奪', '回', '奧', '斯', '吉', '力', '亞', '斯', '。', '咕', '嚕', '繼', '續', '離', '間', '佛', '羅', '多', '及', '山', '姆', '，', '終', '使', '佛', '羅', '多', '趕', '走', '山', '姆', '。', '\\n', '\\n', '法', '拉', '墨', '的', '自', '殺', '式', '攻', '勢', '全', '軍', '覆', '沒', '，', '他', '本', '人', '亦', '重', '創', '而', '回', '。', '同', '時', '，', '愛', '隆', '趕', '來', '會', '面', '亞', '拉', '岡', '，', '奉', '上', '納', '希', '爾', '聖', '劍', '，', '並', '促', '請', '亞', '拉', '岡', '以', '此', '劍', '召', '喚', '登', '哈', '洛', '的', '亡', '者', '參', '戰', '，', '亞', '拉', '岡', '遂', '聯', '同', '金', '靂', '、', '勒', '苟', '拉', '斯', '連', '夜', '出', '發', '。', '一', '直', '傾', '慕', '亞', '拉', '岡', '的', '洛', '汗', '王', '女', '伊', '歐', '玟', '懇', '求', '亞', '拉', '岡', '留', '下', '來', '，', '亞', '拉', '岡', '從', '愛', '隆', '口', '中', '得', '知', '亞', '玟', '為', '了', '他', '放', '棄', '了', '精', '靈', '的', '永', '生', '，', '拒', '絕', '了', '伊', '歐', '玟', '。', '翌', '晨', '，', '希', '優', '頓', '領', '導', '六', '千', '騎', '兵', '赴', '援', '，', '伊', '歐', '玟', '及', '梅', '里', '亦', '暗', '中', '混', '入', '軍', '隊', '。', '\\n', '\\n', '魔', '多', '大', '軍', '開', '始', '圍', '攻', '米', '那', '斯', '提', '力', '斯', '，', '迪', '耐', '瑟', '誤', '以', '為', '重', '傷', '的', '法', '拉', '墨', '已', '離', '世', '，', '絕', '望', '及', '失', '去', '子', '嗣', '打', '垮', '了', '迪', '耐', '瑟', '，', '他', '下', '令', '剛', '鐸', '守', '軍', '放', '棄', '抵', '抗', '，', '甘', '道', '夫', '制', '伏', '了', '他', '，', '並', '指', '揮', '作', '戰', '。', '咕', '嚕', '引', '領', '佛', '羅', '多', '來', '到', '屍', '羅', '巢', '穴', '，', '佛', '羅', '多', '被', '屍', '羅', '的', '毒', '針', '所', '傷', '，', '山', '姆', '趕', '到', '，', '並', '擊', '退', '屍', '羅', '。', '山', '姆', '誤', '以', '為', '佛', '羅', '多', '已', '死', '，', '昏', '迷', '的', '佛', '羅', '多', '被', '半', '獸', '人', '帶', '走', '。', '\\n', '\\n', '魔', '多', '大', '軍', '擊', '破', '了', '城', '門', '，', '守', '軍', '不', '支', '退', '守', '內', '城', '。', '此', '時', '，', '洛', '汗', '援', '軍', '抵', '達', '一', '度', '擊', '潰', '了', '魔', '多', '大', '軍', '，', '但', '隨', '著', '南', '方', '人', '的', '增', '援', '，', '魔', '多', '大', '軍', '在', '猛', '瑪', '的', '掩', '護', '下', '再', '次', '集', '結', '兵', '力', '。', '安', '格', '馬', '巫', '王', '重', '創', '希', '優', '頓', '，', '伊', '歐', '玟', '為', '了', '保', '護', '國', '王', '挺', '身', '與', '安', '格', '馬', '巫', '王', '對', '峙', '，', '亦', '被', '重', '創', '，', '梅', '里', '在', '危', '急', '關', '頭', '介', '入', '，', '與', '伊', '歐', '玟', '聯', '手', '殺', '死', '安', '格', '馬', '巫', '王', '。', '亞', '拉', '岡', '透', '過', '海', '盜', '船', '帶', '領', '著', '亡', '者', '軍', '隊', '抵', '達', '，', '擊', '敗', '魔', '多', '軍', '隊', '。', '希', '優', '頓', '傷', '重', '逝', '世', '。', '亡', '者', '軍', '隊', '在', '履', '行', '了', '諾', '言', '後', '，', '亞', '拉', '岡', '將', '他', '們', '釋', '放', '，', '亡', '靈', '隨', '風', '而', '去', '。', '西', '力', '斯', '昂', '哥', '的', '守', '軍', '因', '佛', '羅', '多', '的', '一', '件', '秘', '銀', '甲', '衣', '而', '爆', '發', '內', '鬨', '，', '大', '部', '分', '半', '獸', '人', '守', '軍', '都', '死', '於', '這', '次', '衝', '突', '，', '山', '姆', '得', '以', '營', '救', '佛', '羅', '多', '，', '兩', '人', '向', '末', '日', '火', '山', '進', '發', '。', '\\n', '\\n', '甘', '道', '夫', '得', '知', '一', '萬', '魔', '多', '士', '兵', '集', '結', '在', '西', '力', '斯', '昂', '哥', '與', '末', '日', '火', '山', '之', '間', '，', '堵', '住', '了', '佛', '羅', '多', '的', '去', '路', '。', '亞', '拉', '岡', '提', '議', '率', '領', '部', '隊', '開', '赴', '黑', '門', '以', '吸', '引', '索', '倫', '的', '注', '意', '力', '。', '\\n', '\\n', '山', '姆', '及', '佛', '羅', '多', '即', '將', '抵', '達', '目', '的', '地', '，', '咕', '嚕', '在', '此', '時', '現', '身', '並', '襲', '擊', '兩', '人', '。', '佛', '羅', '多', '最', '終', '在', '末', '日', '火', '山', '被', '至', '尊', '魔', '戒', '控', '制', '，', '他', '戴', '上', '了', '魔', '戒', '將', '之', '據', '為', '己', '有', '，', '咕', '嚕', '上', '前', '搶', '奪', '魔', '戒', '，', '咬', '斷', '了', '佛', '羅', '多', '的', '手', '指', '，', '咕', '嚕', '得', '到', '魔', '戒', '後', '非', '常', '興', '奮', '，', '佛', '羅', '多', '上', '前', '糾', '纏', '，', '兩', '人', '在', '懸', '崖', '失', '足', '。', '佛', '羅', '多', '幸', '得', '山', '姆', '解', '救', '，', '咕', '嚕', '與', '至', '尊', '魔', '戒', '都', '被', '熾', '熱', '的', '熔', '岩', '摧', '毀', '。', '力', '量', '與', '至', '尊', '魔', '戒', '相', '連', '的', '索', '倫', '終', '告', '失', '敗', '，', '永', '遠', '失', '去', '了', '力', '量', '。', '正', '在', '黑', '門', '前', '作', '戰', '的', '半', '獸', '人', '及', '戒', '靈', '亦', '受', '到', '牽', '連', '。', '\\n', '\\n', '末', '日', '火', '山', '爆', '發', '，', '正', '當', '介', '佛', '羅', '多', '及', '山', '姆', '都', '以', '為', '他', '們', '沒', '法', '再', '看', '見', '夏', '爾', '時', '，', '甘', '道', '夫', '與', '巨', '鷹', '拯', '救', '了', '他', '們', '。', '除', '了', '波', '羅', '莫', '外', '，', '魔', '戒', '遠', '征', '隊', '在', '米', '那', '斯', '提', '力', '斯', '團', '圓', '。', '亞', '拉', '岡', '被', '加', '冕', '為', '剛', '鐸', '國', '王', '，', '並', '再', '會', '亞', '玟', '。', '哈', '比', '人', '返', '回', '家', '鄉', '，', '山', '姆', '迎', '娶', '小', '玫', '·', '卡', '頓', '，', '佛', '羅', '多', '續', '作', '了', '西', '境', '紅', '皮', '書', '，', '他', '仍', '受', '到', '魔', '戒', '影', '響', '，', '他', '知', '道', '他', '無', '法', '在', '中', '土', '大', '陸', '平', '穩', '地', '生', '活', '，', '於', '是', '決', '定', '與', '甘', '道', '夫', '、', '比', '爾', '博', '、', '愛', '隆', '、', '凱', '蘭', '崔', '爾', '前', '往', '灰', '港', '岸', '，', '乘', '上', '離', '開', '中', '土', '大', '陸', '的', '船', '隻', '。', '山', '姆', '、', '皮', '聘', '及', '梅', '里', '各', '自', '回', '家', '，', '山', '姆', '最', '終', '以', '一', '句', '「', '我', '回', '來', '了', '」', '作', '終', '。', '\\n']\n"
     ]
    }
   ],
   "source": [
    "# your code\n",
    "# 魔戒三部曲，電影劇情簡介\n",
    "paragraph = '''\n",
    "\t魔戒現身\t編輯\n",
    "凱蘭崔爾敍述的序言講及索倫鑄造至尊魔戒以圖征服中土大陸，人類及精靈組成聯盟發動最後同盟戰役推翻了索倫。至尊魔戒落入埃西鐸手中。埃西鐸後來被半獸人所殺，至尊魔戒失落，在數千年後才被哈比人史麥戈所獲，因受魔戒的影響，史麥戈成為咕嚕。至尊魔戒急欲返回它的主人索倫手裡，於是離棄咕嚕，被哈比人比爾博·巴金斯所獲。\n",
    "\n",
    "在比爾博111歲生日當天，比爾博將至尊魔戒讓給堂姪佛羅多·巴金斯。比爾博好友甘道夫經過探查後發現那就是失落的至尊魔戒，由於索倫急欲取得至尊魔戒，甘道夫囑咐佛羅多要儘速帶同魔戒離開夏爾。甘道夫趕往艾辛格與巫師的首領薩魯曼商討對策，薩魯曼透露索倫已派出戒靈奪取魔戒，認為中土自由子民無從抵抗，並邀請甘道夫和他一起加入索倫陣營。甘道夫拒絕，薩魯曼遂將甘道夫囚禁在歐散克塔。\n",
    "\n",
    "佛羅多和夥伴山姆在趕往布理途中遇到皮聘及梅里。他們在布理遇到神行客，神行客亞拉岡帶領他們趕往瑞文戴爾。他們在風雲頂被戒靈襲擊，佛羅多被戒靈刺傷，生命危在旦夕。女精靈亞玟帶同佛羅多趕往瑞文戴爾，亞玟的父親愛隆救治了佛羅多。\n",
    "\n",
    "愛隆召開會議商討至尊魔戒的事情。唯一摧毀至尊魔戒的方法就是將它丟進末日火山的火燄裡。佛羅多自願執行這個任務，其哈比人夥伴、甘道夫、亞拉岡、精靈勒苟拉斯、矮人金靂及剛鐸大將波羅莫都加入，組成魔戒遠征隊。他們原本計劃攀越卡蘭拉斯山，但受薩魯曼阻撓。魔戒遠征隊遂穿越摩瑞亞礦坑，他們在礦坑內受到半獸人、食人妖及炎魔的襲擊。甘道夫阻擊炎魔，雙雙墮入深淵。\n",
    "\n",
    "失去甘道夫的魔戒遠征隊趕往羅斯洛立安謁見女王凱蘭崔爾。整頓以後，眾人沿安都因河朝帕斯加蘭進發。波羅莫急切於利用魔戒拯救剛鐸，於是嘗試從佛羅多手中奪取魔戒。佛羅多有感於魔戒的誘惑力驚人，於是決定獨自前往魔多。此時，魔戒遠征隊受到薩魯曼的強獸人襲擊，後悔行為魯莽的波羅莫為了保護梅里及皮聘而受重傷，梅里及皮聘被強獸人擄走。亞拉岡原諒了波羅莫，波羅莫在死前終承認了亞拉岡是他的國王。亞拉岡、勒苟拉斯及金靂為了營救梅里及皮聘而追蹤強獸人。另一方面，佛羅多向北而行，渡過安都因河，尾隨而至的山姆誓死追隨佛羅多。\n",
    "\n",
    "雙城奇謀\t編輯\n",
    "電影開首呼應首部曲，甘道夫在摩瑞亞的橋上與炎魔對峙，甘道夫與炎魔墜落深淵。佛羅多從夢境中醒過來，與山姆繼續行程，他們被希望奪回魔戒的咕嚕襲擊，佛羅多及山姆制伏了他，佛羅多正需要一名嚮導引領他們前往魔多，於是讓他引路。\n",
    "\n",
    "在洛汗，薩魯曼那一支擄走梅里及皮聘的強獸人橫過草原向艾辛格進發，勒苟拉斯、金靂及亞拉岡尾隨追蹤。薩魯曼亦在洛汗國王身邊安插了葛力馬·巧言控制著希優頓。薩魯曼聚集大軍展開攻勢，沿途燒殺破壞，希優頓的兒子希優德戰死。希優頓之甥伊歐墨責難葛力馬，反被葛力馬驅逐，伊歐墨聚集了一些忠實的部下離去。\n",
    "\n",
    "佛羅多及山姆橫過死亡沼澤，一路上躲避戒靈的空中游戈，終於抵達黑門。黑門被重兵駐守，佛羅多及山姆兩人束手無策，咕嚕建議他們透過另一條秘密的階梯潛入魔多。同時，被驅逐的伊歐墨領導騎兵在法貢森林附近殲滅了梅里及皮聘所在的那一支強獸人，梅里及皮聘逃進法貢森林，並遇到樹鬍。\n",
    "\n",
    "勒苟拉斯、金靂及亞拉岡遭遇伊歐墨，得知梅里及皮聘生還機會渺茫，亞拉岡仔細查察之下發現梅里及皮聘進入了法貢森林，亦尾隨進入，他們在森林裡遇到白袍巫師，發現竟是重生的甘道夫。他們聯袂來到洛汗都城伊多拉斯，消除了薩魯曼對希優頓的控制，驅逐葛力馬。恢復自我的希優頓得知薩魯曼的威脅後決定將洛汗人民撤至要塞聖盔谷。甘道夫深明以洛汗的現有兵力堅守聖盔谷也不能抵擋薩魯曼的大軍，於是出發前往尋找伊歐墨。\n",
    "\n",
    "佛羅多、山姆及咕嚕目擊剛鐸軍隊伏擊一支南方人，佛羅多及山姆被剛鐸軍隊擒獲。洛汗人在撤往聖盔谷途中遭遇薩魯曼的狼騎士襲擊，亞拉岡墜落峭壁失蹤。在瑞文戴爾，亞拉岡的戀人亞玟在父親的勸說下出發，準備離開中土大陸。\n",
    "\n",
    "佛羅多及山姆被帶到漢那斯安南，剛鐸大將法拉墨得悉佛羅多持有魔戒，為了向父親證明他的價值，他決定將佛羅多及至尊魔戒帶到剛鐸。亞拉岡抵達聖盔谷，準備迎戰薩魯曼，一支受愛隆所命的精靈部隊亦赴援。法貢森林的樹鬍召開樹人會議，商討是否應介入戰爭。\n",
    "\n",
    "聖盔谷之戰在大雨下展開，洛汗戰士奮力抵擋。樹人會議最終決定不介入戰爭，皮聘誘導樹鬍將他們帶到南面，樹鬍發現法貢森林南部的林木被薩魯曼砍伐用作燃料，樹鬍震怒，遂帶領樹人報復。\n",
    "\n",
    "洛汗一方的形勢急轉直下，亞拉岡等人帶領守軍進行最後的衝鋒，清晨時分，甘道夫引領援軍抵達戰場，擊敗了強獸人大軍。樹人亦控制了艾辛格。法拉墨等人到達奧斯吉力亞斯，該處正在進行戰鬥，法拉墨得悉佛羅多等人的任務，決定釋放他們。咕嚕感到被佛羅多背叛，於是引導兩名哈比人前往「她」那裡。\n",
    "\n",
    "王者再臨\t編輯\n",
    "電影開始時講述哈比人德戈及史麥戈發現魔戒的過程，史麥戈殺死德戈並奪取魔戒，從此隱匿深山裡。\n",
    "\n",
    "返回現在，亞拉岡等人來到艾辛格，會合梅里及皮聘，薩魯曼想告知甘道夫魔多的事情時，被葛力馬‧巧言從後偷襲，跌下塔底死亡，真知晶球從袍內流出，皮聘拾起了薩魯曼的真知晶球，但被甘道夫取去。希優頓在返回伊多拉斯後舉行慶典。佛羅多等人逐漸靠近魔多，咕嚕的陰謀面也逐漸呈現，他計劃引導哈比人到西力斯昂哥，讓屍羅殺死他們，他便可獲得魔戒，又開始離間佛羅多與山姆。\n",
    "\n",
    "出於好奇的皮聘偷看真知晶球，他看到燃燒中的聖白樹，索倫透過心靈接觸拷問皮聘。甘道夫以此推斷索倫準備進攻米那斯提力斯，於是攜同皮聘趕往警示剛鐸攝政王迪耐瑟二世。前往灰港岸路上的亞玟預見了她和亞拉岡的兒子，她返回瑞文戴爾說服父親，又讓父親重鑄納希爾聖劍。\n",
    "\n",
    "甘道夫及皮聘到達米那斯提力斯，謁見因波羅莫之死而悲傷的迪耐瑟二世。皮聘向迪耐瑟效忠以回報波羅莫的犠牲，悲傷的迪耐瑟無意採取任何措施回應索倫的行動。佛羅多等人路經米那斯魔窟附近，目睹安格馬巫王派遣軍隊出擊的情況。甘道夫指示皮聘燃點烽火台向洛汗求援。\n",
    "\n",
    "魔多大軍渡過安都因河向剛鐸控制的奧斯吉力亞斯進攻，以法拉墨為首的剛鐸守軍大敗，撤返米那斯提力斯。敗軍被戒靈追擊，甘道夫營救他們，法拉墨向甘道夫透露了佛羅多等人的情況。\n",
    "\n",
    "攻克奧斯吉力亞斯後，安格馬巫王下令要殺絕米那斯提力斯的人類。迪耐瑟不滿法拉墨棄守奧斯吉力亞斯，要他不惜一切代價奪回奧斯吉力亞斯。咕嚕繼續離間佛羅多及山姆，終使佛羅多趕走山姆。\n",
    "\n",
    "法拉墨的自殺式攻勢全軍覆沒，他本人亦重創而回。同時，愛隆趕來會面亞拉岡，奉上納希爾聖劍，並促請亞拉岡以此劍召喚登哈洛的亡者參戰，亞拉岡遂聯同金靂、勒苟拉斯連夜出發。一直傾慕亞拉岡的洛汗王女伊歐玟懇求亞拉岡留下來，亞拉岡從愛隆口中得知亞玟為了他放棄了精靈的永生，拒絕了伊歐玟。翌晨，希優頓領導六千騎兵赴援，伊歐玟及梅里亦暗中混入軍隊。\n",
    "\n",
    "魔多大軍開始圍攻米那斯提力斯，迪耐瑟誤以為重傷的法拉墨已離世，絕望及失去子嗣打垮了迪耐瑟，他下令剛鐸守軍放棄抵抗，甘道夫制伏了他，並指揮作戰。咕嚕引領佛羅多來到屍羅巢穴，佛羅多被屍羅的毒針所傷，山姆趕到，並擊退屍羅。山姆誤以為佛羅多已死，昏迷的佛羅多被半獸人帶走。\n",
    "\n",
    "魔多大軍擊破了城門，守軍不支退守內城。此時，洛汗援軍抵達一度擊潰了魔多大軍，但隨著南方人的增援，魔多大軍在猛瑪的掩護下再次集結兵力。安格馬巫王重創希優頓，伊歐玟為了保護國王挺身與安格馬巫王對峙，亦被重創，梅里在危急關頭介入，與伊歐玟聯手殺死安格馬巫王。亞拉岡透過海盜船帶領著亡者軍隊抵達，擊敗魔多軍隊。希優頓傷重逝世。亡者軍隊在履行了諾言後，亞拉岡將他們釋放，亡靈隨風而去。西力斯昂哥的守軍因佛羅多的一件秘銀甲衣而爆發內鬨，大部分半獸人守軍都死於這次衝突，山姆得以營救佛羅多，兩人向末日火山進發。\n",
    "\n",
    "甘道夫得知一萬魔多士兵集結在西力斯昂哥與末日火山之間，堵住了佛羅多的去路。亞拉岡提議率領部隊開赴黑門以吸引索倫的注意力。\n",
    "\n",
    "山姆及佛羅多即將抵達目的地，咕嚕在此時現身並襲擊兩人。佛羅多最終在末日火山被至尊魔戒控制，他戴上了魔戒將之據為己有，咕嚕上前搶奪魔戒，咬斷了佛羅多的手指，咕嚕得到魔戒後非常興奮，佛羅多上前糾纏，兩人在懸崖失足。佛羅多幸得山姆解救，咕嚕與至尊魔戒都被熾熱的熔岩摧毀。力量與至尊魔戒相連的索倫終告失敗，永遠失去了力量。正在黑門前作戰的半獸人及戒靈亦受到牽連。\n",
    "\n",
    "末日火山爆發，正當介佛羅多及山姆都以為他們沒法再看見夏爾時，甘道夫與巨鷹拯救了他們。除了波羅莫外，魔戒遠征隊在米那斯提力斯團圓。亞拉岡被加冕為剛鐸國王，並再會亞玟。哈比人返回家鄉，山姆迎娶小玫·卡頓，佛羅多續作了西境紅皮書，他仍受到魔戒影響，他知道他無法在中土大陸平穩地生活，於是決定與甘道夫、比爾博、愛隆、凱蘭崔爾前往灰港岸，乘上離開中土大陸的船隻。山姆、皮聘及梅里各自回家，山姆最終以一句「我回來了」作終。\n",
    "'''\n",
    "\n",
    "# refer to https://zh.m.wikipedia.org/zh-tw/%E9%AD%94%E6%88%92%E9%9B%BB%E5%BD%B1%E4%B8%89%E9%83%A8%E6%9B%B2\n",
    "unigram = []\n",
    "for char in paragraph:\n",
    "    unigram.append(char)\n",
    "print(unigram)"
   ]
  },
  {
   "cell_type": "markdown",
   "metadata": {
    "id": "cEAuHMaJ0aQj"
   },
   "source": [
    "2. 請找出 paragraph 有那些不重複字"
   ]
  },
  {
   "cell_type": "code",
   "execution_count": 104,
   "metadata": {},
   "outputs": [
    {
     "name": "stdout",
     "output_type": "stream",
     "text": [
      "{'行', '惜', '全', '有', '已', '所', '鑄', '拉', '合', '亞', '剛', '劃', '抗', '馬', '斯', '火', '朝', '她', '牽', '堅', '展', '據', '哈', '不', '沒', '堵', '斷', '解', '翌', '類', '奇', '住', '時', '路', '應', '會', '懇', '夕', '難', '典', '服', '唯', '登', '句', '但', '日', '正', '永', '米', '因', '南', '震', '成', '卡', '摧', '文', '比', '令', '除', '殲', '狼', '堂', '抵', '歐', '烽', '岩', '報', '起', '白', '慶', '輯', '昏', '攝', '忠', '場', '莽', '儘', '常', '帶', '亦', '興', '那', '魯', '、', '讓', '山', '問', '點', '終', '親', '使', '灰', '穴', '上', '貢', '夜', '六', '機', '滿', '渡', '乘', '非', '兒', '\\t', '護', '便', '帕', '透', '定', '丟', '要', '對', '陰', '跌', '式', '作', '懸', '逐', '黑', '凱', '怒', '臨', '曲', '施', '巴', '還', '利', '奮', '人', '千', '明', '妖', '父', '\\n', '袍', '囑', '禁', '森', '盔', '聖', '立', '屍', '活', '汗', '萬', '鬥', '熔', '鐸', '是', '而', '砍', '數', '牲', '‧', '電', '，', '拯', '冕', '退', '嚕', '游', '勒', '子', '優', '袂', '港', '潰', '足', '領', '諒', '過', '銀', '炎', '遂', '燒', '戈', '圍', '尊', '商', '仔', '準', '茫', '師', '法', '我', '岡', '埃', '仍', '。', '分', '隊', '誓', '都', '悉', '預', '倫', '·', '食', '死', '橋', '衣', '小', '底', '奧', '巫', '越', '和', '絕', '戰', '用', '保', '走', '部', '岸', '謀', '續', '犠', '勸', '聚', '何', '陣', '頂', '燃', '受', '逝', '拾', '姪', '吉', '細', '巨', '著', '為', '穿', '玟', '己', '搶', '佛', '海', '隆', '請', '鄉', '波', '門', '口', '些', '驅', '娶', '進', '亡', '矮', '伐', '鷹', '這', '墨', '」', '原', '建', '邀', '切', '近', '轉', '指', '反', '認', '針', '該', '博', '爆', '組', '遭', '追', '清', '夢', '避', '陸', '召', '平', '沼', '率', '渺', '提', '開', '拒', '劍', '以', '獸', '城', '靈', '家', '礦', '躲', '靠', '議', '頓', '介', '露', '繼', '無', '澤', '雨', '外', '命', '度', '咬', '入', '討', '撓', '見', '勢', '爭', '策', '漸', '女', '本', '團', '次', '梅', '希', '挺', '想', '隨', '者', '船', '林', '墜', '述', '從', '求', '1', '速', '結', '才', '夫', '熾', '土', '鋒', '攜', '混', '喚', '聘', '草', '並', '身', '聯', '在', '空', '愛', '「', '悔', '崖', '迎', '參', '條', '叛', '史', '隻', '自', '引', '歲', '哥', '騎', '突', '及', '樹', '靂', '台', '鬍', '脅', '瑪', '覆', '主', '谷', '木', '鬨', '客', '講', '役', '查', '毀', '加', '中', '伴', '承', '圓', '北', '梯', '克', '理', '睹', '穩', '道', '階', '駐', '間', '情', '破', '當', '前', '等', '昂', '巧', '去', '消', '殺', '艾', '同', '諾', '甘', '誘', '知', '至', '西', '征', '力', '取', '橫', '沿', '潛', '任', '戀', '刺', '密', '擄', '莫', '插', '控', '逃', '王', '驚', '吸', '後', '摩', '量', '盜', '就', '此', '巢', '揮', '糾', '圖', '於', '風', '謁', '邊', '目', '背', '造', '幸', '末', '軍', '偷', '耐', '崔', '推', '放', '出', '塞', '里', '營', '感', '好', '實', '途', '達', '履', '士', '咐', '滅', '奉', '迷', '深', '金', '也', '瑞', '雙', '趕', '竟', '可', '關', '玫', '它', '復', '毒', '書', '窟', '警', '漢', '醒', '戒', '傷', '首', '襲', '了', '告', '探', '流', '洛', '得', '責', '打', '大', '望', '連', '安', '影', '計', '尾', '況', '生', '治', '執', '擒', '代', '政', '攀', '遇', '呼', '掩', '事', '迪', '方', '派', '欲', '失', '河', '返', '支', '又', '面', '世', '神', '示', '值', '猛', '嗣', '苟', '誤', '證', '咕', '散', '奪', '各', '內', '落', '旦', '阻', '年', '持', '遠', '索', '形', '曼', '伊', '敗', '晨', '他', '件', '薩', '裡', '料', '始', '編', '夥', '獨', '手', '決', '蘭', '救', '撤', '球', '集', '淵', '效', '往', '處', '隱', '給', '羅', '境', '惑', '囚', '呈', '暗', '秘', '葛', '威', '赴', '蹤', '壞', '瑟', '離', '紅', '相', '附', '爾', '盟', '民', '價', '傾', '友', '匿', '兵', '二', '嘗', '試', '多', '擊', '夏', '精', '能', '找', '地', '拷', '接', '序', '名', '導', '敍', '發', '一', '峙', '壁', '垮', '增', '回', '程', '說', '否', '纏', '峭', '束', '響', '來', '注', '另', '翻', '看', '直', '強', '慕', '採', '向', '墮', '的', '熱', '個', '意', '格', '言', '制', '現', '悲', '遣', '即', '棄', '援', '促', '留', '辛', '察', '嚮', '獲', '再', '觸', '整', '皮', '雲', '釋', '納', '願', '國', '被', '姆', '麥', '恢', '尋', '危', '備', '魔', '經', '措', '到', '布', '擋', '舉', '由', '甥', '與', '伏', '之', '急', '真', '德', '下', '動', '將', '務', '甲', '創', '守', '眾', '最', '晶', '攻', '其', '需', '頭', '天', '重', '兩', '燄', '們', '心', '戴', '衝', '塔', '坑', '半'}\n"
     ]
    }
   ],
   "source": [
    "paragraph = '''\n",
    "\t魔戒現身\t編輯\n",
    "凱蘭崔爾敍述的序言講及索倫鑄造至尊魔戒以圖征服中土大陸，人類及精靈組成聯盟發動最後同盟戰役推翻了索倫。至尊魔戒落入埃西鐸手中。埃西鐸後來被半獸人所殺，至尊魔戒失落，在數千年後才被哈比人史麥戈所獲，因受魔戒的影響，史麥戈成為咕嚕。至尊魔戒急欲返回它的主人索倫手裡，於是離棄咕嚕，被哈比人比爾博·巴金斯所獲。\n",
    "\n",
    "在比爾博111歲生日當天，比爾博將至尊魔戒讓給堂姪佛羅多·巴金斯。比爾博好友甘道夫經過探查後發現那就是失落的至尊魔戒，由於索倫急欲取得至尊魔戒，甘道夫囑咐佛羅多要儘速帶同魔戒離開夏爾。甘道夫趕往艾辛格與巫師的首領薩魯曼商討對策，薩魯曼透露索倫已派出戒靈奪取魔戒，認為中土自由子民無從抵抗，並邀請甘道夫和他一起加入索倫陣營。甘道夫拒絕，薩魯曼遂將甘道夫囚禁在歐散克塔。\n",
    "\n",
    "佛羅多和夥伴山姆在趕往布理途中遇到皮聘及梅里。他們在布理遇到神行客，神行客亞拉岡帶領他們趕往瑞文戴爾。他們在風雲頂被戒靈襲擊，佛羅多被戒靈刺傷，生命危在旦夕。女精靈亞玟帶同佛羅多趕往瑞文戴爾，亞玟的父親愛隆救治了佛羅多。\n",
    "\n",
    "愛隆召開會議商討至尊魔戒的事情。唯一摧毀至尊魔戒的方法就是將它丟進末日火山的火燄裡。佛羅多自願執行這個任務，其哈比人夥伴、甘道夫、亞拉岡、精靈勒苟拉斯、矮人金靂及剛鐸大將波羅莫都加入，組成魔戒遠征隊。他們原本計劃攀越卡蘭拉斯山，但受薩魯曼阻撓。魔戒遠征隊遂穿越摩瑞亞礦坑，他們在礦坑內受到半獸人、食人妖及炎魔的襲擊。甘道夫阻擊炎魔，雙雙墮入深淵。\n",
    "\n",
    "失去甘道夫的魔戒遠征隊趕往羅斯洛立安謁見女王凱蘭崔爾。整頓以後，眾人沿安都因河朝帕斯加蘭進發。波羅莫急切於利用魔戒拯救剛鐸，於是嘗試從佛羅多手中奪取魔戒。佛羅多有感於魔戒的誘惑力驚人，於是決定獨自前往魔多。此時，魔戒遠征隊受到薩魯曼的強獸人襲擊，後悔行為魯莽的波羅莫為了保護梅里及皮聘而受重傷，梅里及皮聘被強獸人擄走。亞拉岡原諒了波羅莫，波羅莫在死前終承認了亞拉岡是他的國王。亞拉岡、勒苟拉斯及金靂為了營救梅里及皮聘而追蹤強獸人。另一方面，佛羅多向北而行，渡過安都因河，尾隨而至的山姆誓死追隨佛羅多。\n",
    "\n",
    "雙城奇謀\t編輯\n",
    "電影開首呼應首部曲，甘道夫在摩瑞亞的橋上與炎魔對峙，甘道夫與炎魔墜落深淵。佛羅多從夢境中醒過來，與山姆繼續行程，他們被希望奪回魔戒的咕嚕襲擊，佛羅多及山姆制伏了他，佛羅多正需要一名嚮導引領他們前往魔多，於是讓他引路。\n",
    "\n",
    "在洛汗，薩魯曼那一支擄走梅里及皮聘的強獸人橫過草原向艾辛格進發，勒苟拉斯、金靂及亞拉岡尾隨追蹤。薩魯曼亦在洛汗國王身邊安插了葛力馬·巧言控制著希優頓。薩魯曼聚集大軍展開攻勢，沿途燒殺破壞，希優頓的兒子希優德戰死。希優頓之甥伊歐墨責難葛力馬，反被葛力馬驅逐，伊歐墨聚集了一些忠實的部下離去。\n",
    "\n",
    "佛羅多及山姆橫過死亡沼澤，一路上躲避戒靈的空中游戈，終於抵達黑門。黑門被重兵駐守，佛羅多及山姆兩人束手無策，咕嚕建議他們透過另一條秘密的階梯潛入魔多。同時，被驅逐的伊歐墨領導騎兵在法貢森林附近殲滅了梅里及皮聘所在的那一支強獸人，梅里及皮聘逃進法貢森林，並遇到樹鬍。\n",
    "\n",
    "勒苟拉斯、金靂及亞拉岡遭遇伊歐墨，得知梅里及皮聘生還機會渺茫，亞拉岡仔細查察之下發現梅里及皮聘進入了法貢森林，亦尾隨進入，他們在森林裡遇到白袍巫師，發現竟是重生的甘道夫。他們聯袂來到洛汗都城伊多拉斯，消除了薩魯曼對希優頓的控制，驅逐葛力馬。恢復自我的希優頓得知薩魯曼的威脅後決定將洛汗人民撤至要塞聖盔谷。甘道夫深明以洛汗的現有兵力堅守聖盔谷也不能抵擋薩魯曼的大軍，於是出發前往尋找伊歐墨。\n",
    "\n",
    "佛羅多、山姆及咕嚕目擊剛鐸軍隊伏擊一支南方人，佛羅多及山姆被剛鐸軍隊擒獲。洛汗人在撤往聖盔谷途中遭遇薩魯曼的狼騎士襲擊，亞拉岡墜落峭壁失蹤。在瑞文戴爾，亞拉岡的戀人亞玟在父親的勸說下出發，準備離開中土大陸。\n",
    "\n",
    "佛羅多及山姆被帶到漢那斯安南，剛鐸大將法拉墨得悉佛羅多持有魔戒，為了向父親證明他的價值，他決定將佛羅多及至尊魔戒帶到剛鐸。亞拉岡抵達聖盔谷，準備迎戰薩魯曼，一支受愛隆所命的精靈部隊亦赴援。法貢森林的樹鬍召開樹人會議，商討是否應介入戰爭。\n",
    "\n",
    "聖盔谷之戰在大雨下展開，洛汗戰士奮力抵擋。樹人會議最終決定不介入戰爭，皮聘誘導樹鬍將他們帶到南面，樹鬍發現法貢森林南部的林木被薩魯曼砍伐用作燃料，樹鬍震怒，遂帶領樹人報復。\n",
    "\n",
    "洛汗一方的形勢急轉直下，亞拉岡等人帶領守軍進行最後的衝鋒，清晨時分，甘道夫引領援軍抵達戰場，擊敗了強獸人大軍。樹人亦控制了艾辛格。法拉墨等人到達奧斯吉力亞斯，該處正在進行戰鬥，法拉墨得悉佛羅多等人的任務，決定釋放他們。咕嚕感到被佛羅多背叛，於是引導兩名哈比人前往「她」那裡。\n",
    "\n",
    "王者再臨\t編輯\n",
    "電影開始時講述哈比人德戈及史麥戈發現魔戒的過程，史麥戈殺死德戈並奪取魔戒，從此隱匿深山裡。\n",
    "\n",
    "返回現在，亞拉岡等人來到艾辛格，會合梅里及皮聘，薩魯曼想告知甘道夫魔多的事情時，被葛力馬‧巧言從後偷襲，跌下塔底死亡，真知晶球從袍內流出，皮聘拾起了薩魯曼的真知晶球，但被甘道夫取去。希優頓在返回伊多拉斯後舉行慶典。佛羅多等人逐漸靠近魔多，咕嚕的陰謀面也逐漸呈現，他計劃引導哈比人到西力斯昂哥，讓屍羅殺死他們，他便可獲得魔戒，又開始離間佛羅多與山姆。\n",
    "\n",
    "出於好奇的皮聘偷看真知晶球，他看到燃燒中的聖白樹，索倫透過心靈接觸拷問皮聘。甘道夫以此推斷索倫準備進攻米那斯提力斯，於是攜同皮聘趕往警示剛鐸攝政王迪耐瑟二世。前往灰港岸路上的亞玟預見了她和亞拉岡的兒子，她返回瑞文戴爾說服父親，又讓父親重鑄納希爾聖劍。\n",
    "\n",
    "甘道夫及皮聘到達米那斯提力斯，謁見因波羅莫之死而悲傷的迪耐瑟二世。皮聘向迪耐瑟效忠以回報波羅莫的犠牲，悲傷的迪耐瑟無意採取任何措施回應索倫的行動。佛羅多等人路經米那斯魔窟附近，目睹安格馬巫王派遣軍隊出擊的情況。甘道夫指示皮聘燃點烽火台向洛汗求援。\n",
    "\n",
    "魔多大軍渡過安都因河向剛鐸控制的奧斯吉力亞斯進攻，以法拉墨為首的剛鐸守軍大敗，撤返米那斯提力斯。敗軍被戒靈追擊，甘道夫營救他們，法拉墨向甘道夫透露了佛羅多等人的情況。\n",
    "\n",
    "攻克奧斯吉力亞斯後，安格馬巫王下令要殺絕米那斯提力斯的人類。迪耐瑟不滿法拉墨棄守奧斯吉力亞斯，要他不惜一切代價奪回奧斯吉力亞斯。咕嚕繼續離間佛羅多及山姆，終使佛羅多趕走山姆。\n",
    "\n",
    "法拉墨的自殺式攻勢全軍覆沒，他本人亦重創而回。同時，愛隆趕來會面亞拉岡，奉上納希爾聖劍，並促請亞拉岡以此劍召喚登哈洛的亡者參戰，亞拉岡遂聯同金靂、勒苟拉斯連夜出發。一直傾慕亞拉岡的洛汗王女伊歐玟懇求亞拉岡留下來，亞拉岡從愛隆口中得知亞玟為了他放棄了精靈的永生，拒絕了伊歐玟。翌晨，希優頓領導六千騎兵赴援，伊歐玟及梅里亦暗中混入軍隊。\n",
    "\n",
    "魔多大軍開始圍攻米那斯提力斯，迪耐瑟誤以為重傷的法拉墨已離世，絕望及失去子嗣打垮了迪耐瑟，他下令剛鐸守軍放棄抵抗，甘道夫制伏了他，並指揮作戰。咕嚕引領佛羅多來到屍羅巢穴，佛羅多被屍羅的毒針所傷，山姆趕到，並擊退屍羅。山姆誤以為佛羅多已死，昏迷的佛羅多被半獸人帶走。\n",
    "\n",
    "魔多大軍擊破了城門，守軍不支退守內城。此時，洛汗援軍抵達一度擊潰了魔多大軍，但隨著南方人的增援，魔多大軍在猛瑪的掩護下再次集結兵力。安格馬巫王重創希優頓，伊歐玟為了保護國王挺身與安格馬巫王對峙，亦被重創，梅里在危急關頭介入，與伊歐玟聯手殺死安格馬巫王。亞拉岡透過海盜船帶領著亡者軍隊抵達，擊敗魔多軍隊。希優頓傷重逝世。亡者軍隊在履行了諾言後，亞拉岡將他們釋放，亡靈隨風而去。西力斯昂哥的守軍因佛羅多的一件秘銀甲衣而爆發內鬨，大部分半獸人守軍都死於這次衝突，山姆得以營救佛羅多，兩人向末日火山進發。\n",
    "\n",
    "甘道夫得知一萬魔多士兵集結在西力斯昂哥與末日火山之間，堵住了佛羅多的去路。亞拉岡提議率領部隊開赴黑門以吸引索倫的注意力。\n",
    "\n",
    "山姆及佛羅多即將抵達目的地，咕嚕在此時現身並襲擊兩人。佛羅多最終在末日火山被至尊魔戒控制，他戴上了魔戒將之據為己有，咕嚕上前搶奪魔戒，咬斷了佛羅多的手指，咕嚕得到魔戒後非常興奮，佛羅多上前糾纏，兩人在懸崖失足。佛羅多幸得山姆解救，咕嚕與至尊魔戒都被熾熱的熔岩摧毀。力量與至尊魔戒相連的索倫終告失敗，永遠失去了力量。正在黑門前作戰的半獸人及戒靈亦受到牽連。\n",
    "\n",
    "末日火山爆發，正當介佛羅多及山姆都以為他們沒法再看見夏爾時，甘道夫與巨鷹拯救了他們。除了波羅莫外，魔戒遠征隊在米那斯提力斯團圓。亞拉岡被加冕為剛鐸國王，並再會亞玟。哈比人返回家鄉，山姆迎娶小玫·卡頓，佛羅多續作了西境紅皮書，他仍受到魔戒影響，他知道他無法在中土大陸平穩地生活，於是決定與甘道夫、比爾博、愛隆、凱蘭崔爾前往灰港岸，乘上離開中土大陸的船隻。山姆、皮聘及梅里各自回家，山姆最終以一句「我回來了」作終。\n",
    "'''\n",
    "\n",
    "unique_chars = set(paragraph)\n",
    "print(unique_chars)\n"
   ]
  },
  {
   "cell_type": "code",
   "execution_count": 99,
   "metadata": {
    "id": "UIrk_Vv_0aQj"
   },
   "outputs": [
    {
     "name": "stdout",
     "output_type": "stream",
     "text": [
      "['敍', '序', '造', '圖', '役', '翻', '數', '年', '才', '主', '歲', '天', '給', '堂', '姪', '友', '探', '囑', '咐', '儘', '速', '邀', '陣', '囚', '禁', '散', '雲', '頂', '刺', '旦', '夕', '治', '唯', '丟', '燄', '願', '執', '個', '其', '矮', '攀', '撓', '穿', '食', '妖', '墮', '立', '整', '眾', '朝', '帕', '利', '嘗', '試', '惑', '驚', '獨', '悔', '莽', '諒', '承', '北', '誓', '呼', '曲', '橋', '夢', '醒', '需', '嚮', '草', '邊', '插', '壞', '甥', '責', '難', '反', '些', '實', '沼', '澤', '躲', '避', '空', '游', '駐', '束', '建', '條', '密', '階', '梯', '潛', '殲', '滅', '逃', '還', '機', '渺', '茫', '仔', '細', '察', '竟', '袂', '消', '恢', '威', '脅', '塞', '堅', '能', '尋', '找', '擒', '狼', '峭', '壁', '戀', '勸', '漢', '持', '證', '值', '否', '雨', '木', '砍', '伐', '料', '震', '怒', '形', '轉', '鋒', '清', '場', '該', '處', '鬥', '背', '叛', '臨', '隱', '匿', '合', '想', '‧', '跌', '底', '流', '拾', '舉', '慶', '典', '靠', '陰', '呈', '便', '可', '心', '接', '觸', '拷', '問', '攜', '警', '攝', '政', '預', '效', '犠', '牲', '採', '何', '措', '施', '窟', '睹', '遣', '點', '烽', '台', '滿', '惜', '代', '使', '式', '全', '覆', '奉', '促', '喚', '登', '參', '夜', '傾', '慕', '懇', '留', '口', '翌', '六', '暗', '混', '圍', '嗣', '打', '垮', '揮', '巢', '穴', '毒', '針', '昏', '迷', '度', '潰', '增', '猛', '瑪', '掩', '挺', '關', '頭', '海', '盜', '逝', '履', '諾', '件', '銀', '甲', '衣', '鬨', '突', '萬', '堵', '住', '率', '吸', '注', '即', '據', '己', '搶', '咬', '非', '常', '興', '糾', '纏', '懸', '崖', '足', '幸', '解', '熾', '熱', '熔', '岩', '相', '牽', '巨', '鷹', '外', '團', '圓', '冕', '鄉', '娶', '小', '玫', '紅', '書', '仍', '平', '穩', '活', '乘', '隻', '各', '句']\n"
     ]
    }
   ],
   "source": [
    "# your code\n",
    "repeat = []                             # 新增 repeat 變數為空串列\n",
    "not_repeat = []                         # 新增 not_repeat 變數為空串列\n",
    "for i in paragraph:                          # 使用 for 迴圈，依序取出每個字元\n",
    "    a = paragraph.count(i, 0, len(paragraph))     # 判斷字元在字串中出現的次數\n",
    "    if a>1 and i not in repeat:         # 如果次數大於 1，且沒有存在 repeat 串列中\n",
    "        repeat.append(i)                  # 將字元加入 repeat 串列\n",
    "    if a == 1and i not in not_repeat:   # 如果次數等於 1，且沒有存在 not_repeat 串列中\n",
    "      not_repeat.append(i)              # 將字元加入 not_repeat 串列\n",
    "print(not_repeat)\n"
   ]
  },
  {
   "cell_type": "markdown",
   "metadata": {
    "id": "wT3i49KY0aQj"
   },
   "source": [
    "3. 請計算每個不重複字在 paragraph 中出現幾次，並存成 Dictionary"
   ]
  },
  {
   "cell_type": "code",
   "execution_count": 107,
   "metadata": {},
   "outputs": [
    {
     "data": {
      "text/plain": [
       "{'行': 11,\n",
       " '惜': 1,\n",
       " '全': 1,\n",
       " '有': 4,\n",
       " '已': 3,\n",
       " '所': 6,\n",
       " '鑄': 2,\n",
       " '拉': 40,\n",
       " '合': 1,\n",
       " '亞': 37,\n",
       " '剛': 11,\n",
       " '劃': 2,\n",
       " '抗': 2,\n",
       " '馬': 10,\n",
       " '斯': 39,\n",
       " '火': 7,\n",
       " '朝': 1,\n",
       " '她': 3,\n",
       " '牽': 1,\n",
       " '堅': 1,\n",
       " '展': 2,\n",
       " '據': 1,\n",
       " '哈': 8,\n",
       " '不': 5,\n",
       " '沒': 2,\n",
       " '堵': 1,\n",
       " '斷': 2,\n",
       " '解': 1,\n",
       " '翌': 1,\n",
       " '類': 2,\n",
       " '奇': 2,\n",
       " '住': 1,\n",
       " '時': 9,\n",
       " '路': 5,\n",
       " '應': 3,\n",
       " '會': 7,\n",
       " '懇': 1,\n",
       " '夕': 1,\n",
       " '難': 1,\n",
       " '典': 1,\n",
       " '服': 2,\n",
       " '唯': 1,\n",
       " '登': 1,\n",
       " '句': 1,\n",
       " '但': 3,\n",
       " '日': 6,\n",
       " '正': 4,\n",
       " '永': 2,\n",
       " '米': 7,\n",
       " '因': 6,\n",
       " '南': 5,\n",
       " '震': 1,\n",
       " '成': 3,\n",
       " '卡': 2,\n",
       " '摧': 2,\n",
       " '文': 4,\n",
       " '比': 12,\n",
       " '令': 2,\n",
       " '除': 2,\n",
       " '殲': 1,\n",
       " '狼': 1,\n",
       " '堂': 1,\n",
       " '抵': 10,\n",
       " '歐': 11,\n",
       " '烽': 1,\n",
       " '岩': 1,\n",
       " '報': 2,\n",
       " '起': 2,\n",
       " '白': 2,\n",
       " '慶': 1,\n",
       " '輯': 3,\n",
       " '昏': 1,\n",
       " '攝': 1,\n",
       " '忠': 2,\n",
       " '場': 1,\n",
       " '莽': 1,\n",
       " '儘': 1,\n",
       " '常': 1,\n",
       " '帶': 10,\n",
       " '亦': 8,\n",
       " '興': 1,\n",
       " '那': 12,\n",
       " '魯': 17,\n",
       " '、': 14,\n",
       " '讓': 4,\n",
       " '山': 28,\n",
       " '問': 1,\n",
       " '點': 1,\n",
       " '終': 8,\n",
       " '親': 5,\n",
       " '使': 1,\n",
       " '灰': 2,\n",
       " '穴': 1,\n",
       " '上': 8,\n",
       " '貢': 5,\n",
       " '夜': 1,\n",
       " '六': 1,\n",
       " '機': 1,\n",
       " '滿': 1,\n",
       " '渡': 2,\n",
       " '乘': 1,\n",
       " '非': 1,\n",
       " '兒': 2,\n",
       " '\\t': 4,\n",
       " '護': 3,\n",
       " '便': 1,\n",
       " '帕': 1,\n",
       " '透': 5,\n",
       " '定': 6,\n",
       " '丟': 1,\n",
       " '要': 5,\n",
       " '對': 4,\n",
       " '陰': 1,\n",
       " '跌': 1,\n",
       " '式': 1,\n",
       " '作': 5,\n",
       " '懸': 1,\n",
       " '逐': 5,\n",
       " '黑': 4,\n",
       " '凱': 3,\n",
       " '怒': 1,\n",
       " '臨': 1,\n",
       " '曲': 1,\n",
       " '施': 1,\n",
       " '巴': 2,\n",
       " '還': 1,\n",
       " '利': 1,\n",
       " '奮': 2,\n",
       " '人': 46,\n",
       " '千': 2,\n",
       " '明': 2,\n",
       " '妖': 1,\n",
       " '父': 5,\n",
       " '\\n': 53,\n",
       " '袍': 2,\n",
       " '囑': 1,\n",
       " '禁': 1,\n",
       " '森': 6,\n",
       " '盔': 5,\n",
       " '聖': 8,\n",
       " '立': 1,\n",
       " '屍': 4,\n",
       " '活': 1,\n",
       " '汗': 11,\n",
       " '萬': 1,\n",
       " '鬥': 1,\n",
       " '熔': 1,\n",
       " '鐸': 13,\n",
       " '是': 13,\n",
       " '而': 8,\n",
       " '砍': 1,\n",
       " '數': 1,\n",
       " '牲': 1,\n",
       " '‧': 1,\n",
       " '電': 2,\n",
       " '，': 167,\n",
       " '拯': 2,\n",
       " '冕': 1,\n",
       " '退': 2,\n",
       " '嚕': 13,\n",
       " '游': 1,\n",
       " '勒': 5,\n",
       " '子': 4,\n",
       " '優': 10,\n",
       " '袂': 1,\n",
       " '港': 2,\n",
       " '潰': 1,\n",
       " '足': 1,\n",
       " '領': 11,\n",
       " '諒': 1,\n",
       " '過': 10,\n",
       " '銀': 1,\n",
       " '炎': 4,\n",
       " '遂': 4,\n",
       " '燒': 2,\n",
       " '戈': 7,\n",
       " '圍': 1,\n",
       " '尊': 13,\n",
       " '商': 3,\n",
       " '仔': 1,\n",
       " '準': 3,\n",
       " '茫': 1,\n",
       " '師': 2,\n",
       " '法': 16,\n",
       " '我': 2,\n",
       " '岡': 24,\n",
       " '埃': 2,\n",
       " '仍': 1,\n",
       " '。': 93,\n",
       " '分': 2,\n",
       " '隊': 14,\n",
       " '誓': 1,\n",
       " '都': 8,\n",
       " '悉': 2,\n",
       " '預': 1,\n",
       " '倫': 11,\n",
       " '·': 4,\n",
       " '食': 1,\n",
       " '死': 11,\n",
       " '橋': 1,\n",
       " '衣': 1,\n",
       " '小': 1,\n",
       " '底': 1,\n",
       " '奧': 5,\n",
       " '巫': 7,\n",
       " '越': 2,\n",
       " '和': 3,\n",
       " '絕': 4,\n",
       " '戰': 12,\n",
       " '用': 2,\n",
       " '保': 2,\n",
       " '走': 4,\n",
       " '部': 6,\n",
       " '岸': 2,\n",
       " '謀': 2,\n",
       " '續': 3,\n",
       " '犠': 1,\n",
       " '勸': 1,\n",
       " '聚': 2,\n",
       " '何': 1,\n",
       " '陣': 1,\n",
       " '頂': 1,\n",
       " '燃': 3,\n",
       " '受': 8,\n",
       " '逝': 1,\n",
       " '拾': 1,\n",
       " '姪': 1,\n",
       " '吉': 5,\n",
       " '細': 1,\n",
       " '巨': 1,\n",
       " '著': 3,\n",
       " '為': 14,\n",
       " '穿': 1,\n",
       " '玟': 11,\n",
       " '己': 1,\n",
       " '搶': 1,\n",
       " '佛': 43,\n",
       " '海': 1,\n",
       " '隆': 6,\n",
       " '請': 2,\n",
       " '鄉': 1,\n",
       " '波': 8,\n",
       " '門': 5,\n",
       " '口': 1,\n",
       " '些': 1,\n",
       " '驅': 3,\n",
       " '娶': 1,\n",
       " '進': 11,\n",
       " '亡': 6,\n",
       " '矮': 1,\n",
       " '伐': 1,\n",
       " '鷹': 1,\n",
       " '這': 2,\n",
       " '墨': 13,\n",
       " '」': 2,\n",
       " '原': 3,\n",
       " '建': 1,\n",
       " '邀': 1,\n",
       " '切': 2,\n",
       " '近': 3,\n",
       " '轉': 1,\n",
       " '指': 3,\n",
       " '反': 1,\n",
       " '認': 2,\n",
       " '針': 1,\n",
       " '該': 1,\n",
       " '博': 5,\n",
       " '爆': 2,\n",
       " '組': 2,\n",
       " '遭': 2,\n",
       " '追': 4,\n",
       " '清': 1,\n",
       " '夢': 1,\n",
       " '避': 1,\n",
       " '陸': 4,\n",
       " '召': 3,\n",
       " '平': 1,\n",
       " '沼': 1,\n",
       " '率': 1,\n",
       " '渺': 1,\n",
       " '提': 7,\n",
       " '開': 12,\n",
       " '拒': 2,\n",
       " '劍': 3,\n",
       " '以': 13,\n",
       " '獸': 11,\n",
       " '城': 4,\n",
       " '靈': 13,\n",
       " '家': 2,\n",
       " '礦': 2,\n",
       " '躲': 1,\n",
       " '靠': 1,\n",
       " '議': 5,\n",
       " '頓': 11,\n",
       " '介': 4,\n",
       " '露': 2,\n",
       " '繼': 2,\n",
       " '無': 4,\n",
       " '澤': 1,\n",
       " '雨': 1,\n",
       " '外': 1,\n",
       " '命': 2,\n",
       " '度': 1,\n",
       " '咬': 1,\n",
       " '入': 11,\n",
       " '討': 3,\n",
       " '撓': 1,\n",
       " '見': 4,\n",
       " '勢': 3,\n",
       " '爭': 2,\n",
       " '策': 2,\n",
       " '漸': 2,\n",
       " '女': 3,\n",
       " '本': 2,\n",
       " '團': 1,\n",
       " '次': 2,\n",
       " '梅': 13,\n",
       " '希': 13,\n",
       " '挺': 1,\n",
       " '想': 1,\n",
       " '隨': 6,\n",
       " '者': 4,\n",
       " '船': 2,\n",
       " '林': 7,\n",
       " '墜': 2,\n",
       " '述': 2,\n",
       " '從': 7,\n",
       " '求': 2,\n",
       " '1': 3,\n",
       " '速': 1,\n",
       " '結': 2,\n",
       " '才': 1,\n",
       " '夫': 25,\n",
       " '熾': 1,\n",
       " '土': 5,\n",
       " '鋒': 1,\n",
       " '攜': 1,\n",
       " '混': 1,\n",
       " '喚': 1,\n",
       " '聘': 19,\n",
       " '草': 1,\n",
       " '並': 8,\n",
       " '身': 4,\n",
       " '聯': 4,\n",
       " '在': 32,\n",
       " '空': 1,\n",
       " '愛': 6,\n",
       " '「': 2,\n",
       " '悔': 1,\n",
       " '崖': 1,\n",
       " '迎': 2,\n",
       " '參': 1,\n",
       " '條': 1,\n",
       " '叛': 1,\n",
       " '史': 4,\n",
       " '隻': 1,\n",
       " '自': 6,\n",
       " '引': 7,\n",
       " '歲': 1,\n",
       " '哥': 3,\n",
       " '騎': 3,\n",
       " '突': 1,\n",
       " '及': 33,\n",
       " '樹': 10,\n",
       " '靂': 5,\n",
       " '台': 1,\n",
       " '鬍': 5,\n",
       " '脅': 1,\n",
       " '瑪': 1,\n",
       " '覆': 1,\n",
       " '主': 1,\n",
       " '谷': 5,\n",
       " '木': 1,\n",
       " '鬨': 1,\n",
       " '客': 2,\n",
       " '講': 2,\n",
       " '役': 1,\n",
       " '查': 2,\n",
       " '毀': 2,\n",
       " '加': 4,\n",
       " '中': 14,\n",
       " '伴': 2,\n",
       " '承': 1,\n",
       " '圓': 1,\n",
       " '北': 1,\n",
       " '梯': 1,\n",
       " '克': 2,\n",
       " '理': 2,\n",
       " '睹': 1,\n",
       " '穩': 1,\n",
       " '道': 26,\n",
       " '階': 1,\n",
       " '駐': 1,\n",
       " '間': 3,\n",
       " '情': 4,\n",
       " '破': 2,\n",
       " '當': 2,\n",
       " '前': 10,\n",
       " '等': 7,\n",
       " '昂': 3,\n",
       " '巧': 2,\n",
       " '去': 7,\n",
       " '消': 1,\n",
       " '殺': 7,\n",
       " '艾': 4,\n",
       " '同': 7,\n",
       " '諾': 1,\n",
       " '甘': 25,\n",
       " '誘': 2,\n",
       " '知': 9,\n",
       " '至': 15,\n",
       " '西': 6,\n",
       " '征': 6,\n",
       " '力': 26,\n",
       " '取': 6,\n",
       " '橫': 2,\n",
       " '沿': 2,\n",
       " '潛': 1,\n",
       " '任': 3,\n",
       " '戀': 1,\n",
       " '刺': 1,\n",
       " '密': 1,\n",
       " '擄': 2,\n",
       " '莫': 8,\n",
       " '插': 1,\n",
       " '控': 5,\n",
       " '逃': 1,\n",
       " '王': 13,\n",
       " '驚': 1,\n",
       " '吸': 1,\n",
       " '後': 13,\n",
       " '摩': 2,\n",
       " '量': 2,\n",
       " '盜': 1,\n",
       " '就': 2,\n",
       " '此': 6,\n",
       " '巢': 1,\n",
       " '揮': 1,\n",
       " '糾': 1,\n",
       " '圖': 1,\n",
       " '於': 14,\n",
       " '風': 2,\n",
       " '謁': 2,\n",
       " '邊': 1,\n",
       " '目': 3,\n",
       " '背': 1,\n",
       " '造': 1,\n",
       " '幸': 1,\n",
       " '末': 5,\n",
       " '軍': 25,\n",
       " '偷': 2,\n",
       " '耐': 7,\n",
       " '崔': 3,\n",
       " '推': 2,\n",
       " '放': 4,\n",
       " '出': 7,\n",
       " '塞': 1,\n",
       " '里': 13,\n",
       " '營': 4,\n",
       " '感': 2,\n",
       " '好': 2,\n",
       " '實': 1,\n",
       " '途': 3,\n",
       " '達': 8,\n",
       " '履': 1,\n",
       " '士': 3,\n",
       " '咐': 1,\n",
       " '滅': 1,\n",
       " '奉': 1,\n",
       " '迷': 1,\n",
       " '深': 4,\n",
       " '金': 7,\n",
       " '也': 2,\n",
       " '瑞': 6,\n",
       " '雙': 3,\n",
       " '趕': 9,\n",
       " '竟': 1,\n",
       " '可': 1,\n",
       " '關': 1,\n",
       " '玫': 1,\n",
       " '它': 2,\n",
       " '復': 2,\n",
       " '毒': 1,\n",
       " '書': 1,\n",
       " '窟': 1,\n",
       " '警': 1,\n",
       " '漢': 1,\n",
       " '醒': 1,\n",
       " '戒': 40,\n",
       " '傷': 7,\n",
       " '首': 4,\n",
       " '襲': 7,\n",
       " '了': 35,\n",
       " '告': 2,\n",
       " '探': 1,\n",
       " '流': 1,\n",
       " '洛': 13,\n",
       " '得': 11,\n",
       " '責': 1,\n",
       " '打': 1,\n",
       " '大': 17,\n",
       " '望': 2,\n",
       " '連': 3,\n",
       " '安': 11,\n",
       " '影': 4,\n",
       " '計': 2,\n",
       " '尾': 3,\n",
       " '況': 2,\n",
       " '生': 6,\n",
       " '治': 1,\n",
       " '執': 1,\n",
       " '擒': 1,\n",
       " '代': 1,\n",
       " '政': 1,\n",
       " '攀': 1,\n",
       " '遇': 6,\n",
       " '呼': 1,\n",
       " '掩': 1,\n",
       " '事': 2,\n",
       " '迪': 7,\n",
       " '方': 5,\n",
       " '派': 2,\n",
       " '欲': 2,\n",
       " '失': 8,\n",
       " '河': 3,\n",
       " '返': 6,\n",
       " '支': 5,\n",
       " '又': 2,\n",
       " '面': 4,\n",
       " '世': 4,\n",
       " '神': 2,\n",
       " '示': 2,\n",
       " '值': 1,\n",
       " '猛': 1,\n",
       " '嗣': 1,\n",
       " '苟': 5,\n",
       " '誤': 2,\n",
       " '證': 1,\n",
       " '咕': 13,\n",
       " '散': 1,\n",
       " '奪': 6,\n",
       " '各': 1,\n",
       " '內': 4,\n",
       " '落': 5,\n",
       " '旦': 1,\n",
       " '阻': 2,\n",
       " '年': 1,\n",
       " '持': 1,\n",
       " '遠': 6,\n",
       " '索': 11,\n",
       " '形': 1,\n",
       " '曼': 16,\n",
       " '伊': 12,\n",
       " '敗': 5,\n",
       " '晨': 2,\n",
       " '他': 35,\n",
       " '件': 1,\n",
       " '薩': 16,\n",
       " '裡': 5,\n",
       " '料': 1,\n",
       " '始': 3,\n",
       " '編': 3,\n",
       " '夥': 2,\n",
       " '獨': 1,\n",
       " '手': 6,\n",
       " '決': 6,\n",
       " '蘭': 5,\n",
       " '救': 7,\n",
       " '撤': 3,\n",
       " '球': 3,\n",
       " '集': 4,\n",
       " '淵': 2,\n",
       " '效': 1,\n",
       " '往': 13,\n",
       " '處': 1,\n",
       " '隱': 1,\n",
       " '給': 1,\n",
       " '羅': 56,\n",
       " '境': 2,\n",
       " '惑': 1,\n",
       " '囚': 1,\n",
       " '呈': 1,\n",
       " '暗': 1,\n",
       " '秘': 2,\n",
       " '葛': 5,\n",
       " '威': 1,\n",
       " '赴': 3,\n",
       " '蹤': 3,\n",
       " '壞': 1,\n",
       " '瑟': 7,\n",
       " '離': 8,\n",
       " '紅': 1,\n",
       " '相': 1,\n",
       " '附': 2,\n",
       " '爾': 16,\n",
       " '盟': 2,\n",
       " '民': 2,\n",
       " '價': 2,\n",
       " '傾': 1,\n",
       " '友': 1,\n",
       " '匿': 1,\n",
       " '兵': 6,\n",
       " '二': 2,\n",
       " '嘗': 1,\n",
       " '試': 1,\n",
       " '多': 57,\n",
       " '擊': 16,\n",
       " '夏': 2,\n",
       " '精': 5,\n",
       " '能': 1,\n",
       " '找': 1,\n",
       " '地': 2,\n",
       " '拷': 1,\n",
       " '接': 1,\n",
       " '序': 1,\n",
       " '名': 2,\n",
       " '導': 6,\n",
       " '敍': 1,\n",
       " '發': 14,\n",
       " '一': 18,\n",
       " '峙': 2,\n",
       " '壁': 1,\n",
       " '垮': 1,\n",
       " '增': 1,\n",
       " '回': 12,\n",
       " '程': 2,\n",
       " '說': 2,\n",
       " '否': 1,\n",
       " '纏': 1,\n",
       " '峭': 1,\n",
       " '束': 1,\n",
       " '響': 2,\n",
       " '來': 8,\n",
       " '注': 1,\n",
       " '另': 2,\n",
       " '翻': 1,\n",
       " '看': 3,\n",
       " '直': 2,\n",
       " '強': 6,\n",
       " '慕': 1,\n",
       " '採': 1,\n",
       " '向': 8,\n",
       " '墮': 1,\n",
       " '的': 77,\n",
       " '熱': 1,\n",
       " '個': 1,\n",
       " '意': 2,\n",
       " '格': 9,\n",
       " '言': 4,\n",
       " '制': 7,\n",
       " '現': 10,\n",
       " '悲': 2,\n",
       " '遣': 1,\n",
       " '即': 1,\n",
       " '棄': 4,\n",
       " '援': 6,\n",
       " '促': 1,\n",
       " '留': 1,\n",
       " '辛': 4,\n",
       " '察': 1,\n",
       " '嚮': 1,\n",
       " '獲': 4,\n",
       " '再': 4,\n",
       " '觸': 1,\n",
       " '整': 1,\n",
       " '皮': 20,\n",
       " '雲': 1,\n",
       " '釋': 2,\n",
       " '納': 2,\n",
       " '願': 1,\n",
       " '國': 4,\n",
       " '被': 23,\n",
       " '姆': 21,\n",
       " '麥': 4,\n",
       " '恢': 1,\n",
       " '尋': 1,\n",
       " '危': 2,\n",
       " '備': 3,\n",
       " '魔': 51,\n",
       " '經': 2,\n",
       " '措': 1,\n",
       " '到': 21,\n",
       " '布': 2,\n",
       " '擋': 2,\n",
       " '舉': 1,\n",
       " '由': 2,\n",
       " '甥': 1,\n",
       " '與': 12,\n",
       " '伏': 3,\n",
       " '之': 6,\n",
       " '急': 5,\n",
       " '真': 3,\n",
       " '德': 3,\n",
       " '下': 10,\n",
       " '動': 2,\n",
       " '將': 11,\n",
       " '務': 2,\n",
       " '甲': 1,\n",
       " '創': 3,\n",
       " '守': 10,\n",
       " '眾': 1,\n",
       " '最': 5,\n",
       " '晶': 3,\n",
       " '攻': 6,\n",
       " '其': 1,\n",
       " '需': 1,\n",
       " '頭': 1,\n",
       " '天': 1,\n",
       " '重': 9,\n",
       " '兩': 5,\n",
       " '燄': 1,\n",
       " '們': 17,\n",
       " '心': 1,\n",
       " '戴': 5,\n",
       " '衝': 2,\n",
       " '塔': 2,\n",
       " '坑': 2,\n",
       " '半': 5}"
      ]
     },
     "execution_count": 107,
     "metadata": {},
     "output_type": "execute_result"
    }
   ],
   "source": [
    "# your code\n",
    "dict1={}\n",
    "for char1 in unique_chars:\n",
    "    count = 0\n",
    "    for char2 in unigram:\n",
    "        if char2 == char1:\n",
    "            count+=1\n",
    "    dict1[char1]=count\n",
    "dict1"
   ]
  },
  {
   "cell_type": "markdown",
   "metadata": {
    "id": "VYS3LAXC0aQj"
   },
   "source": [
    "4. 上題的 Dictionary 中出現最多次數的前 10 名是哪些字？各有多少次？\n",
    "\n",
    "* hint: 使用 sorted, 參考[Sorting HOW TO](https://docs.python.org/3/howto/sorting.html)"
   ]
  },
  {
   "cell_type": "code",
   "execution_count": 109,
   "metadata": {
    "id": "AgpxLnOk0aQj",
    "scrolled": true
   },
   "outputs": [
    {
     "name": "stdout",
     "output_type": "stream",
     "text": [
      "[('，', 167), ('。', 93), ('的', 77), ('多', 57), ('羅', 56), ('\\n', 53), ('魔', 51), ('人', 46), ('佛', 43), ('拉', 40), ('戒', 40), ('斯', 39), ('亞', 37), ('了', 35), ('他', 35), ('及', 33), ('在', 32), ('山', 28), ('道', 26), ('力', 26), ('夫', 25), ('甘', 25), ('軍', 25), ('岡', 24), ('被', 23), ('姆', 21), ('到', 21), ('皮', 20), ('聘', 19), ('一', 18), ('魯', 17), ('大', 17), ('們', 17), ('法', 16), ('曼', 16), ('薩', 16), ('爾', 16), ('擊', 16), ('至', 15), ('、', 14), ('隊', 14), ('為', 14), ('中', 14), ('於', 14), ('發', 14), ('鐸', 13), ('是', 13), ('嚕', 13), ('尊', 13), ('墨', 13), ('以', 13), ('靈', 13), ('梅', 13), ('希', 13), ('王', 13), ('後', 13), ('里', 13), ('洛', 13), ('咕', 13), ('往', 13), ('比', 12), ('那', 12), ('戰', 12), ('開', 12), ('伊', 12), ('回', 12), ('與', 12), ('行', 11), ('剛', 11), ('歐', 11), ('汗', 11), ('領', 11), ('倫', 11), ('死', 11), ('玟', 11), ('進', 11), ('獸', 11), ('頓', 11), ('入', 11), ('得', 11), ('安', 11), ('索', 11), ('將', 11), ('馬', 10), ('抵', 10), ('帶', 10), ('優', 10), ('過', 10), ('樹', 10), ('前', 10), ('現', 10), ('下', 10), ('守', 10), ('時', 9), ('知', 9), ('趕', 9), ('格', 9), ('重', 9), ('哈', 8), ('亦', 8), ('終', 8), ('上', 8), ('聖', 8), ('而', 8), ('都', 8), ('受', 8), ('波', 8), ('並', 8), ('莫', 8), ('達', 8), ('失', 8), ('離', 8), ('來', 8), ('向', 8), ('火', 7), ('會', 7), ('米', 7), ('戈', 7), ('巫', 7), ('提', 7), ('林', 7), ('從', 7), ('引', 7), ('等', 7), ('去', 7), ('殺', 7), ('同', 7), ('耐', 7), ('出', 7), ('金', 7), ('傷', 7), ('襲', 7), ('迪', 7), ('救', 7), ('瑟', 7), ('制', 7), ('所', 6), ('日', 6), ('因', 6), ('定', 6), ('森', 6), ('部', 6), ('隆', 6), ('亡', 6), ('隨', 6), ('愛', 6), ('自', 6), ('西', 6), ('征', 6), ('取', 6), ('此', 6), ('瑞', 6), ('生', 6), ('遇', 6), ('返', 6), ('奪', 6), ('遠', 6), ('手', 6), ('決', 6), ('兵', 6), ('導', 6), ('強', 6), ('援', 6), ('之', 6), ('攻', 6), ('不', 5), ('路', 5), ('南', 5), ('親', 5), ('貢', 5), ('透', 5), ('要', 5), ('作', 5), ('逐', 5), ('父', 5), ('盔', 5), ('勒', 5), ('奧', 5), ('吉', 5), ('門', 5), ('博', 5), ('議', 5), ('土', 5), ('靂', 5), ('鬍', 5), ('谷', 5), ('控', 5), ('末', 5), ('方', 5), ('支', 5), ('苟', 5), ('落', 5), ('敗', 5), ('裡', 5), ('蘭', 5), ('葛', 5), ('精', 5), ('急', 5), ('最', 5), ('兩', 5), ('戴', 5), ('半', 5), ('有', 4), ('正', 4), ('文', 4), ('讓', 4), ('\\t', 4), ('對', 4), ('黑', 4), ('屍', 4), ('子', 4), ('炎', 4), ('遂', 4), ('·', 4), ('絕', 4), ('走', 4), ('追', 4), ('陸', 4), ('城', 4), ('介', 4), ('無', 4), ('見', 4), ('者', 4), ('身', 4), ('聯', 4), ('史', 4), ('加', 4), ('情', 4), ('艾', 4), ('放', 4), ('營', 4), ('深', 4), ('首', 4), ('影', 4), ('面', 4), ('世', 4), ('內', 4), ('集', 4), ('言', 4), ('棄', 4), ('辛', 4), ('獲', 4), ('再', 4), ('國', 4), ('麥', 4), ('已', 3), ('她', 3), ('應', 3), ('但', 3), ('成', 3), ('輯', 3), ('護', 3), ('凱', 3), ('商', 3), ('準', 3), ('和', 3), ('續', 3), ('燃', 3), ('著', 3), ('驅', 3), ('原', 3), ('近', 3), ('指', 3), ('召', 3), ('劍', 3), ('討', 3), ('勢', 3), ('女', 3), ('1', 3), ('哥', 3), ('騎', 3), ('間', 3), ('昂', 3), ('任', 3), ('目', 3), ('崔', 3), ('途', 3), ('士', 3), ('雙', 3), ('連', 3), ('尾', 3), ('河', 3), ('始', 3), ('編', 3), ('撤', 3), ('球', 3), ('赴', 3), ('蹤', 3), ('看', 3), ('備', 3), ('伏', 3), ('真', 3), ('德', 3), ('創', 3), ('晶', 3), ('鑄', 2), ('劃', 2), ('抗', 2), ('展', 2), ('沒', 2), ('斷', 2), ('類', 2), ('奇', 2), ('服', 2), ('永', 2), ('卡', 2), ('摧', 2), ('令', 2), ('除', 2), ('報', 2), ('起', 2), ('白', 2), ('忠', 2), ('灰', 2), ('渡', 2), ('兒', 2), ('巴', 2), ('奮', 2), ('千', 2), ('明', 2), ('袍', 2), ('電', 2), ('拯', 2), ('退', 2), ('港', 2), ('燒', 2), ('師', 2), ('我', 2), ('埃', 2), ('分', 2), ('悉', 2), ('越', 2), ('用', 2), ('保', 2), ('岸', 2), ('謀', 2), ('聚', 2), ('請', 2), ('這', 2), ('」', 2), ('切', 2), ('認', 2), ('爆', 2), ('組', 2), ('遭', 2), ('拒', 2), ('家', 2), ('礦', 2), ('露', 2), ('繼', 2), ('命', 2), ('爭', 2), ('策', 2), ('漸', 2), ('本', 2), ('次', 2), ('船', 2), ('墜', 2), ('述', 2), ('求', 2), ('結', 2), ('「', 2), ('迎', 2), ('客', 2), ('講', 2), ('查', 2), ('毀', 2), ('伴', 2), ('克', 2), ('理', 2), ('破', 2), ('當', 2), ('巧', 2), ('誘', 2), ('橫', 2), ('沿', 2), ('擄', 2), ('摩', 2), ('量', 2), ('就', 2), ('風', 2), ('謁', 2), ('偷', 2), ('推', 2), ('感', 2), ('好', 2), ('也', 2), ('它', 2), ('復', 2), ('告', 2), ('望', 2), ('計', 2), ('況', 2), ('事', 2), ('派', 2), ('欲', 2), ('又', 2), ('神', 2), ('示', 2), ('誤', 2), ('阻', 2), ('晨', 2), ('夥', 2), ('淵', 2), ('境', 2), ('秘', 2), ('附', 2), ('盟', 2), ('民', 2), ('價', 2), ('二', 2), ('夏', 2), ('地', 2), ('名', 2), ('峙', 2), ('程', 2), ('說', 2), ('響', 2), ('另', 2), ('直', 2), ('意', 2), ('悲', 2), ('釋', 2), ('納', 2), ('危', 2), ('經', 2), ('布', 2), ('擋', 2), ('由', 2), ('動', 2), ('務', 2), ('衝', 2), ('塔', 2), ('坑', 2), ('惜', 1), ('全', 1), ('合', 1), ('朝', 1), ('牽', 1), ('堅', 1), ('據', 1), ('堵', 1), ('解', 1), ('翌', 1), ('住', 1), ('懇', 1), ('夕', 1), ('難', 1), ('典', 1), ('唯', 1), ('登', 1), ('句', 1), ('震', 1), ('殲', 1), ('狼', 1), ('堂', 1), ('烽', 1), ('岩', 1), ('慶', 1), ('昏', 1), ('攝', 1), ('場', 1), ('莽', 1), ('儘', 1), ('常', 1), ('興', 1), ('問', 1), ('點', 1), ('使', 1), ('穴', 1), ('夜', 1), ('六', 1), ('機', 1), ('滿', 1), ('乘', 1), ('非', 1), ('便', 1), ('帕', 1), ('丟', 1), ('陰', 1), ('跌', 1), ('式', 1), ('懸', 1), ('怒', 1), ('臨', 1), ('曲', 1), ('施', 1), ('還', 1), ('利', 1), ('妖', 1), ('囑', 1), ('禁', 1), ('立', 1), ('活', 1), ('萬', 1), ('鬥', 1), ('熔', 1), ('砍', 1), ('數', 1), ('牲', 1), ('‧', 1), ('冕', 1), ('游', 1), ('袂', 1), ('潰', 1), ('足', 1), ('諒', 1), ('銀', 1), ('圍', 1), ('仔', 1), ('茫', 1), ('仍', 1), ('誓', 1), ('預', 1), ('食', 1), ('橋', 1), ('衣', 1), ('小', 1), ('底', 1), ('犠', 1), ('勸', 1), ('何', 1), ('陣', 1), ('頂', 1), ('逝', 1), ('拾', 1), ('姪', 1), ('細', 1), ('巨', 1), ('穿', 1), ('己', 1), ('搶', 1), ('海', 1), ('鄉', 1), ('口', 1), ('些', 1), ('娶', 1), ('矮', 1), ('伐', 1), ('鷹', 1), ('建', 1), ('邀', 1), ('轉', 1), ('反', 1), ('針', 1), ('該', 1), ('清', 1), ('夢', 1), ('避', 1), ('平', 1), ('沼', 1), ('率', 1), ('渺', 1), ('躲', 1), ('靠', 1), ('澤', 1), ('雨', 1), ('外', 1), ('度', 1), ('咬', 1), ('撓', 1), ('團', 1), ('挺', 1), ('想', 1), ('速', 1), ('才', 1), ('熾', 1), ('鋒', 1), ('攜', 1), ('混', 1), ('喚', 1), ('草', 1), ('空', 1), ('悔', 1), ('崖', 1), ('參', 1), ('條', 1), ('叛', 1), ('隻', 1), ('歲', 1), ('突', 1), ('台', 1), ('脅', 1), ('瑪', 1), ('覆', 1), ('主', 1), ('木', 1), ('鬨', 1), ('役', 1), ('承', 1), ('圓', 1), ('北', 1), ('梯', 1), ('睹', 1), ('穩', 1), ('階', 1), ('駐', 1), ('消', 1), ('諾', 1), ('潛', 1), ('戀', 1), ('刺', 1), ('密', 1), ('插', 1), ('逃', 1), ('驚', 1), ('吸', 1), ('盜', 1), ('巢', 1), ('揮', 1), ('糾', 1), ('圖', 1), ('邊', 1), ('背', 1), ('造', 1), ('幸', 1), ('塞', 1), ('實', 1), ('履', 1), ('咐', 1), ('滅', 1), ('奉', 1), ('迷', 1), ('竟', 1), ('可', 1), ('關', 1), ('玫', 1), ('毒', 1), ('書', 1), ('窟', 1), ('警', 1), ('漢', 1), ('醒', 1), ('探', 1), ('流', 1), ('責', 1), ('打', 1), ('治', 1), ('執', 1), ('擒', 1), ('代', 1), ('政', 1), ('攀', 1), ('呼', 1), ('掩', 1), ('值', 1), ('猛', 1), ('嗣', 1), ('證', 1), ('散', 1), ('各', 1), ('旦', 1), ('年', 1), ('持', 1), ('形', 1), ('件', 1), ('料', 1), ('獨', 1), ('效', 1), ('處', 1), ('隱', 1), ('給', 1), ('惑', 1), ('囚', 1), ('呈', 1), ('暗', 1), ('威', 1), ('壞', 1), ('紅', 1), ('相', 1), ('傾', 1), ('友', 1), ('匿', 1), ('嘗', 1), ('試', 1), ('能', 1), ('找', 1), ('拷', 1), ('接', 1), ('序', 1), ('敍', 1), ('壁', 1), ('垮', 1), ('增', 1), ('否', 1), ('纏', 1), ('峭', 1), ('束', 1), ('注', 1), ('翻', 1), ('慕', 1), ('採', 1), ('墮', 1), ('熱', 1), ('個', 1), ('遣', 1), ('即', 1), ('促', 1), ('留', 1), ('察', 1), ('嚮', 1), ('觸', 1), ('整', 1), ('雲', 1), ('願', 1), ('恢', 1), ('尋', 1), ('措', 1), ('舉', 1), ('甥', 1), ('甲', 1), ('眾', 1), ('其', 1), ('需', 1), ('頭', 1), ('天', 1), ('燄', 1), ('心', 1)]\n"
     ]
    }
   ],
   "source": [
    "# your code\n",
    "sorted_dict = sorted(dict1.items(), key=lambda x: x[1],reverse=True)\n",
    "print(sorted_dict)\n"
   ]
  },
  {
   "cell_type": "markdown",
   "metadata": {
    "id": "Nlo2wZjhaYqd"
   },
   "source": [
    "#### It's your turn🫵\n",
    "寫一個程式，找出你的電話號碼中最大，最小的正整數（不含0）。\n",
    "> 範例輸入：\n",
    "```\n",
    "id = '41341017'\n",
    "```\n",
    "> 範例輸出：\n",
    "```\n",
    "Max:7\n",
    "Min:1\n",
    "```"
   ]
  },
  {
   "cell_type": "code",
   "execution_count": 114,
   "metadata": {
    "id": "RaSBOQyqaYqd"
   },
   "outputs": [
    {
     "name": "stdout",
     "output_type": "stream",
     "text": [
      "8\n",
      "2\n"
     ]
    }
   ],
   "source": [
    "# your code\n",
    "id = '5432358'\n",
    "maxx=0\n",
    "minn=9\n",
    "for digit in id:\n",
    "    if int(digit) > maxx: maxx=int(digit)\n",
    "    if int(digit) < minn: minn = int(digit)\n",
    "print(maxx)\n",
    "print(minn)\n"
   ]
  },
  {
   "cell_type": "markdown",
   "metadata": {
    "id": "Z-iCqgvcaYqd"
   },
   "source": [
    "#### It's your turn🫵\n",
    "如果將一組序號的數字兩兩一組依序取出，找出這組序號中最大，最小的正整數（不含0）。譬如 23034008 中，\"23, 30, 3, 34, 40, 8\" 最大的是 40, 最小的是 3。\n",
    "> 範例輸入：\n",
    "```\n",
    "id = '4134100570745000223'\n",
    "```\n",
    "> 範例輸出：\n",
    "```\n",
    "Max: 74\n",
    "Min: 2\n",
    "```"
   ]
  },
  {
   "cell_type": "code",
   "execution_count": 1,
   "metadata": {
    "id": "ShZJ1fi6aYqd"
   },
   "outputs": [
    {
     "name": "stdout",
     "output_type": "stream",
     "text": [
      "Max: 74\n",
      "Min: 2\n"
     ]
    },
    {
     "data": {
      "text/plain": [
       "[41, 13, 34, 41, 10, 0, 5, 57, 70, 7, 74, 45, 50, 0, 0, 2, 22, 23, 3]"
      ]
     },
     "execution_count": 1,
     "metadata": {},
     "output_type": "execute_result"
    }
   ],
   "source": [
    "id = '4134100570745000223'\n",
    "id_list = [int(id[i:i+2]) for i in range(0, len(id))]\n",
    "max_num = max([num for num in id_list if num != 0])\n",
    "min_num = min([num for num in id_list if num != 0])\n",
    "print(f\"Max: {max_num}\")\n",
    "print(f\"Min: {min_num}\")\n",
    "id_list"
   ]
  },
  {
   "cell_type": "markdown",
   "metadata": {
    "id": "yNFco3-PaYqe"
   },
   "source": [
    "#### It's your turn🫵\n",
    "name = '一二三'<br>\n",
    "id = 'o123456789'<br>\n",
    "寫一個程式，利用 list, insert or append or extend 等方法，<br>\n",
    "印出 'o12一345二678三9'"
   ]
  },
  {
   "cell_type": "code",
   "execution_count": 135,
   "metadata": {
    "id": "woUkxkAbaYqe"
   },
   "outputs": [
    {
     "name": "stdout",
     "output_type": "stream",
     "text": [
      "o12一345二678三9"
     ]
    }
   ],
   "source": [
    "# your code\n",
    "name = '一二三'\n",
    "name = list(name)\n",
    "id = 'o123456789'\n",
    "id = list(id)\n",
    "c=0\n",
    "for i in range(3,len(id)+len(name),4):\n",
    "    id.insert(i,name[c])\n",
    "    c+=1\n",
    "for i in id:\n",
    "    print(i,end=\"\")"
   ]
  },
  {
   "cell_type": "markdown",
   "metadata": {
    "id": "FTvMT1n7aYqe"
   },
   "source": [
    "---"
   ]
  },
  {
   "cell_type": "markdown",
   "metadata": {
    "id": "j6jg5Tx20aQi"
   },
   "source": [
    "### Recap"
   ]
  }
 ],
 "metadata": {
  "celltoolbar": "Slideshow",
  "colab": {
   "provenance": []
  },
  "kernelspec": {
   "display_name": "Python 3 (ipykernel)",
   "language": "python",
   "name": "python3"
  },
  "language_info": {
   "codemirror_mode": {
    "name": "ipython",
    "version": 3
   },
   "file_extension": ".py",
   "mimetype": "text/x-python",
   "name": "python",
   "nbconvert_exporter": "python",
   "pygments_lexer": "ipython3",
   "version": "3.10.9"
  }
 },
 "nbformat": 4,
 "nbformat_minor": 1
}
